{
 "cells": [
  {
   "cell_type": "markdown",
   "id": "b96f19f5-a26b-4f82-bf3d-a976fe786abd",
   "metadata": {},
   "source": [
    "The electronic report will be a Jupyter notebook in which the code cells will download a dataset (chosen from the list of options below) from the web, reproducibly and sensibly wrangle and clean, summarize and visualize the data, as well as appropriately answer a predictive question. Markdown cells will be used throughout the document to narrate the analysis to communicates the question asked, methods used and the conclusion reached."
   ]
  },
  {
   "cell_type": "markdown",
   "id": "8517e20a-a202-4f2b-ab74-df592371821e",
   "metadata": {},
   "source": [
    "For this project, you will need to formulate and answer a predictive question about a dataset of your choice using either classification or regression. \n",
    "\n",
    "Note that you are not allowed to pick a dataset that we have already used during lecture or in one of the assignments."
   ]
  },
  {
   "cell_type": "code",
   "execution_count": null,
   "id": "057a12c5-bf31-4bf9-87e0-b11e626be7e1",
   "metadata": {},
   "outputs": [],
   "source": []
  }
 ],
 "metadata": {
  "kernelspec": {
   "display_name": "R",
   "language": "R",
   "name": "ir"
  },
  "language_info": {
   "codemirror_mode": "r",
   "file_extension": ".r",
   "mimetype": "text/x-r-source",
   "name": "R",
   "pygments_lexer": "r",
   "version": "4.1.3"
  }
 },
 "nbformat": 4,
 "nbformat_minor": 5
}
