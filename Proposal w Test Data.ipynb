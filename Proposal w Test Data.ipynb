{
 "cells": [
  {
   "cell_type": "markdown",
   "id": "b96f19f5-a26b-4f82-bf3d-a976fe786abd",
   "metadata": {},
   "source": [
    "**Titanic Project Proposal: Will a Passenger Survive?** \n",
    "\n",
    "Group 33 Members: Chloe Vaughan, Susan Zhang, James Drover, Olivia Klassen, and Adeeb Khan"
   ]
  },
  {
   "cell_type": "markdown",
   "id": "8517e20a-a202-4f2b-ab74-df592371821e",
   "metadata": {},
   "source": [
    "**Introduction**\n",
    "\n",
    "The RMS Titanic sank 5 days into her first trip in the Atlantic Ocean. Less than half of the passengers survived, and many factors contributed to their survival or demise. In this project, we will read, wrangle, and classify the titanic dataset in order to predict if a given passenger would have died in the accident. We will create visualizations to illustrate which variables may have played the biggest role in the survival of passengers and crew. \n",
    "\n",
    "[The Titanic dataset](https://www.kaggle.com/competitions/titanic/data?select=train.csv) was obtained by Kaggle. The original dataset included the following columns: survival (survived), ticket class (pclass), name of passenger (name), sex, age (in years), number of siblings/spouses aboard the Titanic (sibsp), number of parents/children aboard the Titanic (parch), ticket number (ticket), and passenger fare (fare). \n",
    "\n",
    "**Question**: Will a given passenger survive the incident, given the observations for each predictor variable? \n",
    "We’ll use the predictors outlined in Methods to predict a passenger's survival status (survived or passed), for new observations based on the K-nearest neighbours model."
   ]
  },
  {
   "cell_type": "markdown",
   "id": "d813e964-6f04-4e5f-ab42-7ec761458bc5",
   "metadata": {},
   "source": [
    "**Methods**\n",
    "\n",
    "The Titanic dataset will be cleaned and wrangled into a tidy format, in which the following variables will be omitted: passenger ID, name, embarked, ticket. These variables likely have no effect on classification as they are all titles with little bearing on real world events. Cabin number was omitted due to an overwhelming number of NA values. As well, all rows within this new set that have N/A as a value will be removed, and labels renamed to be human readable.\n",
    "\n",
    "Survival, Class, Sex, Age, Number of Siblings on the Ship, Number of Parents/Children on the Ship, and fare will be used as variables for analysis. We will visualize the data using different types of visualizations to determine the impact of each on survival. Those with negligible impact on survival may be omitted from the prediction recipe, then the data will be trained to predict if a given passenger will survive."
   ]
  },
  {
   "cell_type": "markdown",
   "id": "428e261c-ba2c-46c0-b291-25235dbee791",
   "metadata": {},
   "source": [
    "**Expected Outcomes and Significance**\n",
    "\n",
    "We expect to be able to predict weather a given passenger survived or not based on the given observations.\n",
    "\n",
    "We anticipate sex and age to be the most important predictors of survival because women and children were presumably given priority in lifeboats at the time. Due to decreased physical fitness, those over the age of 50 are prone to more casualties. It is also believed that passengers who paid a larger fee will have a higher chance of surviving because wealthier customers were probably given priority while boarding lifeboats, as opposed to poor passengers, whose lives were given less consideration at the time.\n",
    "\n",
    "The significance of our findings will provide quantitative support for the hierarchy in which passengers were prioritized for leaving the Titanic. This analysis allows better understanding of the political environment during which the Titanic sank, and how this impacted the lives of those onboard. It is important to present and analyze this data so that we can think about how we might prioritize lives if a similar event were to occur.  How was the lifeboat distribution prioritzied, and was it fair? Would we do things differently now, seeing as we have evolved towards equity as a society?  \n"
   ]
  },
  {
   "cell_type": "markdown",
   "id": "e213ef6e-5997-4e67-8940-16d51ae66d14",
   "metadata": {},
   "source": [
    "**Preliminary Exploratory Data Analysis Below**"
   ]
  },
  {
   "cell_type": "code",
   "execution_count": 2,
   "id": "057a12c5-bf31-4bf9-87e0-b11e626be7e1",
   "metadata": {},
   "outputs": [
    {
     "name": "stderr",
     "output_type": "stream",
     "text": [
      "── \u001b[1mAttaching packages\u001b[22m ─────────────────────────────────────── tidyverse 1.3.1 ──\n",
      "\n",
      "\u001b[32m✔\u001b[39m \u001b[34mggplot2\u001b[39m 3.3.6     \u001b[32m✔\u001b[39m \u001b[34mpurrr  \u001b[39m 0.3.4\n",
      "\u001b[32m✔\u001b[39m \u001b[34mtibble \u001b[39m 3.1.7     \u001b[32m✔\u001b[39m \u001b[34mdplyr  \u001b[39m 1.0.9\n",
      "\u001b[32m✔\u001b[39m \u001b[34mtidyr  \u001b[39m 1.2.0     \u001b[32m✔\u001b[39m \u001b[34mstringr\u001b[39m 1.4.0\n",
      "\u001b[32m✔\u001b[39m \u001b[34mreadr  \u001b[39m 2.1.2     \u001b[32m✔\u001b[39m \u001b[34mforcats\u001b[39m 0.5.1\n",
      "\n",
      "── \u001b[1mConflicts\u001b[22m ────────────────────────────────────────── tidyverse_conflicts() ──\n",
      "\u001b[31m✖\u001b[39m \u001b[34mdplyr\u001b[39m::\u001b[32mfilter()\u001b[39m masks \u001b[34mstats\u001b[39m::filter()\n",
      "\u001b[31m✖\u001b[39m \u001b[34mdplyr\u001b[39m::\u001b[32mlag()\u001b[39m    masks \u001b[34mstats\u001b[39m::lag()\n",
      "\n",
      "── \u001b[1mAttaching packages\u001b[22m ────────────────────────────────────── tidymodels 1.0.0 ──\n",
      "\n",
      "\u001b[32m✔\u001b[39m \u001b[34mbroom       \u001b[39m 1.0.0     \u001b[32m✔\u001b[39m \u001b[34mrsample     \u001b[39m 1.0.0\n",
      "\u001b[32m✔\u001b[39m \u001b[34mdials       \u001b[39m 1.0.0     \u001b[32m✔\u001b[39m \u001b[34mtune        \u001b[39m 1.0.0\n",
      "\u001b[32m✔\u001b[39m \u001b[34minfer       \u001b[39m 1.0.2     \u001b[32m✔\u001b[39m \u001b[34mworkflows   \u001b[39m 1.0.0\n",
      "\u001b[32m✔\u001b[39m \u001b[34mmodeldata   \u001b[39m 1.0.0     \u001b[32m✔\u001b[39m \u001b[34mworkflowsets\u001b[39m 1.0.0\n",
      "\u001b[32m✔\u001b[39m \u001b[34mparsnip     \u001b[39m 1.0.0     \u001b[32m✔\u001b[39m \u001b[34myardstick   \u001b[39m 1.0.0\n",
      "\u001b[32m✔\u001b[39m \u001b[34mrecipes     \u001b[39m 1.0.1     \n",
      "\n",
      "── \u001b[1mConflicts\u001b[22m ───────────────────────────────────────── tidymodels_conflicts() ──\n",
      "\u001b[31m✖\u001b[39m \u001b[34mscales\u001b[39m::\u001b[32mdiscard()\u001b[39m masks \u001b[34mpurrr\u001b[39m::discard()\n",
      "\u001b[31m✖\u001b[39m \u001b[34mdplyr\u001b[39m::\u001b[32mfilter()\u001b[39m   masks \u001b[34mstats\u001b[39m::filter()\n",
      "\u001b[31m✖\u001b[39m \u001b[34mrecipes\u001b[39m::\u001b[32mfixed()\u001b[39m  masks \u001b[34mstringr\u001b[39m::fixed()\n",
      "\u001b[31m✖\u001b[39m \u001b[34mdplyr\u001b[39m::\u001b[32mlag()\u001b[39m      masks \u001b[34mstats\u001b[39m::lag()\n",
      "\u001b[31m✖\u001b[39m \u001b[34myardstick\u001b[39m::\u001b[32mspec()\u001b[39m masks \u001b[34mreadr\u001b[39m::spec()\n",
      "\u001b[31m✖\u001b[39m \u001b[34mrecipes\u001b[39m::\u001b[32mstep()\u001b[39m   masks \u001b[34mstats\u001b[39m::step()\n",
      "\u001b[34m•\u001b[39m Search for functions across packages at \u001b[32mhttps://www.tidymodels.org/find/\u001b[39m\n",
      "\n"
     ]
    }
   ],
   "source": [
    "#necessary libraries to install\n",
    "library(tidyverse)\n",
    "library(tidymodels)"
   ]
  },
  {
   "cell_type": "code",
   "execution_count": 3,
   "id": "e924fa88-07be-4a10-a88f-e58ab43cb3ea",
   "metadata": {},
   "outputs": [
    {
     "name": "stderr",
     "output_type": "stream",
     "text": [
      "\u001b[1mRows: \u001b[22m\u001b[34m891\u001b[39m \u001b[1mColumns: \u001b[22m\u001b[34m12\u001b[39m\n",
      "\u001b[36m──\u001b[39m \u001b[1mColumn specification\u001b[22m \u001b[36m────────────────────────────────────────────────────────\u001b[39m\n",
      "\u001b[1mDelimiter:\u001b[22m \",\"\n",
      "\u001b[31mchr\u001b[39m (5): Name, Sex, Ticket, Cabin, Embarked\n",
      "\u001b[32mdbl\u001b[39m (7): PassengerId, Survived, Pclass, Age, SibSp, Parch, Fare\n",
      "\n",
      "\u001b[36mℹ\u001b[39m Use `spec()` to retrieve the full column specification for this data.\n",
      "\u001b[36mℹ\u001b[39m Specify the column types or set `show_col_types = FALSE` to quiet this message.\n"
     ]
    },
    {
     "data": {
      "text/html": [
       "<table class=\"dataframe\">\n",
       "<caption>A tibble: 6 × 12</caption>\n",
       "<thead>\n",
       "\t<tr><th scope=col>PassengerId</th><th scope=col>Survived</th><th scope=col>Pclass</th><th scope=col>Name</th><th scope=col>Sex</th><th scope=col>Age</th><th scope=col>SibSp</th><th scope=col>Parch</th><th scope=col>Ticket</th><th scope=col>Fare</th><th scope=col>Cabin</th><th scope=col>Embarked</th></tr>\n",
       "\t<tr><th scope=col>&lt;dbl&gt;</th><th scope=col>&lt;dbl&gt;</th><th scope=col>&lt;dbl&gt;</th><th scope=col>&lt;chr&gt;</th><th scope=col>&lt;chr&gt;</th><th scope=col>&lt;dbl&gt;</th><th scope=col>&lt;dbl&gt;</th><th scope=col>&lt;dbl&gt;</th><th scope=col>&lt;chr&gt;</th><th scope=col>&lt;dbl&gt;</th><th scope=col>&lt;chr&gt;</th><th scope=col>&lt;chr&gt;</th></tr>\n",
       "</thead>\n",
       "<tbody>\n",
       "\t<tr><td>1</td><td>0</td><td>3</td><td>Braund, Mr. Owen Harris                            </td><td>male  </td><td>22</td><td>1</td><td>0</td><td>A/5 21171       </td><td> 7.2500</td><td>NA  </td><td>S</td></tr>\n",
       "\t<tr><td>2</td><td>1</td><td>1</td><td>Cumings, Mrs. John Bradley (Florence Briggs Thayer)</td><td>female</td><td>38</td><td>1</td><td>0</td><td>PC 17599        </td><td>71.2833</td><td>C85 </td><td>C</td></tr>\n",
       "\t<tr><td>3</td><td>1</td><td>3</td><td>Heikkinen, Miss. Laina                             </td><td>female</td><td>26</td><td>0</td><td>0</td><td>STON/O2. 3101282</td><td> 7.9250</td><td>NA  </td><td>S</td></tr>\n",
       "\t<tr><td>4</td><td>1</td><td>1</td><td>Futrelle, Mrs. Jacques Heath (Lily May Peel)       </td><td>female</td><td>35</td><td>1</td><td>0</td><td>113803          </td><td>53.1000</td><td>C123</td><td>S</td></tr>\n",
       "\t<tr><td>5</td><td>0</td><td>3</td><td>Allen, Mr. William Henry                           </td><td>male  </td><td>35</td><td>0</td><td>0</td><td>373450          </td><td> 8.0500</td><td>NA  </td><td>S</td></tr>\n",
       "\t<tr><td>6</td><td>0</td><td>3</td><td>Moran, Mr. James                                   </td><td>male  </td><td>NA</td><td>0</td><td>0</td><td>330877          </td><td> 8.4583</td><td>NA  </td><td>Q</td></tr>\n",
       "</tbody>\n",
       "</table>\n"
      ],
      "text/latex": [
       "A tibble: 6 × 12\n",
       "\\begin{tabular}{llllllllllll}\n",
       " PassengerId & Survived & Pclass & Name & Sex & Age & SibSp & Parch & Ticket & Fare & Cabin & Embarked\\\\\n",
       " <dbl> & <dbl> & <dbl> & <chr> & <chr> & <dbl> & <dbl> & <dbl> & <chr> & <dbl> & <chr> & <chr>\\\\\n",
       "\\hline\n",
       "\t 1 & 0 & 3 & Braund, Mr. Owen Harris                             & male   & 22 & 1 & 0 & A/5 21171        &  7.2500 & NA   & S\\\\\n",
       "\t 2 & 1 & 1 & Cumings, Mrs. John Bradley (Florence Briggs Thayer) & female & 38 & 1 & 0 & PC 17599         & 71.2833 & C85  & C\\\\\n",
       "\t 3 & 1 & 3 & Heikkinen, Miss. Laina                              & female & 26 & 0 & 0 & STON/O2. 3101282 &  7.9250 & NA   & S\\\\\n",
       "\t 4 & 1 & 1 & Futrelle, Mrs. Jacques Heath (Lily May Peel)        & female & 35 & 1 & 0 & 113803           & 53.1000 & C123 & S\\\\\n",
       "\t 5 & 0 & 3 & Allen, Mr. William Henry                            & male   & 35 & 0 & 0 & 373450           &  8.0500 & NA   & S\\\\\n",
       "\t 6 & 0 & 3 & Moran, Mr. James                                    & male   & NA & 0 & 0 & 330877           &  8.4583 & NA   & Q\\\\\n",
       "\\end{tabular}\n"
      ],
      "text/markdown": [
       "\n",
       "A tibble: 6 × 12\n",
       "\n",
       "| PassengerId &lt;dbl&gt; | Survived &lt;dbl&gt; | Pclass &lt;dbl&gt; | Name &lt;chr&gt; | Sex &lt;chr&gt; | Age &lt;dbl&gt; | SibSp &lt;dbl&gt; | Parch &lt;dbl&gt; | Ticket &lt;chr&gt; | Fare &lt;dbl&gt; | Cabin &lt;chr&gt; | Embarked &lt;chr&gt; |\n",
       "|---|---|---|---|---|---|---|---|---|---|---|---|\n",
       "| 1 | 0 | 3 | Braund, Mr. Owen Harris                             | male   | 22 | 1 | 0 | A/5 21171        |  7.2500 | NA   | S |\n",
       "| 2 | 1 | 1 | Cumings, Mrs. John Bradley (Florence Briggs Thayer) | female | 38 | 1 | 0 | PC 17599         | 71.2833 | C85  | C |\n",
       "| 3 | 1 | 3 | Heikkinen, Miss. Laina                              | female | 26 | 0 | 0 | STON/O2. 3101282 |  7.9250 | NA   | S |\n",
       "| 4 | 1 | 1 | Futrelle, Mrs. Jacques Heath (Lily May Peel)        | female | 35 | 1 | 0 | 113803           | 53.1000 | C123 | S |\n",
       "| 5 | 0 | 3 | Allen, Mr. William Henry                            | male   | 35 | 0 | 0 | 373450           |  8.0500 | NA   | S |\n",
       "| 6 | 0 | 3 | Moran, Mr. James                                    | male   | NA | 0 | 0 | 330877           |  8.4583 | NA   | Q |\n",
       "\n"
      ],
      "text/plain": [
       "  PassengerId Survived Pclass\n",
       "1 1           0        3     \n",
       "2 2           1        1     \n",
       "3 3           1        3     \n",
       "4 4           1        1     \n",
       "5 5           0        3     \n",
       "6 6           0        3     \n",
       "  Name                                                Sex    Age SibSp Parch\n",
       "1 Braund, Mr. Owen Harris                             male   22  1     0    \n",
       "2 Cumings, Mrs. John Bradley (Florence Briggs Thayer) female 38  1     0    \n",
       "3 Heikkinen, Miss. Laina                              female 26  0     0    \n",
       "4 Futrelle, Mrs. Jacques Heath (Lily May Peel)        female 35  1     0    \n",
       "5 Allen, Mr. William Henry                            male   35  0     0    \n",
       "6 Moran, Mr. James                                    male   NA  0     0    \n",
       "  Ticket           Fare    Cabin Embarked\n",
       "1 A/5 21171         7.2500 NA    S       \n",
       "2 PC 17599         71.2833 C85   C       \n",
       "3 STON/O2. 3101282  7.9250 NA    S       \n",
       "4 113803           53.1000 C123  S       \n",
       "5 373450            8.0500 NA    S       \n",
       "6 330877            8.4583 NA    Q       "
      ]
     },
     "metadata": {},
     "output_type": "display_data"
    }
   ],
   "source": [
    "boat_data <- read_csv(\"data/train.csv\")\n",
    "head(boat_data)"
   ]
  },
  {
   "cell_type": "code",
   "execution_count": 4,
   "id": "dfec793c-8360-4ed5-8e1d-cb96985fdcba",
   "metadata": {},
   "outputs": [],
   "source": [
    "#getting rid of PassengerId,Name, Embarked,Ticket and Cabin:\n",
    "boat_data_selected <- boat_data |>\n",
    "    select(-PassengerId, -Name, -Embarked, -Ticket, -Cabin)"
   ]
  },
  {
   "cell_type": "code",
   "execution_count": 5,
   "id": "f6a39722-1f52-496d-8158-98b7d54cd452",
   "metadata": {},
   "outputs": [],
   "source": [
    "#renaming columns\n",
    "\n",
    "colnames(boat_data_selected) = c(\"Survived\", \"Passenger_Class\", \"Sex\", \"Age\", \"Number0fSiblings\", \"NumberofParents_children\", \"Fare\")"
   ]
  },
  {
   "cell_type": "code",
   "execution_count": 6,
   "id": "11a1e535-1e7f-4893-ae0f-954727cf0b03",
   "metadata": {},
   "outputs": [
    {
     "data": {
      "text/html": [
       "891"
      ],
      "text/latex": [
       "891"
      ],
      "text/markdown": [
       "891"
      ],
      "text/plain": [
       "[1] 891"
      ]
     },
     "metadata": {},
     "output_type": "display_data"
    }
   ],
   "source": [
    "#adding a column for sex in binary(for it to work with the knn model)\n",
    "\n",
    "boat_data_binary <- boat_data_selected |>\n",
    "    mutate(sex_binary = ifelse(Sex == \"male\", 1, ifelse(Sex == \"female\", 0, NA)))\n",
    "nrow(boat_data_binary)\n"
   ]
  },
  {
   "cell_type": "code",
   "execution_count": 7,
   "id": "8a08def4-a468-4153-8a49-767e08e40beb",
   "metadata": {
    "tags": []
   },
   "outputs": [
    {
     "data": {
      "text/html": [
       "714"
      ],
      "text/latex": [
       "714"
      ],
      "text/markdown": [
       "714"
      ],
      "text/plain": [
       "[1] 714"
      ]
     },
     "metadata": {},
     "output_type": "display_data"
    },
    {
     "data": {
      "text/html": [
       "<table class=\"dataframe\">\n",
       "<caption>A tibble: 6 × 8</caption>\n",
       "<thead>\n",
       "\t<tr><th scope=col>Survived</th><th scope=col>Passenger_Class</th><th scope=col>Sex</th><th scope=col>Age</th><th scope=col>Number0fSiblings</th><th scope=col>NumberofParents_children</th><th scope=col>Fare</th><th scope=col>sex_binary</th></tr>\n",
       "\t<tr><th scope=col>&lt;fct&gt;</th><th scope=col>&lt;dbl&gt;</th><th scope=col>&lt;chr&gt;</th><th scope=col>&lt;dbl&gt;</th><th scope=col>&lt;dbl&gt;</th><th scope=col>&lt;dbl&gt;</th><th scope=col>&lt;dbl&gt;</th><th scope=col>&lt;dbl&gt;</th></tr>\n",
       "</thead>\n",
       "<tbody>\n",
       "\t<tr><td>0</td><td>3</td><td>male  </td><td>22</td><td>1</td><td>0</td><td> 7.2500</td><td>1</td></tr>\n",
       "\t<tr><td>1</td><td>1</td><td>female</td><td>38</td><td>1</td><td>0</td><td>71.2833</td><td>0</td></tr>\n",
       "\t<tr><td>1</td><td>3</td><td>female</td><td>26</td><td>0</td><td>0</td><td> 7.9250</td><td>0</td></tr>\n",
       "\t<tr><td>1</td><td>1</td><td>female</td><td>35</td><td>1</td><td>0</td><td>53.1000</td><td>0</td></tr>\n",
       "\t<tr><td>0</td><td>3</td><td>male  </td><td>35</td><td>0</td><td>0</td><td> 8.0500</td><td>1</td></tr>\n",
       "\t<tr><td>0</td><td>1</td><td>male  </td><td>54</td><td>0</td><td>0</td><td>51.8625</td><td>1</td></tr>\n",
       "</tbody>\n",
       "</table>\n"
      ],
      "text/latex": [
       "A tibble: 6 × 8\n",
       "\\begin{tabular}{llllllll}\n",
       " Survived & Passenger\\_Class & Sex & Age & Number0fSiblings & NumberofParents\\_children & Fare & sex\\_binary\\\\\n",
       " <fct> & <dbl> & <chr> & <dbl> & <dbl> & <dbl> & <dbl> & <dbl>\\\\\n",
       "\\hline\n",
       "\t 0 & 3 & male   & 22 & 1 & 0 &  7.2500 & 1\\\\\n",
       "\t 1 & 1 & female & 38 & 1 & 0 & 71.2833 & 0\\\\\n",
       "\t 1 & 3 & female & 26 & 0 & 0 &  7.9250 & 0\\\\\n",
       "\t 1 & 1 & female & 35 & 1 & 0 & 53.1000 & 0\\\\\n",
       "\t 0 & 3 & male   & 35 & 0 & 0 &  8.0500 & 1\\\\\n",
       "\t 0 & 1 & male   & 54 & 0 & 0 & 51.8625 & 1\\\\\n",
       "\\end{tabular}\n"
      ],
      "text/markdown": [
       "\n",
       "A tibble: 6 × 8\n",
       "\n",
       "| Survived &lt;fct&gt; | Passenger_Class &lt;dbl&gt; | Sex &lt;chr&gt; | Age &lt;dbl&gt; | Number0fSiblings &lt;dbl&gt; | NumberofParents_children &lt;dbl&gt; | Fare &lt;dbl&gt; | sex_binary &lt;dbl&gt; |\n",
       "|---|---|---|---|---|---|---|---|\n",
       "| 0 | 3 | male   | 22 | 1 | 0 |  7.2500 | 1 |\n",
       "| 1 | 1 | female | 38 | 1 | 0 | 71.2833 | 0 |\n",
       "| 1 | 3 | female | 26 | 0 | 0 |  7.9250 | 0 |\n",
       "| 1 | 1 | female | 35 | 1 | 0 | 53.1000 | 0 |\n",
       "| 0 | 3 | male   | 35 | 0 | 0 |  8.0500 | 1 |\n",
       "| 0 | 1 | male   | 54 | 0 | 0 | 51.8625 | 1 |\n",
       "\n"
      ],
      "text/plain": [
       "  Survived Passenger_Class Sex    Age Number0fSiblings NumberofParents_children\n",
       "1 0        3               male   22  1                0                       \n",
       "2 1        1               female 38  1                0                       \n",
       "3 1        3               female 26  0                0                       \n",
       "4 1        1               female 35  1                0                       \n",
       "5 0        3               male   35  0                0                       \n",
       "6 0        1               male   54  0                0                       \n",
       "  Fare    sex_binary\n",
       "1  7.2500 1         \n",
       "2 71.2833 0         \n",
       "3  7.9250 0         \n",
       "4 53.1000 0         \n",
       "5  8.0500 1         \n",
       "6 51.8625 1         "
      ]
     },
     "metadata": {},
     "output_type": "display_data"
    }
   ],
   "source": [
    "#removing the columns with NA values for age.\n",
    "#we see we only loose about 20 percent of the original 891 row dataset\n",
    "\n",
    "boat_data_NA <- boat_data_binary |>\n",
    "    filter(!is.na(Age)) |>\n",
    "    mutate(Survived = as_factor(Survived))\n",
    "\n",
    "nrow(boat_data_NA)\n",
    "head(boat_data_NA)"
   ]
  },
  {
   "cell_type": "code",
   "execution_count": 8,
   "id": "3cce4784-0df8-4efe-a5fd-8265b01c71f0",
   "metadata": {},
   "outputs": [],
   "source": [
    "set.seed(911)\n",
    "#splitting the wrangled data into test and training sets\n",
    "#we chose a 70-30 percent split to ensure our model is accurate at the same time as making sure the testing is accurate.\n",
    "\n",
    "#boat_split <- initial_split(boat_data_NA, prop = 0.7, strata = Survived)\n",
    "#boat_train <- training(boat_split)\n",
    "#boat_test <- testing(boat_split)\n",
    "boat_train <- boat_data_NA"
   ]
  },
  {
   "cell_type": "code",
   "execution_count": 9,
   "id": "21ae39c4-d691-412d-a70e-c926023a6262",
   "metadata": {},
   "outputs": [
    {
     "data": {
      "image/png": "[encoded data removed]",
      "text/plain": [
       "plot without title"
      ]
     },
     "metadata": {
      "image/png": {
       "height": 420,
       "width": 420
      }
     },
     "output_type": "display_data"
    }
   ],
   "source": [
    "\n",
    "# visualisation (scatter plot) of the Fare vs age of passenger, colouring by sex.\n",
    "\n",
    "fare_plot <- boat_train |> ggplot(aes(x = Age, y = Fare, colour = Sex)) + \n",
    "    geom_point() + \n",
    "    labs(x = \"Age of passenger\", y = \"Boat Fare (insert units)\", colour = \"Sex\") +\n",
    "    ggtitle(\"Relationship Between Age and Fare Price\")\n",
    "\n",
    "fare_plot #Age appears to have no effect on fare price, with the exception of a few outliers"
   ]
  },
  {
   "cell_type": "code",
   "execution_count": 10,
   "id": "17e0075a-420d-4d0a-8137-0344dcb5e649",
   "metadata": {},
   "outputs": [
    {
     "data": {
      "image/png": "[encoded data removed]",
      "text/plain": [
       "plot without title"
      ]
     },
     "metadata": {
      "image/png": {
       "height": 420,
       "width": 420
      }
     },
     "output_type": "display_data"
    }
   ],
   "source": [
    "\n",
    "#bar graph to display how many people survived vs how many did not.(percentage of survival)\n",
    "\n",
    "temp_data_graph <- boat_train |>\n",
    "    mutate(Survived_char = ifelse(Survived == 1, \"Survived\", ifelse(Survived == 0, \"Did not survive\", NA)))\n",
    "\n",
    "survival_bar_plot <- ggplot(temp_data_graph, aes(x = Sex, fill = as_factor(Survived_char))) +\n",
    "    geom_bar(position = \"fill\") +\n",
    "    labs(x = \"Sex of passenger\", y = \"Percentage of survival\", fill = \"Survival\")\n",
    "\n",
    "survival_bar_plot"
   ]
  },
  {
   "cell_type": "code",
   "execution_count": 11,
   "id": "5c643683-606f-45b4-99c8-b59ee2b63d9e",
   "metadata": {},
   "outputs": [
    {
     "data": {
      "text/html": [
       "<table class=\"dataframe\">\n",
       "<caption>A tibble: 2 × 2</caption>\n",
       "<thead>\n",
       "\t<tr><th scope=col>Sex</th><th scope=col>Number_of_passengers</th></tr>\n",
       "\t<tr><th scope=col>&lt;chr&gt;</th><th scope=col>&lt;int&gt;</th></tr>\n",
       "</thead>\n",
       "<tbody>\n",
       "\t<tr><td>female</td><td>261</td></tr>\n",
       "\t<tr><td>male  </td><td>453</td></tr>\n",
       "</tbody>\n",
       "</table>\n"
      ],
      "text/latex": [
       "A tibble: 2 × 2\n",
       "\\begin{tabular}{ll}\n",
       " Sex & Number\\_of\\_passengers\\\\\n",
       " <chr> & <int>\\\\\n",
       "\\hline\n",
       "\t female & 261\\\\\n",
       "\t male   & 453\\\\\n",
       "\\end{tabular}\n"
      ],
      "text/markdown": [
       "\n",
       "A tibble: 2 × 2\n",
       "\n",
       "| Sex &lt;chr&gt; | Number_of_passengers &lt;int&gt; |\n",
       "|---|---|\n",
       "| female | 261 |\n",
       "| male   | 453 |\n",
       "\n"
      ],
      "text/plain": [
       "  Sex    Number_of_passengers\n",
       "1 female 261                 \n",
       "2 male   453                 "
      ]
     },
     "metadata": {},
     "output_type": "display_data"
    }
   ],
   "source": [
    "\n",
    "#summary table for how many men and women are there in the training data.\n",
    "\n",
    "summary_table_sex <- boat_train |>\n",
    "    group_by(Sex) |>\n",
    "    summarize(Number_of_passengers = n())\n",
    "\n",
    "summary_table_sex\n",
    "\n",
    "#this table emphasizes the importance of looking at the proportion of women that survived versus women that passed\n",
    "#more men boarded the ship, thus more men having passed than women is not surprising, proportion of survival within each sex is important"
   ]
  },
  {
   "cell_type": "code",
   "execution_count": 12,
   "id": "6e4633fc-6faf-4579-b2ef-c35e05339be5",
   "metadata": {},
   "outputs": [
    {
     "data": {
      "text/html": [
       "<table class=\"dataframe\">\n",
       "<caption>A tibble: 1 × 1</caption>\n",
       "<thead>\n",
       "\t<tr><th scope=col>mean_age</th></tr>\n",
       "\t<tr><th scope=col>&lt;dbl&gt;</th></tr>\n",
       "</thead>\n",
       "<tbody>\n",
       "\t<tr><td>29.69912</td></tr>\n",
       "</tbody>\n",
       "</table>\n"
      ],
      "text/latex": [
       "A tibble: 1 × 1\n",
       "\\begin{tabular}{l}\n",
       " mean\\_age\\\\\n",
       " <dbl>\\\\\n",
       "\\hline\n",
       "\t 29.69912\\\\\n",
       "\\end{tabular}\n"
      ],
      "text/markdown": [
       "\n",
       "A tibble: 1 × 1\n",
       "\n",
       "| mean_age &lt;dbl&gt; |\n",
       "|---|\n",
       "| 29.69912 |\n",
       "\n"
      ],
      "text/plain": [
       "  mean_age\n",
       "1 29.69912"
      ]
     },
     "metadata": {},
     "output_type": "display_data"
    },
    {
     "data": {
      "text/html": [
       "<table class=\"dataframe\">\n",
       "<caption>A tibble: 3 × 2</caption>\n",
       "<thead>\n",
       "\t<tr><th scope=col>Passenger_Class</th><th scope=col>Number_of_passengers</th></tr>\n",
       "\t<tr><th scope=col>&lt;dbl&gt;</th><th scope=col>&lt;int&gt;</th></tr>\n",
       "</thead>\n",
       "<tbody>\n",
       "\t<tr><td>1</td><td>186</td></tr>\n",
       "\t<tr><td>2</td><td>173</td></tr>\n",
       "\t<tr><td>3</td><td>355</td></tr>\n",
       "</tbody>\n",
       "</table>\n"
      ],
      "text/latex": [
       "A tibble: 3 × 2\n",
       "\\begin{tabular}{ll}\n",
       " Passenger\\_Class & Number\\_of\\_passengers\\\\\n",
       " <dbl> & <int>\\\\\n",
       "\\hline\n",
       "\t 1 & 186\\\\\n",
       "\t 2 & 173\\\\\n",
       "\t 3 & 355\\\\\n",
       "\\end{tabular}\n"
      ],
      "text/markdown": [
       "\n",
       "A tibble: 3 × 2\n",
       "\n",
       "| Passenger_Class &lt;dbl&gt; | Number_of_passengers &lt;int&gt; |\n",
       "|---|---|\n",
       "| 1 | 186 |\n",
       "| 2 | 173 |\n",
       "| 3 | 355 |\n",
       "\n"
      ],
      "text/plain": [
       "  Passenger_Class Number_of_passengers\n",
       "1 1               186                 \n",
       "2 2               173                 \n",
       "3 3               355                 "
      ]
     },
     "metadata": {},
     "output_type": "display_data"
    },
    {
     "data": {
      "text/html": [
       "<table class=\"dataframe\">\n",
       "<caption>A tibble: 1 × 1</caption>\n",
       "<thead>\n",
       "\t<tr><th scope=col>mean_children</th></tr>\n",
       "\t<tr><th scope=col>&lt;dbl&gt;</th></tr>\n",
       "</thead>\n",
       "<tbody>\n",
       "\t<tr><td>0.4313725</td></tr>\n",
       "</tbody>\n",
       "</table>\n"
      ],
      "text/latex": [
       "A tibble: 1 × 1\n",
       "\\begin{tabular}{l}\n",
       " mean\\_children\\\\\n",
       " <dbl>\\\\\n",
       "\\hline\n",
       "\t 0.4313725\\\\\n",
       "\\end{tabular}\n"
      ],
      "text/markdown": [
       "\n",
       "A tibble: 1 × 1\n",
       "\n",
       "| mean_children &lt;dbl&gt; |\n",
       "|---|\n",
       "| 0.4313725 |\n",
       "\n"
      ],
      "text/plain": [
       "  mean_children\n",
       "1 0.4313725    "
      ]
     },
     "metadata": {},
     "output_type": "display_data"
    }
   ],
   "source": [
    "\n",
    "#Adding summary table for age (years) for training data\n",
    "\n",
    "summary_table_age <- boat_train |>\n",
    "    summarize(mean_age = mean(Age))\n",
    "\n",
    "summary_table_age\n",
    "\n",
    "#adding a summary table for the number of passengers in each class for training data:\n",
    "\n",
    "summary_table_class <- boat_train |>\n",
    "    group_by(Passenger_Class) |>\n",
    "    summarize(Number_of_passengers = n())\n",
    "\n",
    "summary_table_class\n",
    "\n",
    "#Adding summary table for number of children for training data\n",
    "\n",
    "summary_table_children <- boat_train |>\n",
    "    summarize(mean_children = mean(NumberofParents_children))\n",
    "\n",
    "summary_table_children"
   ]
  },
  {
   "cell_type": "code",
   "execution_count": 13,
   "id": "211f477b-5a86-41b6-a979-7bd83566ecfa",
   "metadata": {},
   "outputs": [],
   "source": [
    "set.seed(911)\n",
    "\n",
    "boat_train_model <- boat_train |>\n",
    "    select(-Sex)\n",
    "#Now we start the process of developing a model to predict weather a given passenger survived the titanic crash.\n",
    "\n",
    "boat_spec_tune <- knn_spec <- nearest_neighbor(weight_func = \"rectangular\", neighbors = tune()) |>\n",
    "  set_engine(\"kknn\") |>\n",
    "  set_mode(\"classification\")\n",
    "\n",
    "boat_vfold <- vfold_cv(boat_train_model, v = 10, strata = Survived)\n",
    "k_vals <- tibble(neighbors = seq(from = 1, to = 35, by = 2))\n"
   ]
  },
  {
   "cell_type": "code",
   "execution_count": 14,
   "id": "7b780807-010e-4833-9904-1a7fafa87b57",
   "metadata": {},
   "outputs": [
    {
     "data": {
      "text/html": [
       "<table class=\"dataframe\">\n",
       "<caption>A tibble: 5 × 3</caption>\n",
       "<thead>\n",
       "\t<tr><th scope=col>size</th><th scope=col>model_string</th><th scope=col>accuracy</th></tr>\n",
       "\t<tr><th scope=col>&lt;int&gt;</th><th scope=col>&lt;chr&gt;</th><th scope=col>&lt;dbl&gt;</th></tr>\n",
       "</thead>\n",
       "<tbody>\n",
       "\t<tr><td>1</td><td>Survived ~ Fare                                                              </td><td>0.6694640</td></tr>\n",
       "\t<tr><td>2</td><td>Survived ~ Fare+Age                                                          </td><td>0.6932121</td></tr>\n",
       "\t<tr><td>3</td><td>Survived ~ Fare+Age+Number0fSiblings                                         </td><td>0.7211463</td></tr>\n",
       "\t<tr><td>4</td><td>Survived ~ Fare+Age+Number0fSiblings+NumberofParents_children                </td><td>0.7294601</td></tr>\n",
       "\t<tr><td>5</td><td>Survived ~ Fare+Age+Number0fSiblings+NumberofParents_children+Passenger_Class</td><td>0.7364437</td></tr>\n",
       "</tbody>\n",
       "</table>\n"
      ],
      "text/latex": [
       "A tibble: 5 × 3\n",
       "\\begin{tabular}{lll}\n",
       " size & model\\_string & accuracy\\\\\n",
       " <int> & <chr> & <dbl>\\\\\n",
       "\\hline\n",
       "\t 1 & Survived \\textasciitilde{} Fare                                                               & 0.6694640\\\\\n",
       "\t 2 & Survived \\textasciitilde{} Fare+Age                                                           & 0.6932121\\\\\n",
       "\t 3 & Survived \\textasciitilde{} Fare+Age+Number0fSiblings                                          & 0.7211463\\\\\n",
       "\t 4 & Survived \\textasciitilde{} Fare+Age+Number0fSiblings+NumberofParents\\_children                 & 0.7294601\\\\\n",
       "\t 5 & Survived \\textasciitilde{} Fare+Age+Number0fSiblings+NumberofParents\\_children+Passenger\\_Class & 0.7364437\\\\\n",
       "\\end{tabular}\n"
      ],
      "text/markdown": [
       "\n",
       "A tibble: 5 × 3\n",
       "\n",
       "| size &lt;int&gt; | model_string &lt;chr&gt; | accuracy &lt;dbl&gt; |\n",
       "|---|---|---|\n",
       "| 1 | Survived ~ Fare                                                               | 0.6694640 |\n",
       "| 2 | Survived ~ Fare+Age                                                           | 0.6932121 |\n",
       "| 3 | Survived ~ Fare+Age+Number0fSiblings                                          | 0.7211463 |\n",
       "| 4 | Survived ~ Fare+Age+Number0fSiblings+NumberofParents_children                 | 0.7294601 |\n",
       "| 5 | Survived ~ Fare+Age+Number0fSiblings+NumberofParents_children+Passenger_Class | 0.7364437 |\n",
       "\n"
      ],
      "text/plain": [
       "  size\n",
       "1 1   \n",
       "2 2   \n",
       "3 3   \n",
       "4 4   \n",
       "5 5   \n",
       "  model_string                                                                 \n",
       "1 Survived ~ Fare                                                              \n",
       "2 Survived ~ Fare+Age                                                          \n",
       "3 Survived ~ Fare+Age+Number0fSiblings                                         \n",
       "4 Survived ~ Fare+Age+Number0fSiblings+NumberofParents_children                \n",
       "5 Survived ~ Fare+Age+Number0fSiblings+NumberofParents_children+Passenger_Class\n",
       "  accuracy \n",
       "1 0.6694640\n",
       "2 0.6932121\n",
       "3 0.7211463\n",
       "4 0.7294601\n",
       "5 0.7364437"
      ]
     },
     "metadata": {},
     "output_type": "display_data"
    }
   ],
   "source": [
    "set.seed(911)\n",
    "\n",
    "names <- c(\"Passenger_Class\", \"Age\", \"Number0fSiblings\", \"NumberofParents_children\", \"Fare\")\n",
    "\n",
    "# create an empty tibble to store the results\n",
    "accuracies <- tibble(size = integer(), \n",
    "                     model_string = character(), \n",
    "                     accuracy = numeric())\n",
    "\n",
    "\n",
    "# store the total number of predictors\n",
    "n_total <- length(names)\n",
    "\n",
    "# stores selected predictors\n",
    "selected <- c()\n",
    "\n",
    "# for every size from 1 to the total number of predictors\n",
    "for (i in 1:n_total) {\n",
    "    # for every predictor still not added yet\n",
    "    accs <- list()\n",
    "    models <- list()\n",
    "    for (j in 1:length(names)) {\n",
    "        # create a model string for this combination of predictors\n",
    "        preds_new <- c(selected, names[[j]])\n",
    "        model_string <- paste(\"Survived\", \"~\", paste(preds_new, collapse=\"+\"))\n",
    "\n",
    "        # create a recipe from the model string\n",
    "        boat_recipe <- recipe(as.formula(model_string), \n",
    "                                data = boat_train_model) |>\n",
    "                          step_scale(all_predictors()) |>\n",
    "                          step_center(all_predictors())\n",
    "\n",
    "        # tune the KNN classifier with these predictors, \n",
    "        # and collect the accuracy for the best K\n",
    "        acc <- workflow() |>\n",
    "          add_recipe(boat_recipe) |>\n",
    "          add_model(boat_spec_tune) |>\n",
    "          tune_grid(resamples = boat_vfold, grid = k_vals) |>\n",
    "          collect_metrics() |>\n",
    "          filter(.metric == \"accuracy\") |>\n",
    "          summarize(mx = max(mean))\n",
    "        acc <- acc$mx |> unlist()\n",
    "\n",
    "        # add this result to the dataframe\n",
    "        accs[[j]] <- acc\n",
    "        models[[j]] <- model_string\n",
    "    }\n",
    "    jstar <- which.max(unlist(accs))\n",
    "    accuracies <- accuracies |> \n",
    "      add_row(size = i, \n",
    "              model_string = models[[jstar]], \n",
    "              accuracy = accs[[jstar]])\n",
    "    selected <- c(selected, names[[jstar]])\n",
    "    names <- names[-jstar]\n",
    "}\n",
    "accuracies"
   ]
  },
  {
   "cell_type": "code",
   "execution_count": 15,
   "id": "616d8535-8fbe-4765-affa-d2efacb9f5ef",
   "metadata": {},
   "outputs": [
    {
     "data": {
      "text/html": [
       "<table class=\"dataframe\">\n",
       "<caption>A tibble: 18 × 7</caption>\n",
       "<thead>\n",
       "\t<tr><th scope=col>neighbors</th><th scope=col>.metric</th><th scope=col>.estimator</th><th scope=col>mean</th><th scope=col>n</th><th scope=col>std_err</th><th scope=col>.config</th></tr>\n",
       "\t<tr><th scope=col>&lt;dbl&gt;</th><th scope=col>&lt;chr&gt;</th><th scope=col>&lt;chr&gt;</th><th scope=col>&lt;dbl&gt;</th><th scope=col>&lt;int&gt;</th><th scope=col>&lt;dbl&gt;</th><th scope=col>&lt;chr&gt;</th></tr>\n",
       "</thead>\n",
       "<tbody>\n",
       "\t<tr><td> 1</td><td>accuracy</td><td>binary</td><td>0.6216354</td><td>10</td><td>0.02088819</td><td>Preprocessor1_Model01</td></tr>\n",
       "\t<tr><td> 3</td><td>accuracy</td><td>binary</td><td>0.6944836</td><td>10</td><td>0.01602522</td><td>Preprocessor1_Model02</td></tr>\n",
       "\t<tr><td> 5</td><td>accuracy</td><td>binary</td><td>0.6987285</td><td>10</td><td>0.01930719</td><td>Preprocessor1_Model03</td></tr>\n",
       "\t<tr><td> 7</td><td>accuracy</td><td>binary</td><td>0.6945031</td><td>10</td><td>0.02005597</td><td>Preprocessor1_Model04</td></tr>\n",
       "\t<tr><td> 9</td><td>accuracy</td><td>binary</td><td>0.7070814</td><td>10</td><td>0.01955684</td><td>Preprocessor1_Model05</td></tr>\n",
       "\t<tr><td>11</td><td>accuracy</td><td>binary</td><td>0.7184077</td><td>10</td><td>0.01771468</td><td>Preprocessor1_Model06</td></tr>\n",
       "\t<tr><td>13</td><td>accuracy</td><td>binary</td><td>0.7239828</td><td>10</td><td>0.01692260</td><td>Preprocessor1_Model07</td></tr>\n",
       "\t<tr><td>15</td><td>accuracy</td><td>binary</td><td>0.7239632</td><td>10</td><td>0.01615093</td><td>Preprocessor1_Model08</td></tr>\n",
       "\t<tr><td>17</td><td>accuracy</td><td>binary</td><td>0.7337246</td><td>10</td><td>0.01724120</td><td>Preprocessor1_Model09</td></tr>\n",
       "\t<tr><td>19</td><td>accuracy</td><td>binary</td><td>0.7253130</td><td>10</td><td>0.01778433</td><td>Preprocessor1_Model10</td></tr>\n",
       "\t<tr><td>21</td><td>accuracy</td><td>binary</td><td>0.7183490</td><td>10</td><td>0.01674526</td><td>Preprocessor1_Model11</td></tr>\n",
       "\t<tr><td>23</td><td>accuracy</td><td>binary</td><td>0.7323357</td><td>10</td><td>0.01824796</td><td>Preprocessor1_Model12</td></tr>\n",
       "\t<tr><td>25</td><td>accuracy</td><td>binary</td><td>0.7267606</td><td>10</td><td>0.01901554</td><td>Preprocessor1_Model13</td></tr>\n",
       "\t<tr><td>27</td><td>accuracy</td><td>binary</td><td>0.7309077</td><td>10</td><td>0.02059610</td><td>Preprocessor1_Model14</td></tr>\n",
       "\t<tr><td>29</td><td>accuracy</td><td>binary</td><td>0.7267019</td><td>10</td><td>0.01924578</td><td>Preprocessor1_Model15</td></tr>\n",
       "\t<tr><td>31</td><td>accuracy</td><td>binary</td><td>0.7364437</td><td>10</td><td>0.02170073</td><td>Preprocessor1_Model16</td></tr>\n",
       "\t<tr><td>33</td><td>accuracy</td><td>binary</td><td>0.7251956</td><td>10</td><td>0.02180750</td><td>Preprocessor1_Model17</td></tr>\n",
       "\t<tr><td>35</td><td>accuracy</td><td>binary</td><td>0.7238263</td><td>10</td><td>0.02082126</td><td>Preprocessor1_Model18</td></tr>\n",
       "</tbody>\n",
       "</table>\n"
      ],
      "text/latex": [
       "A tibble: 18 × 7\n",
       "\\begin{tabular}{lllllll}\n",
       " neighbors & .metric & .estimator & mean & n & std\\_err & .config\\\\\n",
       " <dbl> & <chr> & <chr> & <dbl> & <int> & <dbl> & <chr>\\\\\n",
       "\\hline\n",
       "\t  1 & accuracy & binary & 0.6216354 & 10 & 0.02088819 & Preprocessor1\\_Model01\\\\\n",
       "\t  3 & accuracy & binary & 0.6944836 & 10 & 0.01602522 & Preprocessor1\\_Model02\\\\\n",
       "\t  5 & accuracy & binary & 0.6987285 & 10 & 0.01930719 & Preprocessor1\\_Model03\\\\\n",
       "\t  7 & accuracy & binary & 0.6945031 & 10 & 0.02005597 & Preprocessor1\\_Model04\\\\\n",
       "\t  9 & accuracy & binary & 0.7070814 & 10 & 0.01955684 & Preprocessor1\\_Model05\\\\\n",
       "\t 11 & accuracy & binary & 0.7184077 & 10 & 0.01771468 & Preprocessor1\\_Model06\\\\\n",
       "\t 13 & accuracy & binary & 0.7239828 & 10 & 0.01692260 & Preprocessor1\\_Model07\\\\\n",
       "\t 15 & accuracy & binary & 0.7239632 & 10 & 0.01615093 & Preprocessor1\\_Model08\\\\\n",
       "\t 17 & accuracy & binary & 0.7337246 & 10 & 0.01724120 & Preprocessor1\\_Model09\\\\\n",
       "\t 19 & accuracy & binary & 0.7253130 & 10 & 0.01778433 & Preprocessor1\\_Model10\\\\\n",
       "\t 21 & accuracy & binary & 0.7183490 & 10 & 0.01674526 & Preprocessor1\\_Model11\\\\\n",
       "\t 23 & accuracy & binary & 0.7323357 & 10 & 0.01824796 & Preprocessor1\\_Model12\\\\\n",
       "\t 25 & accuracy & binary & 0.7267606 & 10 & 0.01901554 & Preprocessor1\\_Model13\\\\\n",
       "\t 27 & accuracy & binary & 0.7309077 & 10 & 0.02059610 & Preprocessor1\\_Model14\\\\\n",
       "\t 29 & accuracy & binary & 0.7267019 & 10 & 0.01924578 & Preprocessor1\\_Model15\\\\\n",
       "\t 31 & accuracy & binary & 0.7364437 & 10 & 0.02170073 & Preprocessor1\\_Model16\\\\\n",
       "\t 33 & accuracy & binary & 0.7251956 & 10 & 0.02180750 & Preprocessor1\\_Model17\\\\\n",
       "\t 35 & accuracy & binary & 0.7238263 & 10 & 0.02082126 & Preprocessor1\\_Model18\\\\\n",
       "\\end{tabular}\n"
      ],
      "text/markdown": [
       "\n",
       "A tibble: 18 × 7\n",
       "\n",
       "| neighbors &lt;dbl&gt; | .metric &lt;chr&gt; | .estimator &lt;chr&gt; | mean &lt;dbl&gt; | n &lt;int&gt; | std_err &lt;dbl&gt; | .config &lt;chr&gt; |\n",
       "|---|---|---|---|---|---|---|\n",
       "|  1 | accuracy | binary | 0.6216354 | 10 | 0.02088819 | Preprocessor1_Model01 |\n",
       "|  3 | accuracy | binary | 0.6944836 | 10 | 0.01602522 | Preprocessor1_Model02 |\n",
       "|  5 | accuracy | binary | 0.6987285 | 10 | 0.01930719 | Preprocessor1_Model03 |\n",
       "|  7 | accuracy | binary | 0.6945031 | 10 | 0.02005597 | Preprocessor1_Model04 |\n",
       "|  9 | accuracy | binary | 0.7070814 | 10 | 0.01955684 | Preprocessor1_Model05 |\n",
       "| 11 | accuracy | binary | 0.7184077 | 10 | 0.01771468 | Preprocessor1_Model06 |\n",
       "| 13 | accuracy | binary | 0.7239828 | 10 | 0.01692260 | Preprocessor1_Model07 |\n",
       "| 15 | accuracy | binary | 0.7239632 | 10 | 0.01615093 | Preprocessor1_Model08 |\n",
       "| 17 | accuracy | binary | 0.7337246 | 10 | 0.01724120 | Preprocessor1_Model09 |\n",
       "| 19 | accuracy | binary | 0.7253130 | 10 | 0.01778433 | Preprocessor1_Model10 |\n",
       "| 21 | accuracy | binary | 0.7183490 | 10 | 0.01674526 | Preprocessor1_Model11 |\n",
       "| 23 | accuracy | binary | 0.7323357 | 10 | 0.01824796 | Preprocessor1_Model12 |\n",
       "| 25 | accuracy | binary | 0.7267606 | 10 | 0.01901554 | Preprocessor1_Model13 |\n",
       "| 27 | accuracy | binary | 0.7309077 | 10 | 0.02059610 | Preprocessor1_Model14 |\n",
       "| 29 | accuracy | binary | 0.7267019 | 10 | 0.01924578 | Preprocessor1_Model15 |\n",
       "| 31 | accuracy | binary | 0.7364437 | 10 | 0.02170073 | Preprocessor1_Model16 |\n",
       "| 33 | accuracy | binary | 0.7251956 | 10 | 0.02180750 | Preprocessor1_Model17 |\n",
       "| 35 | accuracy | binary | 0.7238263 | 10 | 0.02082126 | Preprocessor1_Model18 |\n",
       "\n"
      ],
      "text/plain": [
       "   neighbors .metric  .estimator mean      n  std_err    .config              \n",
       "1   1        accuracy binary     0.6216354 10 0.02088819 Preprocessor1_Model01\n",
       "2   3        accuracy binary     0.6944836 10 0.01602522 Preprocessor1_Model02\n",
       "3   5        accuracy binary     0.6987285 10 0.01930719 Preprocessor1_Model03\n",
       "4   7        accuracy binary     0.6945031 10 0.02005597 Preprocessor1_Model04\n",
       "5   9        accuracy binary     0.7070814 10 0.01955684 Preprocessor1_Model05\n",
       "6  11        accuracy binary     0.7184077 10 0.01771468 Preprocessor1_Model06\n",
       "7  13        accuracy binary     0.7239828 10 0.01692260 Preprocessor1_Model07\n",
       "8  15        accuracy binary     0.7239632 10 0.01615093 Preprocessor1_Model08\n",
       "9  17        accuracy binary     0.7337246 10 0.01724120 Preprocessor1_Model09\n",
       "10 19        accuracy binary     0.7253130 10 0.01778433 Preprocessor1_Model10\n",
       "11 21        accuracy binary     0.7183490 10 0.01674526 Preprocessor1_Model11\n",
       "12 23        accuracy binary     0.7323357 10 0.01824796 Preprocessor1_Model12\n",
       "13 25        accuracy binary     0.7267606 10 0.01901554 Preprocessor1_Model13\n",
       "14 27        accuracy binary     0.7309077 10 0.02059610 Preprocessor1_Model14\n",
       "15 29        accuracy binary     0.7267019 10 0.01924578 Preprocessor1_Model15\n",
       "16 31        accuracy binary     0.7364437 10 0.02170073 Preprocessor1_Model16\n",
       "17 33        accuracy binary     0.7251956 10 0.02180750 Preprocessor1_Model17\n",
       "18 35        accuracy binary     0.7238263 10 0.02082126 Preprocessor1_Model18"
      ]
     },
     "metadata": {},
     "output_type": "display_data"
    }
   ],
   "source": [
    "#tuning the model to find the best value of k using the best predictors as seen above.\n",
    "\n",
    "boat_recipe <- recipe(Survived ~ Fare + Age + Number0fSiblings + NumberofParents_children + Passenger_Class , data = boat_train_model) |>\n",
    "    step_scale(all_predictors()) |>\n",
    "    step_center(all_predictors())\n",
    "\n",
    "boat_model_stats <- workflow() |>\n",
    "  add_recipe(boat_recipe) |>\n",
    "  add_model(boat_spec_tune) |>\n",
    "  tune_grid(resamples = boat_vfold, grid = k_vals) |>\n",
    "  collect_metrics() |>\n",
    "  filter(.metric == \"accuracy\")\n",
    "\n",
    "boat_model_stats\n",
    "    "
   ]
  },
  {
   "cell_type": "code",
   "execution_count": 16,
   "id": "0b100c9a-5366-4750-89e8-ebb3b0306e32",
   "metadata": {},
   "outputs": [
    {
     "data": {
      "text/plain": [
       "<ScaleContinuousPosition>\n",
       " Range:  \n",
       " Limits:  0.4 --    1"
      ]
     },
     "metadata": {},
     "output_type": "display_data"
    },
    {
     "data": {
      "image/png": "[encoded data removed]",
      "text/plain": [
       "plot without title"
      ]
     },
     "metadata": {
      "image/png": {
       "height": 420,
       "width": 420
      }
     },
     "output_type": "display_data"
    }
   ],
   "source": [
    "accuracy_versus_k <- ggplot(boat_model_stats, aes(x = neighbors, y = mean))+\n",
    "       geom_point() +\n",
    "       geom_line() +\n",
    "       labs(x = \"Neighbors\", y = \"Accuracy Estimate\") +\n",
    "       scale_x_continuous(breaks = seq(0, 35, by = 2))\n",
    "       scale_y_continuous(limits = c(0.4, 1.0))\n",
    "\n",
    "accuracy_versus_k"
   ]
  },
  {
   "cell_type": "code",
   "execution_count": 17,
   "id": "730623fb-eb3c-43d2-9543-2a1505a86b1b",
   "metadata": {},
   "outputs": [],
   "source": [
    "set.seed(911)\n",
    "#pulling the max value of k and retraining the model with given k:\n",
    "\n",
    "kmax <- boat_model_stats|>\n",
    "    filter(mean == max(mean)) |>\n",
    "    pull(neighbors)\n",
    "\n",
    "boat_spec <- knn_spec <- nearest_neighbor(weight_func = \"rectangular\", neighbors = kmax) |>\n",
    "  set_engine(\"kknn\") |>\n",
    "  set_mode(\"classification\")\n",
    "\n",
    "boat_fit <- workflow() |>\n",
    "  add_recipe(boat_recipe) |>\n",
    "  add_model(boat_spec) |>\n",
    "  fit(data = boat_train_model)"
   ]
  },
  {
   "cell_type": "code",
   "execution_count": 20,
   "id": "04064db8-f3d9-4c8f-9960-d41bbd10cc78",
   "metadata": {},
   "outputs": [
    {
     "name": "stderr",
     "output_type": "stream",
     "text": [
      "\u001b[1mRows: \u001b[22m\u001b[34m418\u001b[39m \u001b[1mColumns: \u001b[22m\u001b[34m11\u001b[39m\n",
      "\u001b[36m──\u001b[39m \u001b[1mColumn specification\u001b[22m \u001b[36m────────────────────────────────────────────────────────\u001b[39m\n",
      "\u001b[1mDelimiter:\u001b[22m \",\"\n",
      "\u001b[31mchr\u001b[39m (5): Name, Sex, Ticket, Cabin, Embarked\n",
      "\u001b[32mdbl\u001b[39m (6): PassengerId, Pclass, Age, SibSp, Parch, Fare\n",
      "\n",
      "\u001b[36mℹ\u001b[39m Use `spec()` to retrieve the full column specification for this data.\n",
      "\u001b[36mℹ\u001b[39m Specify the column types or set `show_col_types = FALSE` to quiet this message.\n"
     ]
    },
    {
     "data": {
      "text/html": [
       "<table class=\"dataframe\">\n",
       "<caption>A spec_tbl_df: 418 × 11</caption>\n",
       "<thead>\n",
       "\t<tr><th scope=col>PassengerId</th><th scope=col>Pclass</th><th scope=col>Name</th><th scope=col>Sex</th><th scope=col>Age</th><th scope=col>SibSp</th><th scope=col>Parch</th><th scope=col>Ticket</th><th scope=col>Fare</th><th scope=col>Cabin</th><th scope=col>Embarked</th></tr>\n",
       "\t<tr><th scope=col>&lt;dbl&gt;</th><th scope=col>&lt;dbl&gt;</th><th scope=col>&lt;chr&gt;</th><th scope=col>&lt;chr&gt;</th><th scope=col>&lt;dbl&gt;</th><th scope=col>&lt;dbl&gt;</th><th scope=col>&lt;dbl&gt;</th><th scope=col>&lt;chr&gt;</th><th scope=col>&lt;dbl&gt;</th><th scope=col>&lt;chr&gt;</th><th scope=col>&lt;chr&gt;</th></tr>\n",
       "</thead>\n",
       "<tbody>\n",
       "\t<tr><td>892</td><td>3</td><td>Kelly, Mr. James                                       </td><td>male  </td><td>34.5</td><td>0</td><td>0</td><td>330911          </td><td>  7.8292</td><td>NA             </td><td>Q</td></tr>\n",
       "\t<tr><td>893</td><td>3</td><td>Wilkes, Mrs. James (Ellen Needs)                       </td><td>female</td><td>47.0</td><td>1</td><td>0</td><td>363272          </td><td>  7.0000</td><td>NA             </td><td>S</td></tr>\n",
       "\t<tr><td>894</td><td>2</td><td>Myles, Mr. Thomas Francis                              </td><td>male  </td><td>62.0</td><td>0</td><td>0</td><td>240276          </td><td>  9.6875</td><td>NA             </td><td>Q</td></tr>\n",
       "\t<tr><td>895</td><td>3</td><td>Wirz, Mr. Albert                                       </td><td>male  </td><td>27.0</td><td>0</td><td>0</td><td>315154          </td><td>  8.6625</td><td>NA             </td><td>S</td></tr>\n",
       "\t<tr><td>896</td><td>3</td><td>Hirvonen, Mrs. Alexander (Helga E Lindqvist)           </td><td>female</td><td>22.0</td><td>1</td><td>1</td><td>3101298         </td><td> 12.2875</td><td>NA             </td><td>S</td></tr>\n",
       "\t<tr><td>897</td><td>3</td><td>Svensson, Mr. Johan Cervin                             </td><td>male  </td><td>14.0</td><td>0</td><td>0</td><td>7538            </td><td>  9.2250</td><td>NA             </td><td>S</td></tr>\n",
       "\t<tr><td>898</td><td>3</td><td>Connolly, Miss. Kate                                   </td><td>female</td><td>30.0</td><td>0</td><td>0</td><td>330972          </td><td>  7.6292</td><td>NA             </td><td>Q</td></tr>\n",
       "\t<tr><td>899</td><td>2</td><td>Caldwell, Mr. Albert Francis                           </td><td>male  </td><td>26.0</td><td>1</td><td>1</td><td>248738          </td><td> 29.0000</td><td>NA             </td><td>S</td></tr>\n",
       "\t<tr><td>900</td><td>3</td><td>Abrahim, Mrs. Joseph (Sophie Halaut Easu)              </td><td>female</td><td>18.0</td><td>0</td><td>0</td><td>2657            </td><td>  7.2292</td><td>NA             </td><td>C</td></tr>\n",
       "\t<tr><td>901</td><td>3</td><td>Davies, Mr. John Samuel                                </td><td>male  </td><td>21.0</td><td>2</td><td>0</td><td>A/4 48871       </td><td> 24.1500</td><td>NA             </td><td>S</td></tr>\n",
       "\t<tr><td>902</td><td>3</td><td>Ilieff, Mr. Ylio                                       </td><td>male  </td><td>  NA</td><td>0</td><td>0</td><td>349220          </td><td>  7.8958</td><td>NA             </td><td>S</td></tr>\n",
       "\t<tr><td>903</td><td>1</td><td>Jones, Mr. Charles Cresson                             </td><td>male  </td><td>46.0</td><td>0</td><td>0</td><td>694             </td><td> 26.0000</td><td>NA             </td><td>S</td></tr>\n",
       "\t<tr><td>904</td><td>1</td><td>Snyder, Mrs. John Pillsbury (Nelle Stevenson)          </td><td>female</td><td>23.0</td><td>1</td><td>0</td><td>21228           </td><td> 82.2667</td><td>B45            </td><td>S</td></tr>\n",
       "\t<tr><td>905</td><td>2</td><td>Howard, Mr. Benjamin                                   </td><td>male  </td><td>63.0</td><td>1</td><td>0</td><td>24065           </td><td> 26.0000</td><td>NA             </td><td>S</td></tr>\n",
       "\t<tr><td>906</td><td>1</td><td>Chaffee, Mrs. Herbert Fuller (Carrie Constance Toogood)</td><td>female</td><td>47.0</td><td>1</td><td>0</td><td>W.E.P. 5734     </td><td> 61.1750</td><td>E31            </td><td>S</td></tr>\n",
       "\t<tr><td>907</td><td>2</td><td>del Carlo, Mrs. Sebastiano (Argenia Genovesi)          </td><td>female</td><td>24.0</td><td>1</td><td>0</td><td>SC/PARIS 2167   </td><td> 27.7208</td><td>NA             </td><td>C</td></tr>\n",
       "\t<tr><td>908</td><td>2</td><td>Keane, Mr. Daniel                                      </td><td>male  </td><td>35.0</td><td>0</td><td>0</td><td>233734          </td><td> 12.3500</td><td>NA             </td><td>Q</td></tr>\n",
       "\t<tr><td>909</td><td>3</td><td>Assaf, Mr. Gerios                                      </td><td>male  </td><td>21.0</td><td>0</td><td>0</td><td>2692            </td><td>  7.2250</td><td>NA             </td><td>C</td></tr>\n",
       "\t<tr><td>910</td><td>3</td><td>Ilmakangas, Miss. Ida Livija                           </td><td>female</td><td>27.0</td><td>1</td><td>0</td><td>STON/O2. 3101270</td><td>  7.9250</td><td>NA             </td><td>S</td></tr>\n",
       "\t<tr><td>911</td><td>3</td><td>Assaf Khalil, Mrs. Mariana (Miriam\")\"                  </td><td>female</td><td>45.0</td><td>0</td><td>0</td><td>2696            </td><td>  7.2250</td><td>NA             </td><td>C</td></tr>\n",
       "\t<tr><td>912</td><td>1</td><td>Rothschild, Mr. Martin                                 </td><td>male  </td><td>55.0</td><td>1</td><td>0</td><td>PC 17603        </td><td> 59.4000</td><td>NA             </td><td>C</td></tr>\n",
       "\t<tr><td>913</td><td>3</td><td>Olsen, Master. Artur Karl                              </td><td>male  </td><td> 9.0</td><td>0</td><td>1</td><td>C 17368         </td><td>  3.1708</td><td>NA             </td><td>S</td></tr>\n",
       "\t<tr><td>914</td><td>1</td><td>Flegenheim, Mrs. Alfred (Antoinette)                   </td><td>female</td><td>  NA</td><td>0</td><td>0</td><td>PC 17598        </td><td> 31.6833</td><td>NA             </td><td>S</td></tr>\n",
       "\t<tr><td>915</td><td>1</td><td>Williams, Mr. Richard Norris II                        </td><td>male  </td><td>21.0</td><td>0</td><td>1</td><td>PC 17597        </td><td> 61.3792</td><td>NA             </td><td>C</td></tr>\n",
       "\t<tr><td>916</td><td>1</td><td>Ryerson, Mrs. Arthur Larned (Emily Maria Borie)        </td><td>female</td><td>48.0</td><td>1</td><td>3</td><td>PC 17608        </td><td>262.3750</td><td>B57 B59 B63 B66</td><td>C</td></tr>\n",
       "\t<tr><td>917</td><td>3</td><td>Robins, Mr. Alexander A                                </td><td>male  </td><td>50.0</td><td>1</td><td>0</td><td>A/5. 3337       </td><td> 14.5000</td><td>NA             </td><td>S</td></tr>\n",
       "\t<tr><td>918</td><td>1</td><td>Ostby, Miss. Helene Ragnhild                           </td><td>female</td><td>22.0</td><td>0</td><td>1</td><td>113509          </td><td> 61.9792</td><td>B36            </td><td>C</td></tr>\n",
       "\t<tr><td>919</td><td>3</td><td>Daher, Mr. Shedid                                      </td><td>male  </td><td>22.5</td><td>0</td><td>0</td><td>2698            </td><td>  7.2250</td><td>NA             </td><td>C</td></tr>\n",
       "\t<tr><td>920</td><td>1</td><td>Brady, Mr. John Bertram                                </td><td>male  </td><td>41.0</td><td>0</td><td>0</td><td>113054          </td><td> 30.5000</td><td>A21            </td><td>S</td></tr>\n",
       "\t<tr><td>921</td><td>3</td><td>Samaan, Mr. Elias                                      </td><td>male  </td><td>  NA</td><td>2</td><td>0</td><td>2662            </td><td> 21.6792</td><td>NA             </td><td>C</td></tr>\n",
       "\t<tr><td>⋮</td><td>⋮</td><td>⋮</td><td>⋮</td><td>⋮</td><td>⋮</td><td>⋮</td><td>⋮</td><td>⋮</td><td>⋮</td><td>⋮</td></tr>\n",
       "\t<tr><td>1280</td><td>3</td><td>Canavan, Mr. Patrick                                           </td><td>male  </td><td>21.0</td><td>0</td><td>0</td><td>364858            </td><td>  7.7500</td><td>NA  </td><td>Q</td></tr>\n",
       "\t<tr><td>1281</td><td>3</td><td>Palsson, Master. Paul Folke                                    </td><td>male  </td><td> 6.0</td><td>3</td><td>1</td><td>349909            </td><td> 21.0750</td><td>NA  </td><td>S</td></tr>\n",
       "\t<tr><td>1282</td><td>1</td><td>Payne, Mr. Vivian Ponsonby                                     </td><td>male  </td><td>23.0</td><td>0</td><td>0</td><td>12749             </td><td> 93.5000</td><td>B24 </td><td>S</td></tr>\n",
       "\t<tr><td>1283</td><td>1</td><td>Lines, Mrs. Ernest H (Elizabeth Lindsey James)                 </td><td>female</td><td>51.0</td><td>0</td><td>1</td><td>PC 17592          </td><td> 39.4000</td><td>D28 </td><td>S</td></tr>\n",
       "\t<tr><td>1284</td><td>3</td><td>Abbott, Master. Eugene Joseph                                  </td><td>male  </td><td>13.0</td><td>0</td><td>2</td><td>C.A. 2673         </td><td> 20.2500</td><td>NA  </td><td>S</td></tr>\n",
       "\t<tr><td>1285</td><td>2</td><td>Gilbert, Mr. William                                           </td><td>male  </td><td>47.0</td><td>0</td><td>0</td><td>C.A. 30769        </td><td> 10.5000</td><td>NA  </td><td>S</td></tr>\n",
       "\t<tr><td>1286</td><td>3</td><td>Kink-Heilmann, Mr. Anton                                       </td><td>male  </td><td>29.0</td><td>3</td><td>1</td><td>315153            </td><td> 22.0250</td><td>NA  </td><td>S</td></tr>\n",
       "\t<tr><td>1287</td><td>1</td><td>Smith, Mrs. Lucien Philip (Mary Eloise Hughes)                 </td><td>female</td><td>18.0</td><td>1</td><td>0</td><td>13695             </td><td> 60.0000</td><td>C31 </td><td>S</td></tr>\n",
       "\t<tr><td>1288</td><td>3</td><td>Colbert, Mr. Patrick                                           </td><td>male  </td><td>24.0</td><td>0</td><td>0</td><td>371109            </td><td>  7.2500</td><td>NA  </td><td>Q</td></tr>\n",
       "\t<tr><td>1289</td><td>1</td><td>Frolicher-Stehli, Mrs. Maxmillian (Margaretha Emerentia Stehli)</td><td>female</td><td>48.0</td><td>1</td><td>1</td><td>13567             </td><td> 79.2000</td><td>B41 </td><td>C</td></tr>\n",
       "\t<tr><td>1290</td><td>3</td><td>Larsson-Rondberg, Mr. Edvard A                                 </td><td>male  </td><td>22.0</td><td>0</td><td>0</td><td>347065            </td><td>  7.7750</td><td>NA  </td><td>S</td></tr>\n",
       "\t<tr><td>1291</td><td>3</td><td>Conlon, Mr. Thomas Henry                                       </td><td>male  </td><td>31.0</td><td>0</td><td>0</td><td>21332             </td><td>  7.7333</td><td>NA  </td><td>Q</td></tr>\n",
       "\t<tr><td>1292</td><td>1</td><td>Bonnell, Miss. Caroline                                        </td><td>female</td><td>30.0</td><td>0</td><td>0</td><td>36928             </td><td>164.8667</td><td>C7  </td><td>S</td></tr>\n",
       "\t<tr><td>1293</td><td>2</td><td>Gale, Mr. Harry                                                </td><td>male  </td><td>38.0</td><td>1</td><td>0</td><td>28664             </td><td> 21.0000</td><td>NA  </td><td>S</td></tr>\n",
       "\t<tr><td>1294</td><td>1</td><td>Gibson, Miss. Dorothy Winifred                                 </td><td>female</td><td>22.0</td><td>0</td><td>1</td><td>112378            </td><td> 59.4000</td><td>NA  </td><td>C</td></tr>\n",
       "\t<tr><td>1295</td><td>1</td><td>Carrau, Mr. Jose Pedro                                         </td><td>male  </td><td>17.0</td><td>0</td><td>0</td><td>113059            </td><td> 47.1000</td><td>NA  </td><td>S</td></tr>\n",
       "\t<tr><td>1296</td><td>1</td><td>Frauenthal, Mr. Isaac Gerald                                   </td><td>male  </td><td>43.0</td><td>1</td><td>0</td><td>17765             </td><td> 27.7208</td><td>D40 </td><td>C</td></tr>\n",
       "\t<tr><td>1297</td><td>2</td><td>Nourney, Mr. Alfred (Baron von Drachstedt\")\"                   </td><td>male  </td><td>20.0</td><td>0</td><td>0</td><td>SC/PARIS 2166     </td><td> 13.8625</td><td>D38 </td><td>C</td></tr>\n",
       "\t<tr><td>1298</td><td>2</td><td>Ware, Mr. William Jeffery                                      </td><td>male  </td><td>23.0</td><td>1</td><td>0</td><td>28666             </td><td> 10.5000</td><td>NA  </td><td>S</td></tr>\n",
       "\t<tr><td>1299</td><td>1</td><td>Widener, Mr. George Dunton                                     </td><td>male  </td><td>50.0</td><td>1</td><td>1</td><td>113503            </td><td>211.5000</td><td>C80 </td><td>C</td></tr>\n",
       "\t<tr><td>1300</td><td>3</td><td>Riordan, Miss. Johanna Hannah\"\"                                </td><td>female</td><td>  NA</td><td>0</td><td>0</td><td>334915            </td><td>  7.7208</td><td>NA  </td><td>Q</td></tr>\n",
       "\t<tr><td>1301</td><td>3</td><td>Peacock, Miss. Treasteall                                      </td><td>female</td><td> 3.0</td><td>1</td><td>1</td><td>SOTON/O.Q. 3101315</td><td> 13.7750</td><td>NA  </td><td>S</td></tr>\n",
       "\t<tr><td>1302</td><td>3</td><td>Naughton, Miss. Hannah                                         </td><td>female</td><td>  NA</td><td>0</td><td>0</td><td>365237            </td><td>  7.7500</td><td>NA  </td><td>Q</td></tr>\n",
       "\t<tr><td>1303</td><td>1</td><td>Minahan, Mrs. William Edward (Lillian E Thorpe)                </td><td>female</td><td>37.0</td><td>1</td><td>0</td><td>19928             </td><td> 90.0000</td><td>C78 </td><td>Q</td></tr>\n",
       "\t<tr><td>1304</td><td>3</td><td>Henriksson, Miss. Jenny Lovisa                                 </td><td>female</td><td>28.0</td><td>0</td><td>0</td><td>347086            </td><td>  7.7750</td><td>NA  </td><td>S</td></tr>\n",
       "\t<tr><td>1305</td><td>3</td><td>Spector, Mr. Woolf                                             </td><td>male  </td><td>  NA</td><td>0</td><td>0</td><td>A.5. 3236         </td><td>  8.0500</td><td>NA  </td><td>S</td></tr>\n",
       "\t<tr><td>1306</td><td>1</td><td>Oliva y Ocana, Dona. Fermina                                   </td><td>female</td><td>39.0</td><td>0</td><td>0</td><td>PC 17758          </td><td>108.9000</td><td>C105</td><td>C</td></tr>\n",
       "\t<tr><td>1307</td><td>3</td><td>Saether, Mr. Simon Sivertsen                                   </td><td>male  </td><td>38.5</td><td>0</td><td>0</td><td>SOTON/O.Q. 3101262</td><td>  7.2500</td><td>NA  </td><td>S</td></tr>\n",
       "\t<tr><td>1308</td><td>3</td><td>Ware, Mr. Frederick                                            </td><td>male  </td><td>  NA</td><td>0</td><td>0</td><td>359309            </td><td>  8.0500</td><td>NA  </td><td>S</td></tr>\n",
       "\t<tr><td>1309</td><td>3</td><td>Peter, Master. Michael J                                       </td><td>male  </td><td>  NA</td><td>1</td><td>1</td><td>2668              </td><td> 22.3583</td><td>NA  </td><td>C</td></tr>\n",
       "</tbody>\n",
       "</table>\n"
      ],
      "text/latex": [
       "A spec\\_tbl\\_df: 418 × 11\n",
       "\\begin{tabular}{lllllllllll}\n",
       " PassengerId & Pclass & Name & Sex & Age & SibSp & Parch & Ticket & Fare & Cabin & Embarked\\\\\n",
       " <dbl> & <dbl> & <chr> & <chr> & <dbl> & <dbl> & <dbl> & <chr> & <dbl> & <chr> & <chr>\\\\\n",
       "\\hline\n",
       "\t 892 & 3 & Kelly, Mr. James                                        & male   & 34.5 & 0 & 0 & 330911           &   7.8292 & NA              & Q\\\\\n",
       "\t 893 & 3 & Wilkes, Mrs. James (Ellen Needs)                        & female & 47.0 & 1 & 0 & 363272           &   7.0000 & NA              & S\\\\\n",
       "\t 894 & 2 & Myles, Mr. Thomas Francis                               & male   & 62.0 & 0 & 0 & 240276           &   9.6875 & NA              & Q\\\\\n",
       "\t 895 & 3 & Wirz, Mr. Albert                                        & male   & 27.0 & 0 & 0 & 315154           &   8.6625 & NA              & S\\\\\n",
       "\t 896 & 3 & Hirvonen, Mrs. Alexander (Helga E Lindqvist)            & female & 22.0 & 1 & 1 & 3101298          &  12.2875 & NA              & S\\\\\n",
       "\t 897 & 3 & Svensson, Mr. Johan Cervin                              & male   & 14.0 & 0 & 0 & 7538             &   9.2250 & NA              & S\\\\\n",
       "\t 898 & 3 & Connolly, Miss. Kate                                    & female & 30.0 & 0 & 0 & 330972           &   7.6292 & NA              & Q\\\\\n",
       "\t 899 & 2 & Caldwell, Mr. Albert Francis                            & male   & 26.0 & 1 & 1 & 248738           &  29.0000 & NA              & S\\\\\n",
       "\t 900 & 3 & Abrahim, Mrs. Joseph (Sophie Halaut Easu)               & female & 18.0 & 0 & 0 & 2657             &   7.2292 & NA              & C\\\\\n",
       "\t 901 & 3 & Davies, Mr. John Samuel                                 & male   & 21.0 & 2 & 0 & A/4 48871        &  24.1500 & NA              & S\\\\\n",
       "\t 902 & 3 & Ilieff, Mr. Ylio                                        & male   &   NA & 0 & 0 & 349220           &   7.8958 & NA              & S\\\\\n",
       "\t 903 & 1 & Jones, Mr. Charles Cresson                              & male   & 46.0 & 0 & 0 & 694              &  26.0000 & NA              & S\\\\\n",
       "\t 904 & 1 & Snyder, Mrs. John Pillsbury (Nelle Stevenson)           & female & 23.0 & 1 & 0 & 21228            &  82.2667 & B45             & S\\\\\n",
       "\t 905 & 2 & Howard, Mr. Benjamin                                    & male   & 63.0 & 1 & 0 & 24065            &  26.0000 & NA              & S\\\\\n",
       "\t 906 & 1 & Chaffee, Mrs. Herbert Fuller (Carrie Constance Toogood) & female & 47.0 & 1 & 0 & W.E.P. 5734      &  61.1750 & E31             & S\\\\\n",
       "\t 907 & 2 & del Carlo, Mrs. Sebastiano (Argenia Genovesi)           & female & 24.0 & 1 & 0 & SC/PARIS 2167    &  27.7208 & NA              & C\\\\\n",
       "\t 908 & 2 & Keane, Mr. Daniel                                       & male   & 35.0 & 0 & 0 & 233734           &  12.3500 & NA              & Q\\\\\n",
       "\t 909 & 3 & Assaf, Mr. Gerios                                       & male   & 21.0 & 0 & 0 & 2692             &   7.2250 & NA              & C\\\\\n",
       "\t 910 & 3 & Ilmakangas, Miss. Ida Livija                            & female & 27.0 & 1 & 0 & STON/O2. 3101270 &   7.9250 & NA              & S\\\\\n",
       "\t 911 & 3 & Assaf Khalil, Mrs. Mariana (Miriam\")\"                   & female & 45.0 & 0 & 0 & 2696             &   7.2250 & NA              & C\\\\\n",
       "\t 912 & 1 & Rothschild, Mr. Martin                                  & male   & 55.0 & 1 & 0 & PC 17603         &  59.4000 & NA              & C\\\\\n",
       "\t 913 & 3 & Olsen, Master. Artur Karl                               & male   &  9.0 & 0 & 1 & C 17368          &   3.1708 & NA              & S\\\\\n",
       "\t 914 & 1 & Flegenheim, Mrs. Alfred (Antoinette)                    & female &   NA & 0 & 0 & PC 17598         &  31.6833 & NA              & S\\\\\n",
       "\t 915 & 1 & Williams, Mr. Richard Norris II                         & male   & 21.0 & 0 & 1 & PC 17597         &  61.3792 & NA              & C\\\\\n",
       "\t 916 & 1 & Ryerson, Mrs. Arthur Larned (Emily Maria Borie)         & female & 48.0 & 1 & 3 & PC 17608         & 262.3750 & B57 B59 B63 B66 & C\\\\\n",
       "\t 917 & 3 & Robins, Mr. Alexander A                                 & male   & 50.0 & 1 & 0 & A/5. 3337        &  14.5000 & NA              & S\\\\\n",
       "\t 918 & 1 & Ostby, Miss. Helene Ragnhild                            & female & 22.0 & 0 & 1 & 113509           &  61.9792 & B36             & C\\\\\n",
       "\t 919 & 3 & Daher, Mr. Shedid                                       & male   & 22.5 & 0 & 0 & 2698             &   7.2250 & NA              & C\\\\\n",
       "\t 920 & 1 & Brady, Mr. John Bertram                                 & male   & 41.0 & 0 & 0 & 113054           &  30.5000 & A21             & S\\\\\n",
       "\t 921 & 3 & Samaan, Mr. Elias                                       & male   &   NA & 2 & 0 & 2662             &  21.6792 & NA              & C\\\\\n",
       "\t ⋮ & ⋮ & ⋮ & ⋮ & ⋮ & ⋮ & ⋮ & ⋮ & ⋮ & ⋮ & ⋮\\\\\n",
       "\t 1280 & 3 & Canavan, Mr. Patrick                                            & male   & 21.0 & 0 & 0 & 364858             &   7.7500 & NA   & Q\\\\\n",
       "\t 1281 & 3 & Palsson, Master. Paul Folke                                     & male   &  6.0 & 3 & 1 & 349909             &  21.0750 & NA   & S\\\\\n",
       "\t 1282 & 1 & Payne, Mr. Vivian Ponsonby                                      & male   & 23.0 & 0 & 0 & 12749              &  93.5000 & B24  & S\\\\\n",
       "\t 1283 & 1 & Lines, Mrs. Ernest H (Elizabeth Lindsey James)                  & female & 51.0 & 0 & 1 & PC 17592           &  39.4000 & D28  & S\\\\\n",
       "\t 1284 & 3 & Abbott, Master. Eugene Joseph                                   & male   & 13.0 & 0 & 2 & C.A. 2673          &  20.2500 & NA   & S\\\\\n",
       "\t 1285 & 2 & Gilbert, Mr. William                                            & male   & 47.0 & 0 & 0 & C.A. 30769         &  10.5000 & NA   & S\\\\\n",
       "\t 1286 & 3 & Kink-Heilmann, Mr. Anton                                        & male   & 29.0 & 3 & 1 & 315153             &  22.0250 & NA   & S\\\\\n",
       "\t 1287 & 1 & Smith, Mrs. Lucien Philip (Mary Eloise Hughes)                  & female & 18.0 & 1 & 0 & 13695              &  60.0000 & C31  & S\\\\\n",
       "\t 1288 & 3 & Colbert, Mr. Patrick                                            & male   & 24.0 & 0 & 0 & 371109             &   7.2500 & NA   & Q\\\\\n",
       "\t 1289 & 1 & Frolicher-Stehli, Mrs. Maxmillian (Margaretha Emerentia Stehli) & female & 48.0 & 1 & 1 & 13567              &  79.2000 & B41  & C\\\\\n",
       "\t 1290 & 3 & Larsson-Rondberg, Mr. Edvard A                                  & male   & 22.0 & 0 & 0 & 347065             &   7.7750 & NA   & S\\\\\n",
       "\t 1291 & 3 & Conlon, Mr. Thomas Henry                                        & male   & 31.0 & 0 & 0 & 21332              &   7.7333 & NA   & Q\\\\\n",
       "\t 1292 & 1 & Bonnell, Miss. Caroline                                         & female & 30.0 & 0 & 0 & 36928              & 164.8667 & C7   & S\\\\\n",
       "\t 1293 & 2 & Gale, Mr. Harry                                                 & male   & 38.0 & 1 & 0 & 28664              &  21.0000 & NA   & S\\\\\n",
       "\t 1294 & 1 & Gibson, Miss. Dorothy Winifred                                  & female & 22.0 & 0 & 1 & 112378             &  59.4000 & NA   & C\\\\\n",
       "\t 1295 & 1 & Carrau, Mr. Jose Pedro                                          & male   & 17.0 & 0 & 0 & 113059             &  47.1000 & NA   & S\\\\\n",
       "\t 1296 & 1 & Frauenthal, Mr. Isaac Gerald                                    & male   & 43.0 & 1 & 0 & 17765              &  27.7208 & D40  & C\\\\\n",
       "\t 1297 & 2 & Nourney, Mr. Alfred (Baron von Drachstedt\")\"                    & male   & 20.0 & 0 & 0 & SC/PARIS 2166      &  13.8625 & D38  & C\\\\\n",
       "\t 1298 & 2 & Ware, Mr. William Jeffery                                       & male   & 23.0 & 1 & 0 & 28666              &  10.5000 & NA   & S\\\\\n",
       "\t 1299 & 1 & Widener, Mr. George Dunton                                      & male   & 50.0 & 1 & 1 & 113503             & 211.5000 & C80  & C\\\\\n",
       "\t 1300 & 3 & Riordan, Miss. Johanna Hannah\"\"                                 & female &   NA & 0 & 0 & 334915             &   7.7208 & NA   & Q\\\\\n",
       "\t 1301 & 3 & Peacock, Miss. Treasteall                                       & female &  3.0 & 1 & 1 & SOTON/O.Q. 3101315 &  13.7750 & NA   & S\\\\\n",
       "\t 1302 & 3 & Naughton, Miss. Hannah                                          & female &   NA & 0 & 0 & 365237             &   7.7500 & NA   & Q\\\\\n",
       "\t 1303 & 1 & Minahan, Mrs. William Edward (Lillian E Thorpe)                 & female & 37.0 & 1 & 0 & 19928              &  90.0000 & C78  & Q\\\\\n",
       "\t 1304 & 3 & Henriksson, Miss. Jenny Lovisa                                  & female & 28.0 & 0 & 0 & 347086             &   7.7750 & NA   & S\\\\\n",
       "\t 1305 & 3 & Spector, Mr. Woolf                                              & male   &   NA & 0 & 0 & A.5. 3236          &   8.0500 & NA   & S\\\\\n",
       "\t 1306 & 1 & Oliva y Ocana, Dona. Fermina                                    & female & 39.0 & 0 & 0 & PC 17758           & 108.9000 & C105 & C\\\\\n",
       "\t 1307 & 3 & Saether, Mr. Simon Sivertsen                                    & male   & 38.5 & 0 & 0 & SOTON/O.Q. 3101262 &   7.2500 & NA   & S\\\\\n",
       "\t 1308 & 3 & Ware, Mr. Frederick                                             & male   &   NA & 0 & 0 & 359309             &   8.0500 & NA   & S\\\\\n",
       "\t 1309 & 3 & Peter, Master. Michael J                                        & male   &   NA & 1 & 1 & 2668               &  22.3583 & NA   & C\\\\\n",
       "\\end{tabular}\n"
      ],
      "text/markdown": [
       "\n",
       "A spec_tbl_df: 418 × 11\n",
       "\n",
       "| PassengerId &lt;dbl&gt; | Pclass &lt;dbl&gt; | Name &lt;chr&gt; | Sex &lt;chr&gt; | Age &lt;dbl&gt; | SibSp &lt;dbl&gt; | Parch &lt;dbl&gt; | Ticket &lt;chr&gt; | Fare &lt;dbl&gt; | Cabin &lt;chr&gt; | Embarked &lt;chr&gt; |\n",
       "|---|---|---|---|---|---|---|---|---|---|---|\n",
       "| 892 | 3 | Kelly, Mr. James                                        | male   | 34.5 | 0 | 0 | 330911           |   7.8292 | NA              | Q |\n",
       "| 893 | 3 | Wilkes, Mrs. James (Ellen Needs)                        | female | 47.0 | 1 | 0 | 363272           |   7.0000 | NA              | S |\n",
       "| 894 | 2 | Myles, Mr. Thomas Francis                               | male   | 62.0 | 0 | 0 | 240276           |   9.6875 | NA              | Q |\n",
       "| 895 | 3 | Wirz, Mr. Albert                                        | male   | 27.0 | 0 | 0 | 315154           |   8.6625 | NA              | S |\n",
       "| 896 | 3 | Hirvonen, Mrs. Alexander (Helga E Lindqvist)            | female | 22.0 | 1 | 1 | 3101298          |  12.2875 | NA              | S |\n",
       "| 897 | 3 | Svensson, Mr. Johan Cervin                              | male   | 14.0 | 0 | 0 | 7538             |   9.2250 | NA              | S |\n",
       "| 898 | 3 | Connolly, Miss. Kate                                    | female | 30.0 | 0 | 0 | 330972           |   7.6292 | NA              | Q |\n",
       "| 899 | 2 | Caldwell, Mr. Albert Francis                            | male   | 26.0 | 1 | 1 | 248738           |  29.0000 | NA              | S |\n",
       "| 900 | 3 | Abrahim, Mrs. Joseph (Sophie Halaut Easu)               | female | 18.0 | 0 | 0 | 2657             |   7.2292 | NA              | C |\n",
       "| 901 | 3 | Davies, Mr. John Samuel                                 | male   | 21.0 | 2 | 0 | A/4 48871        |  24.1500 | NA              | S |\n",
       "| 902 | 3 | Ilieff, Mr. Ylio                                        | male   |   NA | 0 | 0 | 349220           |   7.8958 | NA              | S |\n",
       "| 903 | 1 | Jones, Mr. Charles Cresson                              | male   | 46.0 | 0 | 0 | 694              |  26.0000 | NA              | S |\n",
       "| 904 | 1 | Snyder, Mrs. John Pillsbury (Nelle Stevenson)           | female | 23.0 | 1 | 0 | 21228            |  82.2667 | B45             | S |\n",
       "| 905 | 2 | Howard, Mr. Benjamin                                    | male   | 63.0 | 1 | 0 | 24065            |  26.0000 | NA              | S |\n",
       "| 906 | 1 | Chaffee, Mrs. Herbert Fuller (Carrie Constance Toogood) | female | 47.0 | 1 | 0 | W.E.P. 5734      |  61.1750 | E31             | S |\n",
       "| 907 | 2 | del Carlo, Mrs. Sebastiano (Argenia Genovesi)           | female | 24.0 | 1 | 0 | SC/PARIS 2167    |  27.7208 | NA              | C |\n",
       "| 908 | 2 | Keane, Mr. Daniel                                       | male   | 35.0 | 0 | 0 | 233734           |  12.3500 | NA              | Q |\n",
       "| 909 | 3 | Assaf, Mr. Gerios                                       | male   | 21.0 | 0 | 0 | 2692             |   7.2250 | NA              | C |\n",
       "| 910 | 3 | Ilmakangas, Miss. Ida Livija                            | female | 27.0 | 1 | 0 | STON/O2. 3101270 |   7.9250 | NA              | S |\n",
       "| 911 | 3 | Assaf Khalil, Mrs. Mariana (Miriam\")\"                   | female | 45.0 | 0 | 0 | 2696             |   7.2250 | NA              | C |\n",
       "| 912 | 1 | Rothschild, Mr. Martin                                  | male   | 55.0 | 1 | 0 | PC 17603         |  59.4000 | NA              | C |\n",
       "| 913 | 3 | Olsen, Master. Artur Karl                               | male   |  9.0 | 0 | 1 | C 17368          |   3.1708 | NA              | S |\n",
       "| 914 | 1 | Flegenheim, Mrs. Alfred (Antoinette)                    | female |   NA | 0 | 0 | PC 17598         |  31.6833 | NA              | S |\n",
       "| 915 | 1 | Williams, Mr. Richard Norris II                         | male   | 21.0 | 0 | 1 | PC 17597         |  61.3792 | NA              | C |\n",
       "| 916 | 1 | Ryerson, Mrs. Arthur Larned (Emily Maria Borie)         | female | 48.0 | 1 | 3 | PC 17608         | 262.3750 | B57 B59 B63 B66 | C |\n",
       "| 917 | 3 | Robins, Mr. Alexander A                                 | male   | 50.0 | 1 | 0 | A/5. 3337        |  14.5000 | NA              | S |\n",
       "| 918 | 1 | Ostby, Miss. Helene Ragnhild                            | female | 22.0 | 0 | 1 | 113509           |  61.9792 | B36             | C |\n",
       "| 919 | 3 | Daher, Mr. Shedid                                       | male   | 22.5 | 0 | 0 | 2698             |   7.2250 | NA              | C |\n",
       "| 920 | 1 | Brady, Mr. John Bertram                                 | male   | 41.0 | 0 | 0 | 113054           |  30.5000 | A21             | S |\n",
       "| 921 | 3 | Samaan, Mr. Elias                                       | male   |   NA | 2 | 0 | 2662             |  21.6792 | NA              | C |\n",
       "| ⋮ | ⋮ | ⋮ | ⋮ | ⋮ | ⋮ | ⋮ | ⋮ | ⋮ | ⋮ | ⋮ |\n",
       "| 1280 | 3 | Canavan, Mr. Patrick                                            | male   | 21.0 | 0 | 0 | 364858             |   7.7500 | NA   | Q |\n",
       "| 1281 | 3 | Palsson, Master. Paul Folke                                     | male   |  6.0 | 3 | 1 | 349909             |  21.0750 | NA   | S |\n",
       "| 1282 | 1 | Payne, Mr. Vivian Ponsonby                                      | male   | 23.0 | 0 | 0 | 12749              |  93.5000 | B24  | S |\n",
       "| 1283 | 1 | Lines, Mrs. Ernest H (Elizabeth Lindsey James)                  | female | 51.0 | 0 | 1 | PC 17592           |  39.4000 | D28  | S |\n",
       "| 1284 | 3 | Abbott, Master. Eugene Joseph                                   | male   | 13.0 | 0 | 2 | C.A. 2673          |  20.2500 | NA   | S |\n",
       "| 1285 | 2 | Gilbert, Mr. William                                            | male   | 47.0 | 0 | 0 | C.A. 30769         |  10.5000 | NA   | S |\n",
       "| 1286 | 3 | Kink-Heilmann, Mr. Anton                                        | male   | 29.0 | 3 | 1 | 315153             |  22.0250 | NA   | S |\n",
       "| 1287 | 1 | Smith, Mrs. Lucien Philip (Mary Eloise Hughes)                  | female | 18.0 | 1 | 0 | 13695              |  60.0000 | C31  | S |\n",
       "| 1288 | 3 | Colbert, Mr. Patrick                                            | male   | 24.0 | 0 | 0 | 371109             |   7.2500 | NA   | Q |\n",
       "| 1289 | 1 | Frolicher-Stehli, Mrs. Maxmillian (Margaretha Emerentia Stehli) | female | 48.0 | 1 | 1 | 13567              |  79.2000 | B41  | C |\n",
       "| 1290 | 3 | Larsson-Rondberg, Mr. Edvard A                                  | male   | 22.0 | 0 | 0 | 347065             |   7.7750 | NA   | S |\n",
       "| 1291 | 3 | Conlon, Mr. Thomas Henry                                        | male   | 31.0 | 0 | 0 | 21332              |   7.7333 | NA   | Q |\n",
       "| 1292 | 1 | Bonnell, Miss. Caroline                                         | female | 30.0 | 0 | 0 | 36928              | 164.8667 | C7   | S |\n",
       "| 1293 | 2 | Gale, Mr. Harry                                                 | male   | 38.0 | 1 | 0 | 28664              |  21.0000 | NA   | S |\n",
       "| 1294 | 1 | Gibson, Miss. Dorothy Winifred                                  | female | 22.0 | 0 | 1 | 112378             |  59.4000 | NA   | C |\n",
       "| 1295 | 1 | Carrau, Mr. Jose Pedro                                          | male   | 17.0 | 0 | 0 | 113059             |  47.1000 | NA   | S |\n",
       "| 1296 | 1 | Frauenthal, Mr. Isaac Gerald                                    | male   | 43.0 | 1 | 0 | 17765              |  27.7208 | D40  | C |\n",
       "| 1297 | 2 | Nourney, Mr. Alfred (Baron von Drachstedt\")\"                    | male   | 20.0 | 0 | 0 | SC/PARIS 2166      |  13.8625 | D38  | C |\n",
       "| 1298 | 2 | Ware, Mr. William Jeffery                                       | male   | 23.0 | 1 | 0 | 28666              |  10.5000 | NA   | S |\n",
       "| 1299 | 1 | Widener, Mr. George Dunton                                      | male   | 50.0 | 1 | 1 | 113503             | 211.5000 | C80  | C |\n",
       "| 1300 | 3 | Riordan, Miss. Johanna Hannah\"\"                                 | female |   NA | 0 | 0 | 334915             |   7.7208 | NA   | Q |\n",
       "| 1301 | 3 | Peacock, Miss. Treasteall                                       | female |  3.0 | 1 | 1 | SOTON/O.Q. 3101315 |  13.7750 | NA   | S |\n",
       "| 1302 | 3 | Naughton, Miss. Hannah                                          | female |   NA | 0 | 0 | 365237             |   7.7500 | NA   | Q |\n",
       "| 1303 | 1 | Minahan, Mrs. William Edward (Lillian E Thorpe)                 | female | 37.0 | 1 | 0 | 19928              |  90.0000 | C78  | Q |\n",
       "| 1304 | 3 | Henriksson, Miss. Jenny Lovisa                                  | female | 28.0 | 0 | 0 | 347086             |   7.7750 | NA   | S |\n",
       "| 1305 | 3 | Spector, Mr. Woolf                                              | male   |   NA | 0 | 0 | A.5. 3236          |   8.0500 | NA   | S |\n",
       "| 1306 | 1 | Oliva y Ocana, Dona. Fermina                                    | female | 39.0 | 0 | 0 | PC 17758           | 108.9000 | C105 | C |\n",
       "| 1307 | 3 | Saether, Mr. Simon Sivertsen                                    | male   | 38.5 | 0 | 0 | SOTON/O.Q. 3101262 |   7.2500 | NA   | S |\n",
       "| 1308 | 3 | Ware, Mr. Frederick                                             | male   |   NA | 0 | 0 | 359309             |   8.0500 | NA   | S |\n",
       "| 1309 | 3 | Peter, Master. Michael J                                        | male   |   NA | 1 | 1 | 2668               |  22.3583 | NA   | C |\n",
       "\n"
      ],
      "text/plain": [
       "    PassengerId Pclass\n",
       "1   892         3     \n",
       "2   893         3     \n",
       "3   894         2     \n",
       "4   895         3     \n",
       "5   896         3     \n",
       "6   897         3     \n",
       "7   898         3     \n",
       "8   899         2     \n",
       "9   900         3     \n",
       "10  901         3     \n",
       "11  902         3     \n",
       "12  903         1     \n",
       "13  904         1     \n",
       "14  905         2     \n",
       "15  906         1     \n",
       "16  907         2     \n",
       "17  908         2     \n",
       "18  909         3     \n",
       "19  910         3     \n",
       "20  911         3     \n",
       "21  912         1     \n",
       "22  913         3     \n",
       "23  914         1     \n",
       "24  915         1     \n",
       "25  916         1     \n",
       "26  917         3     \n",
       "27  918         1     \n",
       "28  919         3     \n",
       "29  920         1     \n",
       "30  921         3     \n",
       "⋮   ⋮           ⋮     \n",
       "389 1280        3     \n",
       "390 1281        3     \n",
       "391 1282        1     \n",
       "392 1283        1     \n",
       "393 1284        3     \n",
       "394 1285        2     \n",
       "395 1286        3     \n",
       "396 1287        1     \n",
       "397 1288        3     \n",
       "398 1289        1     \n",
       "399 1290        3     \n",
       "400 1291        3     \n",
       "401 1292        1     \n",
       "402 1293        2     \n",
       "403 1294        1     \n",
       "404 1295        1     \n",
       "405 1296        1     \n",
       "406 1297        2     \n",
       "407 1298        2     \n",
       "408 1299        1     \n",
       "409 1300        3     \n",
       "410 1301        3     \n",
       "411 1302        3     \n",
       "412 1303        1     \n",
       "413 1304        3     \n",
       "414 1305        3     \n",
       "415 1306        1     \n",
       "416 1307        3     \n",
       "417 1308        3     \n",
       "418 1309        3     \n",
       "    Name                                                            Sex    Age \n",
       "1   Kelly, Mr. James                                                male   34.5\n",
       "2   Wilkes, Mrs. James (Ellen Needs)                                female 47.0\n",
       "3   Myles, Mr. Thomas Francis                                       male   62.0\n",
       "4   Wirz, Mr. Albert                                                male   27.0\n",
       "5   Hirvonen, Mrs. Alexander (Helga E Lindqvist)                    female 22.0\n",
       "6   Svensson, Mr. Johan Cervin                                      male   14.0\n",
       "7   Connolly, Miss. Kate                                            female 30.0\n",
       "8   Caldwell, Mr. Albert Francis                                    male   26.0\n",
       "9   Abrahim, Mrs. Joseph (Sophie Halaut Easu)                       female 18.0\n",
       "10  Davies, Mr. John Samuel                                         male   21.0\n",
       "11  Ilieff, Mr. Ylio                                                male     NA\n",
       "12  Jones, Mr. Charles Cresson                                      male   46.0\n",
       "13  Snyder, Mrs. John Pillsbury (Nelle Stevenson)                   female 23.0\n",
       "14  Howard, Mr. Benjamin                                            male   63.0\n",
       "15  Chaffee, Mrs. Herbert Fuller (Carrie Constance Toogood)         female 47.0\n",
       "16  del Carlo, Mrs. Sebastiano (Argenia Genovesi)                   female 24.0\n",
       "17  Keane, Mr. Daniel                                               male   35.0\n",
       "18  Assaf, Mr. Gerios                                               male   21.0\n",
       "19  Ilmakangas, Miss. Ida Livija                                    female 27.0\n",
       "20  Assaf Khalil, Mrs. Mariana (Miriam\")\"                           female 45.0\n",
       "21  Rothschild, Mr. Martin                                          male   55.0\n",
       "22  Olsen, Master. Artur Karl                                       male    9.0\n",
       "23  Flegenheim, Mrs. Alfred (Antoinette)                            female   NA\n",
       "24  Williams, Mr. Richard Norris II                                 male   21.0\n",
       "25  Ryerson, Mrs. Arthur Larned (Emily Maria Borie)                 female 48.0\n",
       "26  Robins, Mr. Alexander A                                         male   50.0\n",
       "27  Ostby, Miss. Helene Ragnhild                                    female 22.0\n",
       "28  Daher, Mr. Shedid                                               male   22.5\n",
       "29  Brady, Mr. John Bertram                                         male   41.0\n",
       "30  Samaan, Mr. Elias                                               male     NA\n",
       "⋮   ⋮                                                               ⋮      ⋮   \n",
       "389 Canavan, Mr. Patrick                                            male   21.0\n",
       "390 Palsson, Master. Paul Folke                                     male    6.0\n",
       "391 Payne, Mr. Vivian Ponsonby                                      male   23.0\n",
       "392 Lines, Mrs. Ernest H (Elizabeth Lindsey James)                  female 51.0\n",
       "393 Abbott, Master. Eugene Joseph                                   male   13.0\n",
       "394 Gilbert, Mr. William                                            male   47.0\n",
       "395 Kink-Heilmann, Mr. Anton                                        male   29.0\n",
       "396 Smith, Mrs. Lucien Philip (Mary Eloise Hughes)                  female 18.0\n",
       "397 Colbert, Mr. Patrick                                            male   24.0\n",
       "398 Frolicher-Stehli, Mrs. Maxmillian (Margaretha Emerentia Stehli) female 48.0\n",
       "399 Larsson-Rondberg, Mr. Edvard A                                  male   22.0\n",
       "400 Conlon, Mr. Thomas Henry                                        male   31.0\n",
       "401 Bonnell, Miss. Caroline                                         female 30.0\n",
       "402 Gale, Mr. Harry                                                 male   38.0\n",
       "403 Gibson, Miss. Dorothy Winifred                                  female 22.0\n",
       "404 Carrau, Mr. Jose Pedro                                          male   17.0\n",
       "405 Frauenthal, Mr. Isaac Gerald                                    male   43.0\n",
       "406 Nourney, Mr. Alfred (Baron von Drachstedt\")\"                    male   20.0\n",
       "407 Ware, Mr. William Jeffery                                       male   23.0\n",
       "408 Widener, Mr. George Dunton                                      male   50.0\n",
       "409 Riordan, Miss. Johanna Hannah\"\"                                 female   NA\n",
       "410 Peacock, Miss. Treasteall                                       female  3.0\n",
       "411 Naughton, Miss. Hannah                                          female   NA\n",
       "412 Minahan, Mrs. William Edward (Lillian E Thorpe)                 female 37.0\n",
       "413 Henriksson, Miss. Jenny Lovisa                                  female 28.0\n",
       "414 Spector, Mr. Woolf                                              male     NA\n",
       "415 Oliva y Ocana, Dona. Fermina                                    female 39.0\n",
       "416 Saether, Mr. Simon Sivertsen                                    male   38.5\n",
       "417 Ware, Mr. Frederick                                             male     NA\n",
       "418 Peter, Master. Michael J                                        male     NA\n",
       "    SibSp Parch Ticket             Fare     Cabin           Embarked\n",
       "1   0     0     330911               7.8292 NA              Q       \n",
       "2   1     0     363272               7.0000 NA              S       \n",
       "3   0     0     240276               9.6875 NA              Q       \n",
       "4   0     0     315154               8.6625 NA              S       \n",
       "5   1     1     3101298             12.2875 NA              S       \n",
       "6   0     0     7538                 9.2250 NA              S       \n",
       "7   0     0     330972               7.6292 NA              Q       \n",
       "8   1     1     248738              29.0000 NA              S       \n",
       "9   0     0     2657                 7.2292 NA              C       \n",
       "10  2     0     A/4 48871           24.1500 NA              S       \n",
       "11  0     0     349220               7.8958 NA              S       \n",
       "12  0     0     694                 26.0000 NA              S       \n",
       "13  1     0     21228               82.2667 B45             S       \n",
       "14  1     0     24065               26.0000 NA              S       \n",
       "15  1     0     W.E.P. 5734         61.1750 E31             S       \n",
       "16  1     0     SC/PARIS 2167       27.7208 NA              C       \n",
       "17  0     0     233734              12.3500 NA              Q       \n",
       "18  0     0     2692                 7.2250 NA              C       \n",
       "19  1     0     STON/O2. 3101270     7.9250 NA              S       \n",
       "20  0     0     2696                 7.2250 NA              C       \n",
       "21  1     0     PC 17603            59.4000 NA              C       \n",
       "22  0     1     C 17368              3.1708 NA              S       \n",
       "23  0     0     PC 17598            31.6833 NA              S       \n",
       "24  0     1     PC 17597            61.3792 NA              C       \n",
       "25  1     3     PC 17608           262.3750 B57 B59 B63 B66 C       \n",
       "26  1     0     A/5. 3337           14.5000 NA              S       \n",
       "27  0     1     113509              61.9792 B36             C       \n",
       "28  0     0     2698                 7.2250 NA              C       \n",
       "29  0     0     113054              30.5000 A21             S       \n",
       "30  2     0     2662                21.6792 NA              C       \n",
       "⋮   ⋮     ⋮     ⋮                  ⋮        ⋮               ⋮       \n",
       "389 0     0     364858               7.7500 NA              Q       \n",
       "390 3     1     349909              21.0750 NA              S       \n",
       "391 0     0     12749               93.5000 B24             S       \n",
       "392 0     1     PC 17592            39.4000 D28             S       \n",
       "393 0     2     C.A. 2673           20.2500 NA              S       \n",
       "394 0     0     C.A. 30769          10.5000 NA              S       \n",
       "395 3     1     315153              22.0250 NA              S       \n",
       "396 1     0     13695               60.0000 C31             S       \n",
       "397 0     0     371109               7.2500 NA              Q       \n",
       "398 1     1     13567               79.2000 B41             C       \n",
       "399 0     0     347065               7.7750 NA              S       \n",
       "400 0     0     21332                7.7333 NA              Q       \n",
       "401 0     0     36928              164.8667 C7              S       \n",
       "402 1     0     28664               21.0000 NA              S       \n",
       "403 0     1     112378              59.4000 NA              C       \n",
       "404 0     0     113059              47.1000 NA              S       \n",
       "405 1     0     17765               27.7208 D40             C       \n",
       "406 0     0     SC/PARIS 2166       13.8625 D38             C       \n",
       "407 1     0     28666               10.5000 NA              S       \n",
       "408 1     1     113503             211.5000 C80             C       \n",
       "409 0     0     334915               7.7208 NA              Q       \n",
       "410 1     1     SOTON/O.Q. 3101315  13.7750 NA              S       \n",
       "411 0     0     365237               7.7500 NA              Q       \n",
       "412 1     0     19928               90.0000 C78             Q       \n",
       "413 0     0     347086               7.7750 NA              S       \n",
       "414 0     0     A.5. 3236            8.0500 NA              S       \n",
       "415 0     0     PC 17758           108.9000 C105            C       \n",
       "416 0     0     SOTON/O.Q. 3101262   7.2500 NA              S       \n",
       "417 0     0     359309               8.0500 NA              S       \n",
       "418 1     1     2668                22.3583 NA              C       "
      ]
     },
     "metadata": {},
     "output_type": "display_data"
    }
   ],
   "source": [
    "#cleaning up testing data\n",
    "test <- read_csv(\"data/test.csv\")\n",
    "test"
   ]
  },
  {
   "cell_type": "code",
   "execution_count": 18,
   "id": "1b9bea2b-96ec-4c23-9917-b086faac2f5e",
   "metadata": {},
   "outputs": [
    {
     "ename": "ERROR",
     "evalue": "Error in hardhat::forge(new_data, blueprint = mold$blueprint): object 'boat_test' not found\n",
     "output_type": "error",
     "traceback": [
      "Error in hardhat::forge(new_data, blueprint = mold$blueprint): object 'boat_test' not found\nTraceback:\n",
      "1. filter(metrics(bind_cols(predict(boat_fit, boat_test), boat_test), \n .     truth = Survived, estimate = .pred_class), .metric == \"accuracy\")",
      "2. metrics(bind_cols(predict(boat_fit, boat_test), boat_test), truth = Survived, \n .     estimate = .pred_class)",
      "3. bind_cols(predict(boat_fit, boat_test), boat_test)",
      "4. list2(...)",
      "5. predict(boat_fit, boat_test)",
      "6. predict.workflow(boat_fit, boat_test)",
      "7. forge_predictors(new_data, workflow)",
      "8. hardhat::forge(new_data, blueprint = mold$blueprint)"
     ]
    }
   ],
   "source": [
    "set.seed(911)\n",
    "#testing the model's accuracy on testing data:\n",
    "\n",
    "accuracy_estimate <- predict(boat_fit, boat_test) |>\n",
    "    bind_cols(boat_test) |>\n",
    "    metrics(truth = Survived, estimate = .pred_class) |>\n",
    "    filter(.metric == \"accuracy\")\n",
    "\n",
    "accuracy_estimate"
   ]
  },
  {
   "cell_type": "code",
   "execution_count": null,
   "id": "c730099b-1f9e-4384-b4f9-96df52014869",
   "metadata": {},
   "outputs": [],
   "source": [
    "#finding the majority class prediction:\n",
    "\n",
    "majority_class <- boat_test |>\n",
    "    group_by(Survived) |>\n",
    "    summarise(count = n(), percentage = n()/nrow(boat_test))\n",
    "\n",
    "majority_class"
   ]
  },
  {
   "cell_type": "code",
   "execution_count": null,
   "id": "f35ac0d7-f866-43d5-9e6e-4b48a9dae422",
   "metadata": {},
   "outputs": [],
   "source": []
  }
 ],
 "metadata": {
  "kernelspec": {
   "display_name": "R",
   "language": "R",
   "name": "ir"
  },
  "language_info": {
   "codemirror_mode": "r",
   "file_extension": ".r",
   "mimetype": "text/x-r-source",
   "name": "R",
   "pygments_lexer": "r",
   "version": "4.1.3"
  }
 },
 "nbformat": 4,
 "nbformat_minor": 5
}
