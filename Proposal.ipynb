{
 "cells": [
  {
   "cell_type": "markdown",
   "id": "b96f19f5-a26b-4f82-bf3d-a976fe786abd",
   "metadata": {},
   "source": [
    "# Titanic Project: Will a Passenger Survive?\n",
    "Group 33 Members: Chloe Vaughan, Susan Zhang, James Drover, Olivia Klassen, and Adeeb Khan"
   ]
  },
  {
   "cell_type": "markdown",
   "id": "8517e20a-a202-4f2b-ab74-df592371821e",
   "metadata": {
    "tags": []
   },
   "source": [
    "## Introduction\n",
    "\n",
    "In 1912, the RMS Titanic sank 5 days into her first trip across the Atlantic Ocean. Originally dubbed \"unsinkable\", the ship is one of the most famous tragedies in modern history. Whether a passenger survived was not entirely luck-based, some passengers were more likely to survive than others. In this project, we examine what passengers are most likely to survive, then finally build a classification model to predict the survival status of people onboard. This analysis allows better understanding of the political environment during the which the Titanic sank. It is important to present and analyze this data so that we can think about how we might prioritize lives if a similar event were to occur. How was the lifeboat distribution prioritzied, and was it fair? Would we do things differently now, seeing as we have evolved towards equity as a society?  \n",
    "\n",
    "[The Titanic dataset](https://www.kaggle.com/competitions/titanic/data?select=train.csv) was obtained by Kaggle. \n",
    "\n",
    "**Question**: Will a given passenger survive the titanic crash? To answer this question, we must first ask what variables are important to determining survival?\n",
    "\n",
    "**Our Variables**:\n",
    "- PassengerId = **NOTE**: confused about this column, ALSO some variables from this list are later removed\n",
    "- Survived = whether the passenger lived or died on the Titanic, 0 = did not survive, 1 = survived\n",
    "- Passenger_Class = Indicates socio-economic status, 1 = Upper, 2 = Middle, 3 = Lower\n",
    "- Name = name of passenger\n",
    "- Age = age in years\n",
    "- Number0fSiblings = # of siblings/spouses on the titanic\n",
    "- NumberofParents_children = # of parents/children on the titanic \n",
    "- Ticket = ticket number\n",
    "- Fare = passenger fare\n",
    "- Cabin = cabin number\n",
    "- Embarked = Port of Embarkation, C = Cherbourg, Q = Queenstown, S = Southampton\n",
    "\n",
    "The column names given above are not the same as the untidy data. We have renamed the columns in the original dataset. Familial relationships defined as follows:\n",
    "- Sibling = brother, sister, stepbrother, stepsister, Spouse = husband, wife, note that mistresses and fiancés were ignored\n",
    "- Parent = mother, father, some children travelled with a nanny, NumberofParents_children = 0 in this case. Child = daughter, son, stepdaughter, stepson"
   ]
  },
  {
   "cell_type": "markdown",
   "id": "d813e964-6f04-4e5f-ab42-7ec761458bc5",
   "metadata": {
    "tags": []
   },
   "source": [
    "## Methods\n",
    "\n",
    "The Titanic dataset will be cleaned and wrangled into a tidy format, in which the following variables will be omitted: passenger ID, name, embarked, ticket. These variables likely have no effect on classification as they are all titles with little bearing on real world events. Cabin number was omitted due to an overwhelming number of NA values. As well, all rows within this new set that have N/A as a value will be removed, and labels renamed to be human readable.\n",
    "\n",
    "Survival, Class, Sex, Age, Number of Siblings on the Ship, Number of Parents/Children on the Ship, and fare will be used as variables for analysis. We will visualize the data using different types of visualizations to determine the impact of each on survival. Those with negligible impact on survival may be omitted from the prediction recipe, then the data will be trained to predict if a given passenger will survive."
   ]
  },
  {
   "cell_type": "markdown",
   "id": "99e6ba8c-26a5-4491-8991-8a8a8c397445",
   "metadata": {
    "tags": []
   },
   "source": [
    "### Installing Packages & Libraries"
   ]
  },
  {
   "cell_type": "code",
   "execution_count": 16,
   "id": "74e4ce29-21f7-46c6-ae4f-aa966280d53b",
   "metadata": {},
   "outputs": [
    {
     "name": "stderr",
     "output_type": "stream",
     "text": [
      "Updating HTML index of packages in '.Library'\n",
      "\n",
      "Making 'packages.html' ...\n",
      " done\n",
      "\n",
      "Updating HTML index of packages in '.Library'\n",
      "\n",
      "Making 'packages.html' ...\n",
      " done\n",
      "\n",
      "Updating HTML index of packages in '.Library'\n",
      "\n",
      "Making 'packages.html' ...\n",
      " done\n",
      "\n"
     ]
    }
   ],
   "source": [
    "install.packages('themis')\n",
    "install.packages('psych')\n",
    "install.packages('gridExtra')"
   ]
  },
  {
   "cell_type": "code",
   "execution_count": 17,
   "id": "057a12c5-bf31-4bf9-87e0-b11e626be7e1",
   "metadata": {},
   "outputs": [],
   "source": [
    "library(themis)\n",
    "library(tidyverse)\n",
    "library(tidymodels)\n",
    "library(dplyr)\n",
    "library(psych)\n",
    "library(gridExtra)"
   ]
  },
  {
   "cell_type": "markdown",
   "id": "267d5a8e-d2f8-4f3f-8e85-1afac3132835",
   "metadata": {},
   "source": [
    "## Preliminary Data Analysis"
   ]
  },
  {
   "cell_type": "markdown",
   "id": "0fc93ed2-0122-4d31-ab08-946aeda2cc84",
   "metadata": {},
   "source": [
    "Our first data anlysis step is to examine the data. Before we build our model, we need to read the data into R, then rename the columns with more intuitive names. Our next step is to become familiar with some statics on our data (e.g. number of observations, what each column means, can columns be dropped at this step, etc). We also need to wrangle our data into a tidy format. Some variables are changed to another class, and we examine how many NA values are present in our data. Tidy data ensures that the functions we employ later on work seamlessly, and makes the data easier to interpret."
   ]
  },
  {
   "cell_type": "code",
   "execution_count": 18,
   "id": "e924fa88-07be-4a10-a88f-e58ab43cb3ea",
   "metadata": {},
   "outputs": [
    {
     "name": "stderr",
     "output_type": "stream",
     "text": [
      "\u001b[1mRows: \u001b[22m\u001b[34m891\u001b[39m \u001b[1mColumns: \u001b[22m\u001b[34m12\u001b[39m\n",
      "\u001b[36m──\u001b[39m \u001b[1mColumn specification\u001b[22m \u001b[36m────────────────────────────────────────────────────────\u001b[39m\n",
      "\u001b[1mDelimiter:\u001b[22m \",\"\n",
      "\u001b[31mchr\u001b[39m (5): Name, Sex, Ticket, Cabin, Embarked\n",
      "\u001b[32mdbl\u001b[39m (7): PassengerId, Survived, Pclass, Age, SibSp, Parch, Fare\n",
      "\n",
      "\u001b[36mℹ\u001b[39m Use `spec()` to retrieve the full column specification for this data.\n",
      "\u001b[36mℹ\u001b[39m Specify the column types or set `show_col_types = FALSE` to quiet this message.\n"
     ]
    },
    {
     "data": {
      "text/html": [
       "<table class=\"dataframe\">\n",
       "<caption>A tibble: 6 × 12</caption>\n",
       "<thead>\n",
       "\t<tr><th scope=col>PassengerId</th><th scope=col>Survived</th><th scope=col>Passenger_Class</th><th scope=col>Name</th><th scope=col>Sex</th><th scope=col>Age</th><th scope=col>Number0fSiblings</th><th scope=col>NumberofParents_children</th><th scope=col>Ticket</th><th scope=col>Fare</th><th scope=col>Cabin</th><th scope=col>Embarked</th></tr>\n",
       "\t<tr><th scope=col>&lt;dbl&gt;</th><th scope=col>&lt;dbl&gt;</th><th scope=col>&lt;dbl&gt;</th><th scope=col>&lt;chr&gt;</th><th scope=col>&lt;chr&gt;</th><th scope=col>&lt;dbl&gt;</th><th scope=col>&lt;dbl&gt;</th><th scope=col>&lt;dbl&gt;</th><th scope=col>&lt;chr&gt;</th><th scope=col>&lt;dbl&gt;</th><th scope=col>&lt;chr&gt;</th><th scope=col>&lt;chr&gt;</th></tr>\n",
       "</thead>\n",
       "<tbody>\n",
       "\t<tr><td>1</td><td>0</td><td>3</td><td>Braund, Mr. Owen Harris                            </td><td>male  </td><td>22</td><td>1</td><td>0</td><td>A/5 21171       </td><td> 7.2500</td><td>NA  </td><td>S</td></tr>\n",
       "\t<tr><td>2</td><td>1</td><td>1</td><td>Cumings, Mrs. John Bradley (Florence Briggs Thayer)</td><td>female</td><td>38</td><td>1</td><td>0</td><td>PC 17599        </td><td>71.2833</td><td>C85 </td><td>C</td></tr>\n",
       "\t<tr><td>3</td><td>1</td><td>3</td><td>Heikkinen, Miss. Laina                             </td><td>female</td><td>26</td><td>0</td><td>0</td><td>STON/O2. 3101282</td><td> 7.9250</td><td>NA  </td><td>S</td></tr>\n",
       "\t<tr><td>4</td><td>1</td><td>1</td><td>Futrelle, Mrs. Jacques Heath (Lily May Peel)       </td><td>female</td><td>35</td><td>1</td><td>0</td><td>113803          </td><td>53.1000</td><td>C123</td><td>S</td></tr>\n",
       "\t<tr><td>5</td><td>0</td><td>3</td><td>Allen, Mr. William Henry                           </td><td>male  </td><td>35</td><td>0</td><td>0</td><td>373450          </td><td> 8.0500</td><td>NA  </td><td>S</td></tr>\n",
       "\t<tr><td>6</td><td>0</td><td>3</td><td>Moran, Mr. James                                   </td><td>male  </td><td>NA</td><td>0</td><td>0</td><td>330877          </td><td> 8.4583</td><td>NA  </td><td>Q</td></tr>\n",
       "</tbody>\n",
       "</table>\n"
      ],
      "text/latex": [
       "A tibble: 6 × 12\n",
       "\\begin{tabular}{llllllllllll}\n",
       " PassengerId & Survived & Passenger\\_Class & Name & Sex & Age & Number0fSiblings & NumberofParents\\_children & Ticket & Fare & Cabin & Embarked\\\\\n",
       " <dbl> & <dbl> & <dbl> & <chr> & <chr> & <dbl> & <dbl> & <dbl> & <chr> & <dbl> & <chr> & <chr>\\\\\n",
       "\\hline\n",
       "\t 1 & 0 & 3 & Braund, Mr. Owen Harris                             & male   & 22 & 1 & 0 & A/5 21171        &  7.2500 & NA   & S\\\\\n",
       "\t 2 & 1 & 1 & Cumings, Mrs. John Bradley (Florence Briggs Thayer) & female & 38 & 1 & 0 & PC 17599         & 71.2833 & C85  & C\\\\\n",
       "\t 3 & 1 & 3 & Heikkinen, Miss. Laina                              & female & 26 & 0 & 0 & STON/O2. 3101282 &  7.9250 & NA   & S\\\\\n",
       "\t 4 & 1 & 1 & Futrelle, Mrs. Jacques Heath (Lily May Peel)        & female & 35 & 1 & 0 & 113803           & 53.1000 & C123 & S\\\\\n",
       "\t 5 & 0 & 3 & Allen, Mr. William Henry                            & male   & 35 & 0 & 0 & 373450           &  8.0500 & NA   & S\\\\\n",
       "\t 6 & 0 & 3 & Moran, Mr. James                                    & male   & NA & 0 & 0 & 330877           &  8.4583 & NA   & Q\\\\\n",
       "\\end{tabular}\n"
      ],
      "text/markdown": [
       "\n",
       "A tibble: 6 × 12\n",
       "\n",
       "| PassengerId &lt;dbl&gt; | Survived &lt;dbl&gt; | Passenger_Class &lt;dbl&gt; | Name &lt;chr&gt; | Sex &lt;chr&gt; | Age &lt;dbl&gt; | Number0fSiblings &lt;dbl&gt; | NumberofParents_children &lt;dbl&gt; | Ticket &lt;chr&gt; | Fare &lt;dbl&gt; | Cabin &lt;chr&gt; | Embarked &lt;chr&gt; |\n",
       "|---|---|---|---|---|---|---|---|---|---|---|---|\n",
       "| 1 | 0 | 3 | Braund, Mr. Owen Harris                             | male   | 22 | 1 | 0 | A/5 21171        |  7.2500 | NA   | S |\n",
       "| 2 | 1 | 1 | Cumings, Mrs. John Bradley (Florence Briggs Thayer) | female | 38 | 1 | 0 | PC 17599         | 71.2833 | C85  | C |\n",
       "| 3 | 1 | 3 | Heikkinen, Miss. Laina                              | female | 26 | 0 | 0 | STON/O2. 3101282 |  7.9250 | NA   | S |\n",
       "| 4 | 1 | 1 | Futrelle, Mrs. Jacques Heath (Lily May Peel)        | female | 35 | 1 | 0 | 113803           | 53.1000 | C123 | S |\n",
       "| 5 | 0 | 3 | Allen, Mr. William Henry                            | male   | 35 | 0 | 0 | 373450           |  8.0500 | NA   | S |\n",
       "| 6 | 0 | 3 | Moran, Mr. James                                    | male   | NA | 0 | 0 | 330877           |  8.4583 | NA   | Q |\n",
       "\n"
      ],
      "text/plain": [
       "  PassengerId Survived Passenger_Class\n",
       "1 1           0        3              \n",
       "2 2           1        1              \n",
       "3 3           1        3              \n",
       "4 4           1        1              \n",
       "5 5           0        3              \n",
       "6 6           0        3              \n",
       "  Name                                                Sex    Age\n",
       "1 Braund, Mr. Owen Harris                             male   22 \n",
       "2 Cumings, Mrs. John Bradley (Florence Briggs Thayer) female 38 \n",
       "3 Heikkinen, Miss. Laina                              female 26 \n",
       "4 Futrelle, Mrs. Jacques Heath (Lily May Peel)        female 35 \n",
       "5 Allen, Mr. William Henry                            male   35 \n",
       "6 Moran, Mr. James                                    male   NA \n",
       "  Number0fSiblings NumberofParents_children Ticket           Fare    Cabin\n",
       "1 1                0                        A/5 21171         7.2500 NA   \n",
       "2 1                0                        PC 17599         71.2833 C85  \n",
       "3 0                0                        STON/O2. 3101282  7.9250 NA   \n",
       "4 1                0                        113803           53.1000 C123 \n",
       "5 0                0                        373450            8.0500 NA   \n",
       "6 0                0                        330877            8.4583 NA   \n",
       "  Embarked\n",
       "1 S       \n",
       "2 C       \n",
       "3 S       \n",
       "4 S       \n",
       "5 S       \n",
       "6 Q       "
      ]
     },
     "metadata": {},
     "output_type": "display_data"
    }
   ],
   "source": [
    "boat_data <- read_csv(\"data/train.csv\")\n",
    "colnames(boat_data) = c(\"PassengerId\", \"Survived\", \"Passenger_Class\", \"Name\", \"Sex\", \"Age\", \"Number0fSiblings\", \n",
    "                                 \"NumberofParents_children\", \"Ticket\", \"Fare\", \"Cabin\", \"Embarked\")\n",
    "head(boat_data)"
   ]
  },
  {
   "cell_type": "markdown",
   "id": "4ff1dc9a-31d6-43b2-8bd1-e7f4ab767f75",
   "metadata": {},
   "source": [
    "Rarely are all the variables used to build a model, inclusion of too many can negatively impact our model's accuracy. Variables are excluded for several reasons: \n",
    "\n",
    "- 1) they may be a poor predictor of our target variable survival status \n",
    "- 2) too many NA values may be present and we have little data to work with \n",
    "- 3) the data collected is irrelevant, e.g. name, or enumeration of each entry in the data set\n",
    "\n",
    "We visualize the relationship between predictors and survival status in the exploratory data analysis step. In the preliminary stage, we only drop variables based on criteria 2) and 3). Using the describe function from the psych package, we can get detailed summary statistics for each column (Table 1). "
   ]
  },
  {
   "cell_type": "code",
   "execution_count": 19,
   "id": "97fa2492-13cf-431d-a73b-90c303aef3e8",
   "metadata": {},
   "outputs": [
    {
     "data": {
      "text/html": [
       "891"
      ],
      "text/latex": [
       "891"
      ],
      "text/markdown": [
       "891"
      ],
      "text/plain": [
       "[1] 891"
      ]
     },
     "metadata": {},
     "output_type": "display_data"
    }
   ],
   "source": [
    "nrow(boat_data)"
   ]
  },
  {
   "cell_type": "code",
   "execution_count": 20,
   "id": "6244eb56-849e-4a39-8693-8db91124f56d",
   "metadata": {},
   "outputs": [
    {
     "data": {
      "text/html": [
       "<table class=\"dataframe\">\n",
       "<caption>A psych: 12 × 13</caption>\n",
       "<thead>\n",
       "\t<tr><th></th><th scope=col>vars</th><th scope=col>n</th><th scope=col>mean</th><th scope=col>sd</th><th scope=col>median</th><th scope=col>trimmed</th><th scope=col>mad</th><th scope=col>min</th><th scope=col>max</th><th scope=col>range</th><th scope=col>skew</th><th scope=col>kurtosis</th><th scope=col>se</th></tr>\n",
       "\t<tr><th></th><th scope=col>&lt;int&gt;</th><th scope=col>&lt;dbl&gt;</th><th scope=col>&lt;dbl&gt;</th><th scope=col>&lt;dbl&gt;</th><th scope=col>&lt;dbl&gt;</th><th scope=col>&lt;dbl&gt;</th><th scope=col>&lt;dbl&gt;</th><th scope=col>&lt;dbl&gt;</th><th scope=col>&lt;dbl&gt;</th><th scope=col>&lt;dbl&gt;</th><th scope=col>&lt;dbl&gt;</th><th scope=col>&lt;dbl&gt;</th><th scope=col>&lt;dbl&gt;</th></tr>\n",
       "</thead>\n",
       "<tbody>\n",
       "\t<tr><th scope=row>PassengerId</th><td> 1</td><td>891</td><td>446.0000000</td><td>257.3538420</td><td>446.0000</td><td>446.0000000</td><td>330.61980</td><td>1.00</td><td>891.0000</td><td>890.0000</td><td> 0.000000e+00</td><td>-1.2040412</td><td>8.62167810</td></tr>\n",
       "\t<tr><th scope=row>Survived</th><td> 2</td><td>891</td><td>  0.3838384</td><td>  0.4865925</td><td>  0.0000</td><td>  0.3548387</td><td>  0.00000</td><td>0.00</td><td>  1.0000</td><td>  1.0000</td><td> 4.769135e-01</td><td>-1.7745414</td><td>0.01630146</td></tr>\n",
       "\t<tr><th scope=row>Passenger_Class</th><td> 3</td><td>891</td><td>  2.3086420</td><td>  0.8360712</td><td>  3.0000</td><td>  2.3856942</td><td>  0.00000</td><td>1.00</td><td>  3.0000</td><td>  2.0000</td><td>-6.284264e-01</td><td>-1.2834293</td><td>0.02800944</td></tr>\n",
       "\t<tr><th scope=row>Name*</th><td> 4</td><td>891</td><td>446.0000000</td><td>257.3538420</td><td>446.0000</td><td>446.0000000</td><td>330.61980</td><td>1.00</td><td>891.0000</td><td>890.0000</td><td> 0.000000e+00</td><td>-1.2040412</td><td>8.62167810</td></tr>\n",
       "\t<tr><th scope=row>Sex*</th><td> 5</td><td>891</td><td>  1.6475870</td><td>  0.4779901</td><td>  2.0000</td><td>  1.6844320</td><td>  0.00000</td><td>1.00</td><td>  2.0000</td><td>  1.0000</td><td>-6.168385e-01</td><td>-1.6213262</td><td>0.01601327</td></tr>\n",
       "\t<tr><th scope=row>Age</th><td> 6</td><td>714</td><td> 29.6991176</td><td> 14.5264973</td><td> 28.0000</td><td> 29.2692308</td><td> 13.34340</td><td>0.42</td><td> 80.0000</td><td> 79.5800</td><td> 3.874744e-01</td><td> 0.1597671</td><td>0.54364050</td></tr>\n",
       "\t<tr><th scope=row>Number0fSiblings</th><td> 7</td><td>891</td><td>  0.5230079</td><td>  1.1027434</td><td>  0.0000</td><td>  0.2720898</td><td>  0.00000</td><td>0.00</td><td>  8.0000</td><td>  8.0000</td><td> 3.682919e+00</td><td>17.7269083</td><td>0.03694329</td></tr>\n",
       "\t<tr><th scope=row>NumberofParents_children</th><td> 8</td><td>891</td><td>  0.3815937</td><td>  0.8060572</td><td>  0.0000</td><td>  0.1823282</td><td>  0.00000</td><td>0.00</td><td>  6.0000</td><td>  6.0000</td><td> 2.739868e+00</td><td> 9.6880847</td><td>0.02700393</td></tr>\n",
       "\t<tr><th scope=row>Ticket*</th><td> 9</td><td>891</td><td>339.5173962</td><td>200.8342670</td><td>338.0000</td><td>339.6465638</td><td>268.35060</td><td>1.00</td><td>681.0000</td><td>680.0000</td><td> 5.569478e-05</td><td>-1.2817773</td><td>6.72820110</td></tr>\n",
       "\t<tr><th scope=row>Fare</th><td>10</td><td>891</td><td> 32.2042080</td><td> 49.6934286</td><td> 14.4542</td><td> 21.3787156</td><td> 10.23617</td><td>0.00</td><td>512.3292</td><td>512.3292</td><td> 4.771210e+00</td><td>33.1230682</td><td>1.66479250</td></tr>\n",
       "\t<tr><th scope=row>Cabin*</th><td>11</td><td>204</td><td> 77.0000000</td><td> 42.2332253</td><td> 76.0000</td><td> 77.0914634</td><td> 54.11490</td><td>1.00</td><td>147.0000</td><td>146.0000</td><td> 5.477924e-04</td><td>-1.1859304</td><td>2.95691721</td></tr>\n",
       "\t<tr><th scope=row>Embarked*</th><td>12</td><td>889</td><td>  2.5354331</td><td>  0.7920877</td><td>  3.0000</td><td>  2.6676017</td><td>  0.00000</td><td>1.00</td><td>  3.0000</td><td>  2.0000</td><td>-1.257113e+00</td><td>-0.2278747</td><td>0.02656577</td></tr>\n",
       "</tbody>\n",
       "</table>\n"
      ],
      "text/latex": [
       "A psych: 12 × 13\n",
       "\\begin{tabular}{r|lllllllllllll}\n",
       "  & vars & n & mean & sd & median & trimmed & mad & min & max & range & skew & kurtosis & se\\\\\n",
       "  & <int> & <dbl> & <dbl> & <dbl> & <dbl> & <dbl> & <dbl> & <dbl> & <dbl> & <dbl> & <dbl> & <dbl> & <dbl>\\\\\n",
       "\\hline\n",
       "\tPassengerId &  1 & 891 & 446.0000000 & 257.3538420 & 446.0000 & 446.0000000 & 330.61980 & 1.00 & 891.0000 & 890.0000 &  0.000000e+00 & -1.2040412 & 8.62167810\\\\\n",
       "\tSurvived &  2 & 891 &   0.3838384 &   0.4865925 &   0.0000 &   0.3548387 &   0.00000 & 0.00 &   1.0000 &   1.0000 &  4.769135e-01 & -1.7745414 & 0.01630146\\\\\n",
       "\tPassenger\\_Class &  3 & 891 &   2.3086420 &   0.8360712 &   3.0000 &   2.3856942 &   0.00000 & 1.00 &   3.0000 &   2.0000 & -6.284264e-01 & -1.2834293 & 0.02800944\\\\\n",
       "\tName* &  4 & 891 & 446.0000000 & 257.3538420 & 446.0000 & 446.0000000 & 330.61980 & 1.00 & 891.0000 & 890.0000 &  0.000000e+00 & -1.2040412 & 8.62167810\\\\\n",
       "\tSex* &  5 & 891 &   1.6475870 &   0.4779901 &   2.0000 &   1.6844320 &   0.00000 & 1.00 &   2.0000 &   1.0000 & -6.168385e-01 & -1.6213262 & 0.01601327\\\\\n",
       "\tAge &  6 & 714 &  29.6991176 &  14.5264973 &  28.0000 &  29.2692308 &  13.34340 & 0.42 &  80.0000 &  79.5800 &  3.874744e-01 &  0.1597671 & 0.54364050\\\\\n",
       "\tNumber0fSiblings &  7 & 891 &   0.5230079 &   1.1027434 &   0.0000 &   0.2720898 &   0.00000 & 0.00 &   8.0000 &   8.0000 &  3.682919e+00 & 17.7269083 & 0.03694329\\\\\n",
       "\tNumberofParents\\_children &  8 & 891 &   0.3815937 &   0.8060572 &   0.0000 &   0.1823282 &   0.00000 & 0.00 &   6.0000 &   6.0000 &  2.739868e+00 &  9.6880847 & 0.02700393\\\\\n",
       "\tTicket* &  9 & 891 & 339.5173962 & 200.8342670 & 338.0000 & 339.6465638 & 268.35060 & 1.00 & 681.0000 & 680.0000 &  5.569478e-05 & -1.2817773 & 6.72820110\\\\\n",
       "\tFare & 10 & 891 &  32.2042080 &  49.6934286 &  14.4542 &  21.3787156 &  10.23617 & 0.00 & 512.3292 & 512.3292 &  4.771210e+00 & 33.1230682 & 1.66479250\\\\\n",
       "\tCabin* & 11 & 204 &  77.0000000 &  42.2332253 &  76.0000 &  77.0914634 &  54.11490 & 1.00 & 147.0000 & 146.0000 &  5.477924e-04 & -1.1859304 & 2.95691721\\\\\n",
       "\tEmbarked* & 12 & 889 &   2.5354331 &   0.7920877 &   3.0000 &   2.6676017 &   0.00000 & 1.00 &   3.0000 &   2.0000 & -1.257113e+00 & -0.2278747 & 0.02656577\\\\\n",
       "\\end{tabular}\n"
      ],
      "text/markdown": [
       "\n",
       "A psych: 12 × 13\n",
       "\n",
       "| <!--/--> | vars &lt;int&gt; | n &lt;dbl&gt; | mean &lt;dbl&gt; | sd &lt;dbl&gt; | median &lt;dbl&gt; | trimmed &lt;dbl&gt; | mad &lt;dbl&gt; | min &lt;dbl&gt; | max &lt;dbl&gt; | range &lt;dbl&gt; | skew &lt;dbl&gt; | kurtosis &lt;dbl&gt; | se &lt;dbl&gt; |\n",
       "|---|---|---|---|---|---|---|---|---|---|---|---|---|---|\n",
       "| PassengerId |  1 | 891 | 446.0000000 | 257.3538420 | 446.0000 | 446.0000000 | 330.61980 | 1.00 | 891.0000 | 890.0000 |  0.000000e+00 | -1.2040412 | 8.62167810 |\n",
       "| Survived |  2 | 891 |   0.3838384 |   0.4865925 |   0.0000 |   0.3548387 |   0.00000 | 0.00 |   1.0000 |   1.0000 |  4.769135e-01 | -1.7745414 | 0.01630146 |\n",
       "| Passenger_Class |  3 | 891 |   2.3086420 |   0.8360712 |   3.0000 |   2.3856942 |   0.00000 | 1.00 |   3.0000 |   2.0000 | -6.284264e-01 | -1.2834293 | 0.02800944 |\n",
       "| Name* |  4 | 891 | 446.0000000 | 257.3538420 | 446.0000 | 446.0000000 | 330.61980 | 1.00 | 891.0000 | 890.0000 |  0.000000e+00 | -1.2040412 | 8.62167810 |\n",
       "| Sex* |  5 | 891 |   1.6475870 |   0.4779901 |   2.0000 |   1.6844320 |   0.00000 | 1.00 |   2.0000 |   1.0000 | -6.168385e-01 | -1.6213262 | 0.01601327 |\n",
       "| Age |  6 | 714 |  29.6991176 |  14.5264973 |  28.0000 |  29.2692308 |  13.34340 | 0.42 |  80.0000 |  79.5800 |  3.874744e-01 |  0.1597671 | 0.54364050 |\n",
       "| Number0fSiblings |  7 | 891 |   0.5230079 |   1.1027434 |   0.0000 |   0.2720898 |   0.00000 | 0.00 |   8.0000 |   8.0000 |  3.682919e+00 | 17.7269083 | 0.03694329 |\n",
       "| NumberofParents_children |  8 | 891 |   0.3815937 |   0.8060572 |   0.0000 |   0.1823282 |   0.00000 | 0.00 |   6.0000 |   6.0000 |  2.739868e+00 |  9.6880847 | 0.02700393 |\n",
       "| Ticket* |  9 | 891 | 339.5173962 | 200.8342670 | 338.0000 | 339.6465638 | 268.35060 | 1.00 | 681.0000 | 680.0000 |  5.569478e-05 | -1.2817773 | 6.72820110 |\n",
       "| Fare | 10 | 891 |  32.2042080 |  49.6934286 |  14.4542 |  21.3787156 |  10.23617 | 0.00 | 512.3292 | 512.3292 |  4.771210e+00 | 33.1230682 | 1.66479250 |\n",
       "| Cabin* | 11 | 204 |  77.0000000 |  42.2332253 |  76.0000 |  77.0914634 |  54.11490 | 1.00 | 147.0000 | 146.0000 |  5.477924e-04 | -1.1859304 | 2.95691721 |\n",
       "| Embarked* | 12 | 889 |   2.5354331 |   0.7920877 |   3.0000 |   2.6676017 |   0.00000 | 1.00 |   3.0000 |   2.0000 | -1.257113e+00 | -0.2278747 | 0.02656577 |\n",
       "\n"
      ],
      "text/plain": [
       "                         vars n   mean        sd          median   trimmed    \n",
       "PassengerId               1   891 446.0000000 257.3538420 446.0000 446.0000000\n",
       "Survived                  2   891   0.3838384   0.4865925   0.0000   0.3548387\n",
       "Passenger_Class           3   891   2.3086420   0.8360712   3.0000   2.3856942\n",
       "Name*                     4   891 446.0000000 257.3538420 446.0000 446.0000000\n",
       "Sex*                      5   891   1.6475870   0.4779901   2.0000   1.6844320\n",
       "Age                       6   714  29.6991176  14.5264973  28.0000  29.2692308\n",
       "Number0fSiblings          7   891   0.5230079   1.1027434   0.0000   0.2720898\n",
       "NumberofParents_children  8   891   0.3815937   0.8060572   0.0000   0.1823282\n",
       "Ticket*                   9   891 339.5173962 200.8342670 338.0000 339.6465638\n",
       "Fare                     10   891  32.2042080  49.6934286  14.4542  21.3787156\n",
       "Cabin*                   11   204  77.0000000  42.2332253  76.0000  77.0914634\n",
       "Embarked*                12   889   2.5354331   0.7920877   3.0000   2.6676017\n",
       "                         mad       min  max      range    skew         \n",
       "PassengerId              330.61980 1.00 891.0000 890.0000  0.000000e+00\n",
       "Survived                   0.00000 0.00   1.0000   1.0000  4.769135e-01\n",
       "Passenger_Class            0.00000 1.00   3.0000   2.0000 -6.284264e-01\n",
       "Name*                    330.61980 1.00 891.0000 890.0000  0.000000e+00\n",
       "Sex*                       0.00000 1.00   2.0000   1.0000 -6.168385e-01\n",
       "Age                       13.34340 0.42  80.0000  79.5800  3.874744e-01\n",
       "Number0fSiblings           0.00000 0.00   8.0000   8.0000  3.682919e+00\n",
       "NumberofParents_children   0.00000 0.00   6.0000   6.0000  2.739868e+00\n",
       "Ticket*                  268.35060 1.00 681.0000 680.0000  5.569478e-05\n",
       "Fare                      10.23617 0.00 512.3292 512.3292  4.771210e+00\n",
       "Cabin*                    54.11490 1.00 147.0000 146.0000  5.477924e-04\n",
       "Embarked*                  0.00000 1.00   3.0000   2.0000 -1.257113e+00\n",
       "                         kurtosis   se        \n",
       "PassengerId              -1.2040412 8.62167810\n",
       "Survived                 -1.7745414 0.01630146\n",
       "Passenger_Class          -1.2834293 0.02800944\n",
       "Name*                    -1.2040412 8.62167810\n",
       "Sex*                     -1.6213262 0.01601327\n",
       "Age                       0.1597671 0.54364050\n",
       "Number0fSiblings         17.7269083 0.03694329\n",
       "NumberofParents_children  9.6880847 0.02700393\n",
       "Ticket*                  -1.2817773 6.72820110\n",
       "Fare                     33.1230682 1.66479250\n",
       "Cabin*                   -1.1859304 2.95691721\n",
       "Embarked*                -0.2278747 0.02656577"
      ]
     },
     "metadata": {},
     "output_type": "display_data"
    }
   ],
   "source": [
    "describe(boat_data)"
   ]
  },
  {
   "cell_type": "markdown",
   "id": "c80f3100-a9ed-42f0-88dd-9ae79bdc906e",
   "metadata": {},
   "source": [
    "**Table 1.** Summary Statistics for all Columns in Dataset"
   ]
  },
  {
   "cell_type": "markdown",
   "id": "41bcd461-5f9d-4e71-857f-2c5eb1c1e858",
   "metadata": {},
   "source": [
    "Two variables under the count (n) column catch our eye; both Age and Cabin have quite a few NA values. We have decided to remove \"Cabin\" as a predictor because only 204 out of 891 observations (23%) are not NA (Table 1). In contrast, 714 out of 891 columns do have a value assigned for age, thus we keep this predictor as non-NA values constitute 80% of the total data. \n",
    "\n",
    "We also decided to drop Name, Ticket, and PassengerId as these variables contain information that is not relevant to our predictions. The Name, Ticket and passengerId are arbitrary, they do not hold information that will have a big impact. Below we remove the irrelevant predictors. "
   ]
  },
  {
   "cell_type": "code",
   "execution_count": 56,
   "id": "dfec793c-8360-4ed5-8e1d-cb96985fdcba",
   "metadata": {},
   "outputs": [],
   "source": [
    "#getting rid of PassengerId,Name, Embarked,Ticket and Cabin:\n",
    "boat_data_selected <- boat_data |>\n",
    "    select(-PassengerId,-Name, -Ticket, -Cabin)"
   ]
  },
  {
   "cell_type": "markdown",
   "id": "2937231d-4077-4696-9bd4-b0f51d742bd3",
   "metadata": {},
   "source": [
    "Two additional columns are added, one to turn sex into binary (1 = male, 0 = female), and another that converts the port of embarkation into numerical values (0 = Southampton, 1 = Cherbourg, 2 = Queenstown). We also remove NA values from age, and convert survived into a factor. The data type of each column is important to ensure all functions work seamlessly."
   ]
  },
  {
   "cell_type": "code",
   "execution_count": 129,
   "id": "90121d11-ea49-4f42-962e-e9ebf0746f78",
   "metadata": {},
   "outputs": [
    {
     "data": {
      "text/html": [
       "<table class=\"dataframe\">\n",
       "<caption>A tibble: 6 × 10</caption>\n",
       "<thead>\n",
       "\t<tr><th scope=col>Survived</th><th scope=col>Passenger_Class</th><th scope=col>Sex</th><th scope=col>Age</th><th scope=col>Number0fSiblings</th><th scope=col>NumberofParents_children</th><th scope=col>Fare</th><th scope=col>Embarked</th><th scope=col>sex_binary</th><th scope=col>Embarked_numeric</th></tr>\n",
       "\t<tr><th scope=col>&lt;fct&gt;</th><th scope=col>&lt;dbl&gt;</th><th scope=col>&lt;chr&gt;</th><th scope=col>&lt;dbl&gt;</th><th scope=col>&lt;dbl&gt;</th><th scope=col>&lt;dbl&gt;</th><th scope=col>&lt;dbl&gt;</th><th scope=col>&lt;chr&gt;</th><th scope=col>&lt;dbl&gt;</th><th scope=col>&lt;dbl&gt;</th></tr>\n",
       "</thead>\n",
       "<tbody>\n",
       "\t<tr><td>0</td><td>3</td><td>male  </td><td>22</td><td>1</td><td>0</td><td> 7.2500</td><td>S</td><td>1</td><td>0</td></tr>\n",
       "\t<tr><td>1</td><td>1</td><td>female</td><td>38</td><td>1</td><td>0</td><td>71.2833</td><td>C</td><td>0</td><td>1</td></tr>\n",
       "\t<tr><td>1</td><td>3</td><td>female</td><td>26</td><td>0</td><td>0</td><td> 7.9250</td><td>S</td><td>0</td><td>0</td></tr>\n",
       "\t<tr><td>1</td><td>1</td><td>female</td><td>35</td><td>1</td><td>0</td><td>53.1000</td><td>S</td><td>0</td><td>0</td></tr>\n",
       "\t<tr><td>0</td><td>3</td><td>male  </td><td>35</td><td>0</td><td>0</td><td> 8.0500</td><td>S</td><td>1</td><td>0</td></tr>\n",
       "\t<tr><td>0</td><td>1</td><td>male  </td><td>54</td><td>0</td><td>0</td><td>51.8625</td><td>S</td><td>1</td><td>0</td></tr>\n",
       "</tbody>\n",
       "</table>\n"
      ],
      "text/latex": [
       "A tibble: 6 × 10\n",
       "\\begin{tabular}{llllllllll}\n",
       " Survived & Passenger\\_Class & Sex & Age & Number0fSiblings & NumberofParents\\_children & Fare & Embarked & sex\\_binary & Embarked\\_numeric\\\\\n",
       " <fct> & <dbl> & <chr> & <dbl> & <dbl> & <dbl> & <dbl> & <chr> & <dbl> & <dbl>\\\\\n",
       "\\hline\n",
       "\t 0 & 3 & male   & 22 & 1 & 0 &  7.2500 & S & 1 & 0\\\\\n",
       "\t 1 & 1 & female & 38 & 1 & 0 & 71.2833 & C & 0 & 1\\\\\n",
       "\t 1 & 3 & female & 26 & 0 & 0 &  7.9250 & S & 0 & 0\\\\\n",
       "\t 1 & 1 & female & 35 & 1 & 0 & 53.1000 & S & 0 & 0\\\\\n",
       "\t 0 & 3 & male   & 35 & 0 & 0 &  8.0500 & S & 1 & 0\\\\\n",
       "\t 0 & 1 & male   & 54 & 0 & 0 & 51.8625 & S & 1 & 0\\\\\n",
       "\\end{tabular}\n"
      ],
      "text/markdown": [
       "\n",
       "A tibble: 6 × 10\n",
       "\n",
       "| Survived &lt;fct&gt; | Passenger_Class &lt;dbl&gt; | Sex &lt;chr&gt; | Age &lt;dbl&gt; | Number0fSiblings &lt;dbl&gt; | NumberofParents_children &lt;dbl&gt; | Fare &lt;dbl&gt; | Embarked &lt;chr&gt; | sex_binary &lt;dbl&gt; | Embarked_numeric &lt;dbl&gt; |\n",
       "|---|---|---|---|---|---|---|---|---|---|\n",
       "| 0 | 3 | male   | 22 | 1 | 0 |  7.2500 | S | 1 | 0 |\n",
       "| 1 | 1 | female | 38 | 1 | 0 | 71.2833 | C | 0 | 1 |\n",
       "| 1 | 3 | female | 26 | 0 | 0 |  7.9250 | S | 0 | 0 |\n",
       "| 1 | 1 | female | 35 | 1 | 0 | 53.1000 | S | 0 | 0 |\n",
       "| 0 | 3 | male   | 35 | 0 | 0 |  8.0500 | S | 1 | 0 |\n",
       "| 0 | 1 | male   | 54 | 0 | 0 | 51.8625 | S | 1 | 0 |\n",
       "\n"
      ],
      "text/plain": [
       "  Survived Passenger_Class Sex    Age Number0fSiblings NumberofParents_children\n",
       "1 0        3               male   22  1                0                       \n",
       "2 1        1               female 38  1                0                       \n",
       "3 1        3               female 26  0                0                       \n",
       "4 1        1               female 35  1                0                       \n",
       "5 0        3               male   35  0                0                       \n",
       "6 0        1               male   54  0                0                       \n",
       "  Fare    Embarked sex_binary Embarked_numeric\n",
       "1  7.2500 S        1          0               \n",
       "2 71.2833 C        0          1               \n",
       "3  7.9250 S        0          0               \n",
       "4 53.1000 S        0          0               \n",
       "5  8.0500 S        1          0               \n",
       "6 51.8625 S        1          0               "
      ]
     },
     "metadata": {},
     "output_type": "display_data"
    }
   ],
   "source": [
    "#adding a column for sex in binary and making the embarked column into numeric(for it to work with the knn model)\n",
    "\n",
    "boat_data_binary <- boat_data_selected |>\n",
    "    mutate(sex_binary = ifelse(Sex == \"male\", 1, ifelse(Sex == \"female\", 0, NA))) |>\n",
    "    mutate(Embarked_numeric = ifelse(Embarked == \"S\", 0, ifelse(Embarked == \"C\", 1, ifelse(Embarked == \"Q\", 2, NA))))\n",
    "\n",
    "boat_data_NA <- boat_data_binary |>\n",
    "    filter(!is.na(Age)) |>\n",
    "    mutate(Survived = as_factor(Survived))\n",
    "head(boat_data_NA)"
   ]
  },
  {
   "cell_type": "markdown",
   "id": "491d2043-95e5-4e18-84b5-02a84e5127c5",
   "metadata": {
    "tags": []
   },
   "source": [
    "## Exploratory Data Analysis"
   ]
  },
  {
   "cell_type": "markdown",
   "id": "c503d25c-c608-4287-a1dc-f3297f12e221",
   "metadata": {},
   "source": [
    "Before we begin exploratory data analysis, our data set has to be split. If we use testing data to build our model, we will not get a good evaluation of our model's accuracy. It already has \"experience\" with data like this, thus we split our data into two sets; 70% to train our model, 30% to test it on."
   ]
  },
  {
   "cell_type": "code",
   "execution_count": 58,
   "id": "3cce4784-0df8-4efe-a5fd-8265b01c71f0",
   "metadata": {},
   "outputs": [],
   "source": [
    "set.seed(911)\n",
    "#splitting the wrangled data into test and training sets\n",
    "#we chose a 70-30 percent split to ensure our model is accurate at the same time as making sure the testing is accurate.\n",
    "\n",
    "boat_split <- initial_split(boat_data_NA, prop = 0.7, strata = Survived)\n",
    "boat_train <- training(boat_split)\n",
    "boat_test <- testing(boat_split)"
   ]
  },
  {
   "cell_type": "markdown",
   "id": "25c28f76-66aa-477c-a1ee-224ac2c295a7",
   "metadata": {},
   "source": [
    "As of now, we have 7 possible predictors to determine \"survived\": Passenger_class, Sex, Age, Number0fSiblings, NumberofParents_children, Fare, and Embarked. First, we want a grasp of overall survival rate. Table 2 shows that more people died than the number who lived. "
   ]
  },
  {
   "cell_type": "code",
   "execution_count": 73,
   "id": "401bf9ff-5cb3-4b95-a3db-b5f3f4bbbd3b",
   "metadata": {},
   "outputs": [
    {
     "data": {
      "text/html": [
       "<table class=\"dataframe\">\n",
       "<caption>A tibble: 2 × 2</caption>\n",
       "<thead>\n",
       "\t<tr><th scope=col>Survived</th><th scope=col>Count</th></tr>\n",
       "\t<tr><th scope=col>&lt;fct&gt;</th><th scope=col>&lt;int&gt;</th></tr>\n",
       "</thead>\n",
       "<tbody>\n",
       "\t<tr><td>0</td><td>296</td></tr>\n",
       "\t<tr><td>1</td><td>203</td></tr>\n",
       "</tbody>\n",
       "</table>\n"
      ],
      "text/latex": [
       "A tibble: 2 × 2\n",
       "\\begin{tabular}{ll}\n",
       " Survived & Count\\\\\n",
       " <fct> & <int>\\\\\n",
       "\\hline\n",
       "\t 0 & 296\\\\\n",
       "\t 1 & 203\\\\\n",
       "\\end{tabular}\n"
      ],
      "text/markdown": [
       "\n",
       "A tibble: 2 × 2\n",
       "\n",
       "| Survived &lt;fct&gt; | Count &lt;int&gt; |\n",
       "|---|---|\n",
       "| 0 | 296 |\n",
       "| 1 | 203 |\n",
       "\n"
      ],
      "text/plain": [
       "  Survived Count\n",
       "1 0        296  \n",
       "2 1        203  "
      ]
     },
     "metadata": {},
     "output_type": "display_data"
    }
   ],
   "source": [
    "summary_table_survived <- boat_train |> group_by(Survived) |> \n",
    "    summarize(Count = n())\n",
    "\n",
    "summary_table_survived"
   ]
  },
  {
   "cell_type": "markdown",
   "id": "4edd6c53-f706-489c-b1ae-9ca3b55be59a",
   "metadata": {},
   "source": [
    "**Table 2.** Number of passengers who died (0) versus survived (1). "
   ]
  },
  {
   "cell_type": "markdown",
   "id": "0ed9790f-e832-4443-a642-a2b09c515f7c",
   "metadata": {},
   "source": [
    "Another variable we want to explore straight from the get-go is Sex. It is commonly thought that more women survived then men. We confirm this observation in Figure 1. "
   ]
  },
  {
   "cell_type": "code",
   "execution_count": 133,
   "id": "a27bf2b4-5819-4ca7-a6f6-5dd6b9d1db18",
   "metadata": {},
   "outputs": [
    {
     "name": "stderr",
     "output_type": "stream",
     "text": [
      "Warning message:\n",
      "“Removed 10 rows containing missing values (geom_bar).”\n",
      "Warning message:\n",
      "“Removed 10 rows containing missing values (geom_bar).”\n",
      "Warning message:\n",
      "“Removed 8 rows containing missing values (geom_bar).”\n",
      "Warning message:\n",
      "“Removed 2 rows containing non-finite values (stat_bin).”\n"
     ]
    },
    {
     "data": {
      "image/png": "[encoded data removed]",
      "text/plain": [
       "plot without title"
      ]
     },
     "metadata": {
      "image/png": {
       "height": 900,
       "width": 1200
      }
     },
     "output_type": "display_data"
    }
   ],
   "source": [
    "temp_data_graph <- boat_train |>\n",
    "    mutate(Survived_char = ifelse(Survived == 1, \"Survived\", ifelse(Survived == 0, \"Did not survive\", NA)))\n",
    "\n",
    "survival_bar_plot_sex <- ggplot(temp_data_graph, aes(x = Sex, fill = as_factor(Survived_char))) +\n",
    "    geom_bar(position = \"fill\", col = \"black\") +\n",
    "    labs(x = \"Sex of passenger\", y = \"Percentage of survival\", fill = \"Survival\") +\n",
    "    ggtitle(\"Figure 1. Sex vs Survival Predictor relation\") +\n",
    "    scale_fill_brewer(palette = \"Set1\") + \n",
    "    theme(text=element_text(size=15)) #Fare not yet explored\n",
    "\n",
    "NOC_survival <- temp_data_graph |>\n",
    "    ggplot(aes(x = NumberofParents_children, fill = as_factor(Survived_char))) +\n",
    "    geom_histogram(bins = 11, position = \"fill\", col = \"black\") +\n",
    "    labs(x = \"Number Of Children\", y = \"Percetage of Survival\", fill = \"Survived?\") + \n",
    "    scale_x_continuous(breaks = c(0, 1, 2,3,4,5)) +\n",
    "    ggtitle(\"Figure 2. Number Of Children vs \\n Survival Predictor relation\") +\n",
    "    scale_fill_brewer(palette = \"Set1\") + \n",
    "    theme(text=element_text(size = 15))\n",
    "\n",
    "NOS_survival <- temp_data_graph |>\n",
    "    ggplot(aes(x = Number0fSiblings, fill = as_factor(Survived_char))) +\n",
    "    geom_histogram(bins = 11, position = \"fill\", col = \"black\") +\n",
    "    labs(x = \"Number Of Siblings\", y = \"Percetage of Survival\", fill = \"Survived?\") + \n",
    "    scale_x_continuous(breaks = c(0, 1, 2,3,4,5)) +\n",
    "    ggtitle(\"Figure 3. Number Of Siblings vs \\n Survival Predictor relation\") +\n",
    "    scale_fill_brewer(palette = \"Set1\") +\n",
    "    theme(text=element_text(size = 15))\n",
    "\n",
    "class_survival <- temp_data_graph |>\n",
    "    ggplot(aes(x = Passenger_Class, fill = as_factor(Survived_char))) +\n",
    "    geom_histogram(bins = 7, position = \"fill\", col = \"black\") +\n",
    "    labs(x = \"Passenger Class\", y = \"Percetage of Survival\", fill = \"Survived?\") + \n",
    "    scale_x_continuous(breaks = c(0, 1, 2,3)) +\n",
    "    ggtitle(\"Figure 4. Passenger Class vs \\n Survival Predictor relation\") +\n",
    "    scale_fill_brewer(palette = \"Set1\") + \n",
    "    theme(text=element_text(size = 15))\n",
    "\n",
    "AgevSurvived <- temp_data_graph |>\n",
    "    ggplot(aes(x = Age, fill = as_factor(Survived_char))) +\n",
    "    geom_histogram(bins = 15, position = \"identity\", alpha = 0.8, col = \"black\") +\n",
    "    labs(x = \"Age\", y = \"Number of People who Survived/Died\", fill = \"Survived?\")+\n",
    "    scale_x_continuous(breaks = seq(from = 0, to = 80, by = 15)) + \n",
    "    ggtitle(\"Figure 5. Age vs Survival \\n Predictor relation\") +\n",
    "    scale_fill_brewer(palette = \"Set1\") +  \n",
    "    theme(text=element_text(size = 15))\n",
    "\n",
    "EmbarkedvSurvived <- temp_data_graph |>\n",
    "    ggplot(aes(x = Embarked_numeric, fill = as_factor(Survived_char))) +\n",
    "    geom_histogram(bins = 3, position = \"identity\", alpha = 0.8, col = \"black\") +\n",
    "    labs(x = \"Port of Embarkation\", y = \"Number of People who Survived/Died\", fill = \"Survived?\")+\n",
    "    scale_x_continuous(breaks = seq(from = 0, to = 80, by = 15)) + \n",
    "    ggtitle(\"Figure 6. Port of Embarkation vs \\n Survival Predictor relation\") +\n",
    "    scale_fill_brewer(palette = \"Set1\") +  \n",
    "    theme(text=element_text(size = 15))\n",
    "\n",
    "FarevSurvived <- temp_data_graph |> filter(Fare <275) |>\n",
    "    ggplot(aes(x = Fare, fill = as_factor(Survived_char))) +\n",
    "    geom_histogram(bins = 15, position = \"identity\", col = \"black\") +\n",
    "    labs(x = \"Fare\", y = \"Number of People who Survived/Died\", fill = \"Survived?\")+\n",
    "    scale_x_continuous(breaks = seq(from = 0, to = 80, by = 15)) + \n",
    "    ggtitle(\"Figure 7. Fare vs Survival \\n Predictor relation\") +\n",
    "    scale_fill_brewer(palette = \"Set1\") +  \n",
    "    theme(text=element_text(size = 15))\n",
    "\n",
    "options(repr.plot.width = 20, repr.plot.height = 15)\n",
    "grid.arrange(survival_bar_plot_sex, NOC_survival, NOS_survival, class_survival, AgevSurvived, EmbarkedvSurvived, FarevSurvived)"
   ]
  },
  {
   "cell_type": "code",
   "execution_count": 34,
   "id": "5c643683-606f-45b4-99c8-b59ee2b63d9e",
   "metadata": {},
   "outputs": [
    {
     "data": {
      "text/html": [
       "<table class=\"dataframe\">\n",
       "<caption>A tibble: 2 × 2</caption>\n",
       "<thead>\n",
       "\t<tr><th scope=col>Sex</th><th scope=col>Number_of_passengers</th></tr>\n",
       "\t<tr><th scope=col>&lt;chr&gt;</th><th scope=col>&lt;int&gt;</th></tr>\n",
       "</thead>\n",
       "<tbody>\n",
       "\t<tr><td>female</td><td>170</td></tr>\n",
       "\t<tr><td>male  </td><td>329</td></tr>\n",
       "</tbody>\n",
       "</table>\n"
      ],
      "text/latex": [
       "A tibble: 2 × 2\n",
       "\\begin{tabular}{ll}\n",
       " Sex & Number\\_of\\_passengers\\\\\n",
       " <chr> & <int>\\\\\n",
       "\\hline\n",
       "\t female & 170\\\\\n",
       "\t male   & 329\\\\\n",
       "\\end{tabular}\n"
      ],
      "text/markdown": [
       "\n",
       "A tibble: 2 × 2\n",
       "\n",
       "| Sex &lt;chr&gt; | Number_of_passengers &lt;int&gt; |\n",
       "|---|---|\n",
       "| female | 170 |\n",
       "| male   | 329 |\n",
       "\n"
      ],
      "text/plain": [
       "  Sex    Number_of_passengers\n",
       "1 female 170                 \n",
       "2 male   329                 "
      ]
     },
     "metadata": {},
     "output_type": "display_data"
    }
   ],
   "source": [
    "#summary table for how many men and women are there in the training data.\n",
    "summary_table_sex <- boat_train |>\n",
    "    group_by(Sex) |>\n",
    "    summarize(Number_of_passengers = n())\n",
    "summary_table_sex"
   ]
  },
  {
   "cell_type": "code",
   "execution_count": 132,
   "id": "6e4633fc-6faf-4579-b2ef-c35e05339be5",
   "metadata": {},
   "outputs": [
    {
     "data": {
      "text/html": [
       "<table class=\"dataframe\">\n",
       "<caption>A tibble: 1 × 1</caption>\n",
       "<thead>\n",
       "\t<tr><th scope=col>mean_age</th></tr>\n",
       "\t<tr><th scope=col>&lt;dbl&gt;</th></tr>\n",
       "</thead>\n",
       "<tbody>\n",
       "\t<tr><td>29.34435</td></tr>\n",
       "</tbody>\n",
       "</table>\n"
      ],
      "text/latex": [
       "A tibble: 1 × 1\n",
       "\\begin{tabular}{l}\n",
       " mean\\_age\\\\\n",
       " <dbl>\\\\\n",
       "\\hline\n",
       "\t 29.34435\\\\\n",
       "\\end{tabular}\n"
      ],
      "text/markdown": [
       "\n",
       "A tibble: 1 × 1\n",
       "\n",
       "| mean_age &lt;dbl&gt; |\n",
       "|---|\n",
       "| 29.34435 |\n",
       "\n"
      ],
      "text/plain": [
       "  mean_age\n",
       "1 29.34435"
      ]
     },
     "metadata": {},
     "output_type": "display_data"
    },
    {
     "data": {
      "text/html": [
       "<table class=\"dataframe\">\n",
       "<caption>A tibble: 3 × 2</caption>\n",
       "<thead>\n",
       "\t<tr><th scope=col>Passenger_Class</th><th scope=col>Number_of_passengers</th></tr>\n",
       "\t<tr><th scope=col>&lt;dbl&gt;</th><th scope=col>&lt;int&gt;</th></tr>\n",
       "</thead>\n",
       "<tbody>\n",
       "\t<tr><td>1</td><td>125</td></tr>\n",
       "\t<tr><td>2</td><td>124</td></tr>\n",
       "\t<tr><td>3</td><td>250</td></tr>\n",
       "</tbody>\n",
       "</table>\n"
      ],
      "text/latex": [
       "A tibble: 3 × 2\n",
       "\\begin{tabular}{ll}\n",
       " Passenger\\_Class & Number\\_of\\_passengers\\\\\n",
       " <dbl> & <int>\\\\\n",
       "\\hline\n",
       "\t 1 & 125\\\\\n",
       "\t 2 & 124\\\\\n",
       "\t 3 & 250\\\\\n",
       "\\end{tabular}\n"
      ],
      "text/markdown": [
       "\n",
       "A tibble: 3 × 2\n",
       "\n",
       "| Passenger_Class &lt;dbl&gt; | Number_of_passengers &lt;int&gt; |\n",
       "|---|---|\n",
       "| 1 | 125 |\n",
       "| 2 | 124 |\n",
       "| 3 | 250 |\n",
       "\n"
      ],
      "text/plain": [
       "  Passenger_Class Number_of_passengers\n",
       "1 1               125                 \n",
       "2 2               124                 \n",
       "3 3               250                 "
      ]
     },
     "metadata": {},
     "output_type": "display_data"
    },
    {
     "data": {
      "text/html": [
       "<table class=\"dataframe\">\n",
       "<caption>A tibble: 1 × 1</caption>\n",
       "<thead>\n",
       "\t<tr><th scope=col>mean_children</th></tr>\n",
       "\t<tr><th scope=col>&lt;dbl&gt;</th></tr>\n",
       "</thead>\n",
       "<tbody>\n",
       "\t<tr><td>0.4268537</td></tr>\n",
       "</tbody>\n",
       "</table>\n"
      ],
      "text/latex": [
       "A tibble: 1 × 1\n",
       "\\begin{tabular}{l}\n",
       " mean\\_children\\\\\n",
       " <dbl>\\\\\n",
       "\\hline\n",
       "\t 0.4268537\\\\\n",
       "\\end{tabular}\n"
      ],
      "text/markdown": [
       "\n",
       "A tibble: 1 × 1\n",
       "\n",
       "| mean_children &lt;dbl&gt; |\n",
       "|---|\n",
       "| 0.4268537 |\n",
       "\n"
      ],
      "text/plain": [
       "  mean_children\n",
       "1 0.4268537    "
      ]
     },
     "metadata": {},
     "output_type": "display_data"
    }
   ],
   "source": [
    "#Adding summary table for age (years) for training data\n",
    "summary_table_age <- boat_train |>\n",
    "    summarize(mean_age = mean(Age))\n",
    "summary_table_age\n",
    "\n",
    "#adding a summary table for the number of passengers in each class for training data:\n",
    "summary_table_class <- boat_train |>\n",
    "    group_by(Passenger_Class) |>\n",
    "    summarize(Number_of_passengers = n())\n",
    "summary_table_class\n",
    "\n",
    "#Adding summary table for number of children for training data\n",
    "summary_table_children <- boat_train |>\n",
    "    summarize(mean_children = mean(NumberofParents_children))\n",
    "summary_table_children"
   ]
  },
  {
   "cell_type": "markdown",
   "id": "5267138c-3d2a-448a-949c-82068f2138ca",
   "metadata": {},
   "source": [
    "Distribution of Data"
   ]
  },
  {
   "cell_type": "code",
   "execution_count": null,
   "id": "1baeefb8-06ff-478a-a2c7-4f2c4ec14478",
   "metadata": {},
   "outputs": [],
   "source": [
    "age_vis <- boat_train |>\n",
    "    ggplot(aes(x = Age)) +\n",
    "    geom_histogram(binwidth = 6, fill = \"deepskyblue2\", col = \"black\") + \n",
    "    ggtitle(\"Figure. Age Distribution\") + \n",
    "    theme(text=element_text(size=16)) \n",
    "age_vis\n",
    "\n",
    "noc_vis <- boat_train |>\n",
    "    ggplot(aes(x = NumberofParents_children)) +\n",
    "    geom_histogram(binwidth = 1, fill = \"deepskyblue2\", col = \"black\") +\n",
    "    ggtitle(\"Figure. Distribution of Parent per Child Ratio\") +\n",
    "    theme(text=element_text(size=16)) \n",
    "\n",
    "noc_vis"
   ]
  },
  {
   "cell_type": "markdown",
   "id": "633874e9-5c97-4689-bef0-554ffd9a090d",
   "metadata": {},
   "source": [
    "## Predictor Variable Selection"
   ]
  },
  {
   "cell_type": "code",
   "execution_count": 36,
   "id": "211f477b-5a86-41b6-a979-7bd83566ecfa",
   "metadata": {},
   "outputs": [],
   "source": [
    "set.seed(911)\n",
    "\n",
    "boat_train_model <- boat_train |>\n",
    "    select(-Sex)\n",
    "#Now we start the process of developing a model to predict weather a given passenger survived the titanic crash.\n",
    "\n",
    "boat_spec_tune <- knn_spec <- nearest_neighbor(weight_func = \"rectangular\", neighbors = tune()) |>\n",
    "  set_engine(\"kknn\") |>\n",
    "  set_mode(\"classification\")\n",
    "\n",
    "boat_vfold <- vfold_cv(boat_train_model, v = 10, strata = Survived)\n",
    "k_vals <- tibble(neighbors = seq(from = 1, to = 35, by = 2))\n"
   ]
  },
  {
   "cell_type": "code",
   "execution_count": 59,
   "id": "86677533-bf3e-46bf-a80a-5b5d35de0fe0",
   "metadata": {
    "tags": []
   },
   "outputs": [
    {
     "name": "stderr",
     "output_type": "stream",
     "text": [
      "\u001b[31mx\u001b[39m \u001b[31mFold01: preprocessor 1/1, model 1/1 (predictions):\n",
      "  \u001b[1m\u001b[33mError\u001b[31m in \u001b[1m\u001b[1m`mutate()`:\u001b[22m\n",
      "  \u001b[1m\u001b[22m\u001b[33m!\u001b[31m Problem while computing `.row = orig_rows`.\n",
      "  \u001b[31m✖\u001b[31m `.row` must be size 50 or 1, not 51.\u001b[39m\n",
      "\n",
      "\u001b[31mx\u001b[39m \u001b[31mFold10: preprocessor 1/1, model 1/1 (predictions):\n",
      "  \u001b[1m\u001b[33mError\u001b[31m in \u001b[1m\u001b[1m`mutate()`:\u001b[22m\n",
      "  \u001b[1m\u001b[22m\u001b[33m!\u001b[31m Problem while computing `.row = orig_rows`.\n",
      "  \u001b[31m✖\u001b[31m `.row` must be size 48 or 1, not 49.\u001b[39m\n",
      "\n",
      "\u001b[31mx\u001b[39m \u001b[31mFold01: preprocessor 1/1, model 1/1 (predictions):\n",
      "  \u001b[1m\u001b[33mError\u001b[31m in \u001b[1m\u001b[1m`mutate()`:\u001b[22m\n",
      "  \u001b[1m\u001b[22m\u001b[33m!\u001b[31m Problem while computing `.row = orig_rows`.\n",
      "  \u001b[31m✖\u001b[31m `.row` must be size 50 or 1, not 51.\u001b[39m\n",
      "\n",
      "\u001b[31mx\u001b[39m \u001b[31mFold10: preprocessor 1/1, model 1/1 (predictions):\n",
      "  \u001b[1m\u001b[33mError\u001b[31m in \u001b[1m\u001b[1m`mutate()`:\u001b[22m\n",
      "  \u001b[1m\u001b[22m\u001b[33m!\u001b[31m Problem while computing `.row = orig_rows`.\n",
      "  \u001b[31m✖\u001b[31m `.row` must be size 48 or 1, not 49.\u001b[39m\n",
      "\n",
      "\u001b[31mx\u001b[39m \u001b[31mFold01: preprocessor 1/1, model 1/1 (predictions):\n",
      "  \u001b[1m\u001b[33mError\u001b[31m in \u001b[1m\u001b[1m`mutate()`:\u001b[22m\n",
      "  \u001b[1m\u001b[22m\u001b[33m!\u001b[31m Problem while computing `.row = orig_rows`.\n",
      "  \u001b[31m✖\u001b[31m `.row` must be size 50 or 1, not 51.\u001b[39m\n",
      "\n",
      "\u001b[31mx\u001b[39m \u001b[31mFold10: preprocessor 1/1, model 1/1 (predictions):\n",
      "  \u001b[1m\u001b[33mError\u001b[31m in \u001b[1m\u001b[1m`mutate()`:\u001b[22m\n",
      "  \u001b[1m\u001b[22m\u001b[33m!\u001b[31m Problem while computing `.row = orig_rows`.\n",
      "  \u001b[31m✖\u001b[31m `.row` must be size 48 or 1, not 49.\u001b[39m\n",
      "\n",
      "\u001b[31mx\u001b[39m \u001b[31mFold01: preprocessor 1/1, model 1/1 (predictions):\n",
      "  \u001b[1m\u001b[33mError\u001b[31m in \u001b[1m\u001b[1m`mutate()`:\u001b[22m\n",
      "  \u001b[1m\u001b[22m\u001b[33m!\u001b[31m Problem while computing `.row = orig_rows`.\n",
      "  \u001b[31m✖\u001b[31m `.row` must be size 50 or 1, not 51.\u001b[39m\n",
      "\n",
      "\u001b[31mx\u001b[39m \u001b[31mFold10: preprocessor 1/1, model 1/1 (predictions):\n",
      "  \u001b[1m\u001b[33mError\u001b[31m in \u001b[1m\u001b[1m`mutate()`:\u001b[22m\n",
      "  \u001b[1m\u001b[22m\u001b[33m!\u001b[31m Problem while computing `.row = orig_rows`.\n",
      "  \u001b[31m✖\u001b[31m `.row` must be size 48 or 1, not 49.\u001b[39m\n",
      "\n",
      "\u001b[31mx\u001b[39m \u001b[31mFold01: preprocessor 1/1, model 1/1 (predictions):\n",
      "  \u001b[1m\u001b[33mError\u001b[31m in \u001b[1m\u001b[1m`mutate()`:\u001b[22m\n",
      "  \u001b[1m\u001b[22m\u001b[33m!\u001b[31m Problem while computing `.row = orig_rows`.\n",
      "  \u001b[31m✖\u001b[31m `.row` must be size 50 or 1, not 51.\u001b[39m\n",
      "\n",
      "\u001b[31mx\u001b[39m \u001b[31mFold10: preprocessor 1/1, model 1/1 (predictions):\n",
      "  \u001b[1m\u001b[33mError\u001b[31m in \u001b[1m\u001b[1m`mutate()`:\u001b[22m\n",
      "  \u001b[1m\u001b[22m\u001b[33m!\u001b[31m Problem while computing `.row = orig_rows`.\n",
      "  \u001b[31m✖\u001b[31m `.row` must be size 48 or 1, not 49.\u001b[39m\n",
      "\n",
      "\u001b[31mx\u001b[39m \u001b[31mFold01: preprocessor 1/1, model 1/1 (predictions):\n",
      "  \u001b[1m\u001b[33mError\u001b[31m in \u001b[1m\u001b[1m`mutate()`:\u001b[22m\n",
      "  \u001b[1m\u001b[22m\u001b[33m!\u001b[31m Problem while computing `.row = orig_rows`.\n",
      "  \u001b[31m✖\u001b[31m `.row` must be size 50 or 1, not 51.\u001b[39m\n",
      "\n",
      "\u001b[31mx\u001b[39m \u001b[31mFold10: preprocessor 1/1, model 1/1 (predictions):\n",
      "  \u001b[1m\u001b[33mError\u001b[31m in \u001b[1m\u001b[1m`mutate()`:\u001b[22m\n",
      "  \u001b[1m\u001b[22m\u001b[33m!\u001b[31m Problem while computing `.row = orig_rows`.\n",
      "  \u001b[31m✖\u001b[31m `.row` must be size 48 or 1, not 49.\u001b[39m\n",
      "\n",
      "\u001b[31mx\u001b[39m \u001b[31mFold01: preprocessor 1/1, model 1/1 (predictions):\n",
      "  \u001b[1m\u001b[33mError\u001b[31m in \u001b[1m\u001b[1m`mutate()`:\u001b[22m\n",
      "  \u001b[1m\u001b[22m\u001b[33m!\u001b[31m Problem while computing `.row = orig_rows`.\n",
      "  \u001b[31m✖\u001b[31m `.row` must be size 50 or 1, not 51.\u001b[39m\n",
      "\n",
      "\u001b[31mx\u001b[39m \u001b[31mFold10: preprocessor 1/1, model 1/1 (predictions):\n",
      "  \u001b[1m\u001b[33mError\u001b[31m in \u001b[1m\u001b[1m`mutate()`:\u001b[22m\n",
      "  \u001b[1m\u001b[22m\u001b[33m!\u001b[31m Problem while computing `.row = orig_rows`.\n",
      "  \u001b[31m✖\u001b[31m `.row` must be size 48 or 1, not 49.\u001b[39m\n",
      "\n"
     ]
    },
    {
     "data": {
      "text/html": [
       "<table class=\"dataframe\">\n",
       "<caption>A tibble: 7 × 3</caption>\n",
       "<thead>\n",
       "\t<tr><th scope=col>size</th><th scope=col>model_string</th><th scope=col>accuracy</th></tr>\n",
       "\t<tr><th scope=col>&lt;int&gt;</th><th scope=col>&lt;chr&gt;</th><th scope=col>&lt;dbl&gt;</th></tr>\n",
       "</thead>\n",
       "<tbody>\n",
       "\t<tr><td>1</td><td>Survived ~ Fare                                                                                          </td><td>0.6778824</td></tr>\n",
       "\t<tr><td>2</td><td>Survived ~ Fare+sex_binary                                                                               </td><td>0.7955454</td></tr>\n",
       "\t<tr><td>3</td><td>Survived ~ Fare+sex_binary+Passenger_Class                                                               </td><td>0.8136695</td></tr>\n",
       "\t<tr><td>4</td><td>Survived ~ Fare+sex_binary+Passenger_Class+Age                                                           </td><td>0.8141905</td></tr>\n",
       "\t<tr><td>5</td><td>Survived ~ Fare+sex_binary+Passenger_Class+Age+Number0fSiblings                                          </td><td>0.8180320</td></tr>\n",
       "\t<tr><td>6</td><td>Survived ~ Fare+sex_binary+Passenger_Class+Age+Number0fSiblings+NumberofParents_children                 </td><td>0.8259552</td></tr>\n",
       "\t<tr><td>7</td><td>Survived ~ Fare+sex_binary+Passenger_Class+Age+Number0fSiblings+NumberofParents_children+Embarked_numeric</td><td>0.8123029</td></tr>\n",
       "</tbody>\n",
       "</table>\n"
      ],
      "text/latex": [
       "A tibble: 7 × 3\n",
       "\\begin{tabular}{lll}\n",
       " size & model\\_string & accuracy\\\\\n",
       " <int> & <chr> & <dbl>\\\\\n",
       "\\hline\n",
       "\t 1 & Survived \\textasciitilde{} Fare                                                                                           & 0.6778824\\\\\n",
       "\t 2 & Survived \\textasciitilde{} Fare+sex\\_binary                                                                                & 0.7955454\\\\\n",
       "\t 3 & Survived \\textasciitilde{} Fare+sex\\_binary+Passenger\\_Class                                                                & 0.8136695\\\\\n",
       "\t 4 & Survived \\textasciitilde{} Fare+sex\\_binary+Passenger\\_Class+Age                                                            & 0.8141905\\\\\n",
       "\t 5 & Survived \\textasciitilde{} Fare+sex\\_binary+Passenger\\_Class+Age+Number0fSiblings                                           & 0.8180320\\\\\n",
       "\t 6 & Survived \\textasciitilde{} Fare+sex\\_binary+Passenger\\_Class+Age+Number0fSiblings+NumberofParents\\_children                  & 0.8259552\\\\\n",
       "\t 7 & Survived \\textasciitilde{} Fare+sex\\_binary+Passenger\\_Class+Age+Number0fSiblings+NumberofParents\\_children+Embarked\\_numeric & 0.8123029\\\\\n",
       "\\end{tabular}\n"
      ],
      "text/markdown": [
       "\n",
       "A tibble: 7 × 3\n",
       "\n",
       "| size &lt;int&gt; | model_string &lt;chr&gt; | accuracy &lt;dbl&gt; |\n",
       "|---|---|---|\n",
       "| 1 | Survived ~ Fare                                                                                           | 0.6778824 |\n",
       "| 2 | Survived ~ Fare+sex_binary                                                                                | 0.7955454 |\n",
       "| 3 | Survived ~ Fare+sex_binary+Passenger_Class                                                                | 0.8136695 |\n",
       "| 4 | Survived ~ Fare+sex_binary+Passenger_Class+Age                                                            | 0.8141905 |\n",
       "| 5 | Survived ~ Fare+sex_binary+Passenger_Class+Age+Number0fSiblings                                           | 0.8180320 |\n",
       "| 6 | Survived ~ Fare+sex_binary+Passenger_Class+Age+Number0fSiblings+NumberofParents_children                  | 0.8259552 |\n",
       "| 7 | Survived ~ Fare+sex_binary+Passenger_Class+Age+Number0fSiblings+NumberofParents_children+Embarked_numeric | 0.8123029 |\n",
       "\n"
      ],
      "text/plain": [
       "  size\n",
       "1 1   \n",
       "2 2   \n",
       "3 3   \n",
       "4 4   \n",
       "5 5   \n",
       "6 6   \n",
       "7 7   \n",
       "  model_string                                                                                             \n",
       "1 Survived ~ Fare                                                                                          \n",
       "2 Survived ~ Fare+sex_binary                                                                               \n",
       "3 Survived ~ Fare+sex_binary+Passenger_Class                                                               \n",
       "4 Survived ~ Fare+sex_binary+Passenger_Class+Age                                                           \n",
       "5 Survived ~ Fare+sex_binary+Passenger_Class+Age+Number0fSiblings                                          \n",
       "6 Survived ~ Fare+sex_binary+Passenger_Class+Age+Number0fSiblings+NumberofParents_children                 \n",
       "7 Survived ~ Fare+sex_binary+Passenger_Class+Age+Number0fSiblings+NumberofParents_children+Embarked_numeric\n",
       "  accuracy \n",
       "1 0.6778824\n",
       "2 0.7955454\n",
       "3 0.8136695\n",
       "4 0.8141905\n",
       "5 0.8180320\n",
       "6 0.8259552\n",
       "7 0.8123029"
      ]
     },
     "metadata": {},
     "output_type": "display_data"
    }
   ],
   "source": [
    "set.seed(911)\n",
    "\n",
    "names <- c(\"Passenger_Class\", \"Age\", \"Number0fSiblings\", \"NumberofParents_children\", \"Fare\",\"sex_binary\",\"Embarked_numeric\")\n",
    "\n",
    "# create an empty tibble to store the results\n",
    "accuracies <- tibble(size = integer(), \n",
    "                     model_string = character(), \n",
    "                     accuracy = numeric())\n",
    "\n",
    "\n",
    "# store the total number of predictors\n",
    "n_total <- length(names)\n",
    "\n",
    "# stores selected predictors\n",
    "selected <- c()\n",
    "\n",
    "# for every size from 1 to the total number of predictors\n",
    "for (i in 1:n_total) {\n",
    "    # for every predictor still not added yet\n",
    "    accs <- list()\n",
    "    models <- list()\n",
    "    for (j in 1:length(names)) {\n",
    "        # create a model string for this combination of predictors\n",
    "        preds_new <- c(selected, names[[j]])\n",
    "        model_string <- paste(\"Survived\", \"~\", paste(preds_new, collapse=\"+\"))\n",
    "\n",
    "        # create a recipe from the model string\n",
    "        boat_recipe <- recipe(as.formula(model_string), \n",
    "                                data = boat_train_model) |>\n",
    "                          step_scale(all_predictors()) |>\n",
    "                          step_center(all_predictors())\n",
    "\n",
    "        # tune the KNN classifier with these predictors, \n",
    "        # and collect the accuracy for the best K\n",
    "        acc <- workflow() |>\n",
    "          add_recipe(boat_recipe) |>\n",
    "          add_model(boat_spec_tune) |>\n",
    "          tune_grid(resamples = boat_vfold, grid = k_vals) |>\n",
    "          collect_metrics() |>\n",
    "          filter(.metric == \"accuracy\") |>\n",
    "          summarize(mx = max(mean))\n",
    "        acc <- acc$mx |> unlist()\n",
    "\n",
    "        # add this result to the dataframe\n",
    "        accs[[j]] <- acc\n",
    "        models[[j]] <- model_string\n",
    "    }\n",
    "    jstar <- which.max(unlist(accs))\n",
    "    accuracies <- accuracies |> \n",
    "      add_row(size = i, \n",
    "              model_string = models[[jstar]], \n",
    "              accuracy = accs[[jstar]])\n",
    "    selected <- c(selected, names[[jstar]])\n",
    "    names <- names[-jstar]\n",
    "}\n",
    "accuracies"
   ]
  },
  {
   "cell_type": "code",
   "execution_count": 84,
   "id": "961ec103-a70c-401d-9825-9e659154e701",
   "metadata": {},
   "outputs": [],
   "source": [
    "#here we begin analysing the perdictors CODE PASTED ABOVE\n",
    "#bar graph to display how many people survived vs how many did not.(percentage of survival)"
   ]
  },
  {
   "cell_type": "markdown",
   "id": "bcdba07d-b4de-44ae-8ecb-3f7c6c1eafa6",
   "metadata": {},
   "source": [
    "## Creating Initial Classification Engine & Finding the Best K Value"
   ]
  },
  {
   "cell_type": "code",
   "execution_count": 44,
   "id": "616d8535-8fbe-4765-affa-d2efacb9f5ef",
   "metadata": {},
   "outputs": [
    {
     "data": {
      "text/html": [
       "<table class=\"dataframe\">\n",
       "<caption>A tibble: 18 × 7</caption>\n",
       "<thead>\n",
       "\t<tr><th scope=col>neighbors</th><th scope=col>.metric</th><th scope=col>.estimator</th><th scope=col>mean</th><th scope=col>n</th><th scope=col>std_err</th><th scope=col>.config</th></tr>\n",
       "\t<tr><th scope=col>&lt;dbl&gt;</th><th scope=col>&lt;chr&gt;</th><th scope=col>&lt;chr&gt;</th><th scope=col>&lt;dbl&gt;</th><th scope=col>&lt;int&gt;</th><th scope=col>&lt;dbl&gt;</th><th scope=col>&lt;chr&gt;</th></tr>\n",
       "</thead>\n",
       "<tbody>\n",
       "\t<tr><td> 1</td><td>accuracy</td><td>binary</td><td>0.7478904</td><td>10</td><td>0.01671011</td><td>Preprocessor1_Model01</td></tr>\n",
       "\t<tr><td> 3</td><td>accuracy</td><td>binary</td><td>0.8041072</td><td>10</td><td>0.01508574</td><td>Preprocessor1_Model02</td></tr>\n",
       "\t<tr><td> 5</td><td>accuracy</td><td>binary</td><td>0.8180320</td><td>10</td><td>0.01401168</td><td>Preprocessor1_Model03</td></tr>\n",
       "\t<tr><td> 7</td><td>accuracy</td><td>binary</td><td>0.8138687</td><td>10</td><td>0.01378287</td><td>Preprocessor1_Model04</td></tr>\n",
       "\t<tr><td> 9</td><td>accuracy</td><td>binary</td><td>0.8179504</td><td>10</td><td>0.01308060</td><td>Preprocessor1_Model05</td></tr>\n",
       "\t<tr><td>11</td><td>accuracy</td><td>binary</td><td>0.8159112</td><td>10</td><td>0.01258703</td><td>Preprocessor1_Model06</td></tr>\n",
       "\t<tr><td>13</td><td>accuracy</td><td>binary</td><td>0.8078295</td><td>10</td><td>0.01284384</td><td>Preprocessor1_Model07</td></tr>\n",
       "\t<tr><td>15</td><td>accuracy</td><td>binary</td><td>0.8076695</td><td>10</td><td>0.01299153</td><td>Preprocessor1_Model08</td></tr>\n",
       "\t<tr><td>17</td><td>accuracy</td><td>binary</td><td>0.8017055</td><td>10</td><td>0.01461988</td><td>Preprocessor1_Model09</td></tr>\n",
       "\t<tr><td>19</td><td>accuracy</td><td>binary</td><td>0.8037871</td><td>10</td><td>0.01426852</td><td>Preprocessor1_Model10</td></tr>\n",
       "\t<tr><td>21</td><td>accuracy</td><td>binary</td><td>0.7999064</td><td>10</td><td>0.01419582</td><td>Preprocessor1_Model11</td></tr>\n",
       "\t<tr><td>23</td><td>accuracy</td><td>binary</td><td>0.7999472</td><td>10</td><td>0.01509924</td><td>Preprocessor1_Model12</td></tr>\n",
       "\t<tr><td>25</td><td>accuracy</td><td>binary</td><td>0.7998263</td><td>10</td><td>0.01157306</td><td>Preprocessor1_Model13</td></tr>\n",
       "\t<tr><td>27</td><td>accuracy</td><td>binary</td><td>0.7938247</td><td>10</td><td>0.01233283</td><td>Preprocessor1_Model14</td></tr>\n",
       "\t<tr><td>29</td><td>accuracy</td><td>binary</td><td>0.7938247</td><td>10</td><td>0.01233283</td><td>Preprocessor1_Model15</td></tr>\n",
       "\t<tr><td>31</td><td>accuracy</td><td>binary</td><td>0.7938247</td><td>10</td><td>0.01270252</td><td>Preprocessor1_Model16</td></tr>\n",
       "\t<tr><td>33</td><td>accuracy</td><td>binary</td><td>0.7977463</td><td>10</td><td>0.01362100</td><td>Preprocessor1_Model17</td></tr>\n",
       "\t<tr><td>35</td><td>accuracy</td><td>binary</td><td>0.8016679</td><td>10</td><td>0.01550699</td><td>Preprocessor1_Model18</td></tr>\n",
       "</tbody>\n",
       "</table>\n"
      ],
      "text/latex": [
       "A tibble: 18 × 7\n",
       "\\begin{tabular}{lllllll}\n",
       " neighbors & .metric & .estimator & mean & n & std\\_err & .config\\\\\n",
       " <dbl> & <chr> & <chr> & <dbl> & <int> & <dbl> & <chr>\\\\\n",
       "\\hline\n",
       "\t  1 & accuracy & binary & 0.7478904 & 10 & 0.01671011 & Preprocessor1\\_Model01\\\\\n",
       "\t  3 & accuracy & binary & 0.8041072 & 10 & 0.01508574 & Preprocessor1\\_Model02\\\\\n",
       "\t  5 & accuracy & binary & 0.8180320 & 10 & 0.01401168 & Preprocessor1\\_Model03\\\\\n",
       "\t  7 & accuracy & binary & 0.8138687 & 10 & 0.01378287 & Preprocessor1\\_Model04\\\\\n",
       "\t  9 & accuracy & binary & 0.8179504 & 10 & 0.01308060 & Preprocessor1\\_Model05\\\\\n",
       "\t 11 & accuracy & binary & 0.8159112 & 10 & 0.01258703 & Preprocessor1\\_Model06\\\\\n",
       "\t 13 & accuracy & binary & 0.8078295 & 10 & 0.01284384 & Preprocessor1\\_Model07\\\\\n",
       "\t 15 & accuracy & binary & 0.8076695 & 10 & 0.01299153 & Preprocessor1\\_Model08\\\\\n",
       "\t 17 & accuracy & binary & 0.8017055 & 10 & 0.01461988 & Preprocessor1\\_Model09\\\\\n",
       "\t 19 & accuracy & binary & 0.8037871 & 10 & 0.01426852 & Preprocessor1\\_Model10\\\\\n",
       "\t 21 & accuracy & binary & 0.7999064 & 10 & 0.01419582 & Preprocessor1\\_Model11\\\\\n",
       "\t 23 & accuracy & binary & 0.7999472 & 10 & 0.01509924 & Preprocessor1\\_Model12\\\\\n",
       "\t 25 & accuracy & binary & 0.7998263 & 10 & 0.01157306 & Preprocessor1\\_Model13\\\\\n",
       "\t 27 & accuracy & binary & 0.7938247 & 10 & 0.01233283 & Preprocessor1\\_Model14\\\\\n",
       "\t 29 & accuracy & binary & 0.7938247 & 10 & 0.01233283 & Preprocessor1\\_Model15\\\\\n",
       "\t 31 & accuracy & binary & 0.7938247 & 10 & 0.01270252 & Preprocessor1\\_Model16\\\\\n",
       "\t 33 & accuracy & binary & 0.7977463 & 10 & 0.01362100 & Preprocessor1\\_Model17\\\\\n",
       "\t 35 & accuracy & binary & 0.8016679 & 10 & 0.01550699 & Preprocessor1\\_Model18\\\\\n",
       "\\end{tabular}\n"
      ],
      "text/markdown": [
       "\n",
       "A tibble: 18 × 7\n",
       "\n",
       "| neighbors &lt;dbl&gt; | .metric &lt;chr&gt; | .estimator &lt;chr&gt; | mean &lt;dbl&gt; | n &lt;int&gt; | std_err &lt;dbl&gt; | .config &lt;chr&gt; |\n",
       "|---|---|---|---|---|---|---|\n",
       "|  1 | accuracy | binary | 0.7478904 | 10 | 0.01671011 | Preprocessor1_Model01 |\n",
       "|  3 | accuracy | binary | 0.8041072 | 10 | 0.01508574 | Preprocessor1_Model02 |\n",
       "|  5 | accuracy | binary | 0.8180320 | 10 | 0.01401168 | Preprocessor1_Model03 |\n",
       "|  7 | accuracy | binary | 0.8138687 | 10 | 0.01378287 | Preprocessor1_Model04 |\n",
       "|  9 | accuracy | binary | 0.8179504 | 10 | 0.01308060 | Preprocessor1_Model05 |\n",
       "| 11 | accuracy | binary | 0.8159112 | 10 | 0.01258703 | Preprocessor1_Model06 |\n",
       "| 13 | accuracy | binary | 0.8078295 | 10 | 0.01284384 | Preprocessor1_Model07 |\n",
       "| 15 | accuracy | binary | 0.8076695 | 10 | 0.01299153 | Preprocessor1_Model08 |\n",
       "| 17 | accuracy | binary | 0.8017055 | 10 | 0.01461988 | Preprocessor1_Model09 |\n",
       "| 19 | accuracy | binary | 0.8037871 | 10 | 0.01426852 | Preprocessor1_Model10 |\n",
       "| 21 | accuracy | binary | 0.7999064 | 10 | 0.01419582 | Preprocessor1_Model11 |\n",
       "| 23 | accuracy | binary | 0.7999472 | 10 | 0.01509924 | Preprocessor1_Model12 |\n",
       "| 25 | accuracy | binary | 0.7998263 | 10 | 0.01157306 | Preprocessor1_Model13 |\n",
       "| 27 | accuracy | binary | 0.7938247 | 10 | 0.01233283 | Preprocessor1_Model14 |\n",
       "| 29 | accuracy | binary | 0.7938247 | 10 | 0.01233283 | Preprocessor1_Model15 |\n",
       "| 31 | accuracy | binary | 0.7938247 | 10 | 0.01270252 | Preprocessor1_Model16 |\n",
       "| 33 | accuracy | binary | 0.7977463 | 10 | 0.01362100 | Preprocessor1_Model17 |\n",
       "| 35 | accuracy | binary | 0.8016679 | 10 | 0.01550699 | Preprocessor1_Model18 |\n",
       "\n"
      ],
      "text/plain": [
       "   neighbors .metric  .estimator mean      n  std_err    .config              \n",
       "1   1        accuracy binary     0.7478904 10 0.01671011 Preprocessor1_Model01\n",
       "2   3        accuracy binary     0.8041072 10 0.01508574 Preprocessor1_Model02\n",
       "3   5        accuracy binary     0.8180320 10 0.01401168 Preprocessor1_Model03\n",
       "4   7        accuracy binary     0.8138687 10 0.01378287 Preprocessor1_Model04\n",
       "5   9        accuracy binary     0.8179504 10 0.01308060 Preprocessor1_Model05\n",
       "6  11        accuracy binary     0.8159112 10 0.01258703 Preprocessor1_Model06\n",
       "7  13        accuracy binary     0.8078295 10 0.01284384 Preprocessor1_Model07\n",
       "8  15        accuracy binary     0.8076695 10 0.01299153 Preprocessor1_Model08\n",
       "9  17        accuracy binary     0.8017055 10 0.01461988 Preprocessor1_Model09\n",
       "10 19        accuracy binary     0.8037871 10 0.01426852 Preprocessor1_Model10\n",
       "11 21        accuracy binary     0.7999064 10 0.01419582 Preprocessor1_Model11\n",
       "12 23        accuracy binary     0.7999472 10 0.01509924 Preprocessor1_Model12\n",
       "13 25        accuracy binary     0.7998263 10 0.01157306 Preprocessor1_Model13\n",
       "14 27        accuracy binary     0.7938247 10 0.01233283 Preprocessor1_Model14\n",
       "15 29        accuracy binary     0.7938247 10 0.01233283 Preprocessor1_Model15\n",
       "16 31        accuracy binary     0.7938247 10 0.01270252 Preprocessor1_Model16\n",
       "17 33        accuracy binary     0.7977463 10 0.01362100 Preprocessor1_Model17\n",
       "18 35        accuracy binary     0.8016679 10 0.01550699 Preprocessor1_Model18"
      ]
     },
     "metadata": {},
     "output_type": "display_data"
    }
   ],
   "source": [
    "#tuning the model to find the best value of k using the best predictors as seen above.\n",
    "\n",
    "boat_recipe <- recipe(Survived ~ Fare +sex_binary + Passenger_Class + Age + Number0fSiblings, data = boat_train_model) |>\n",
    "    step_scale(all_predictors()) |>\n",
    "    step_center(all_predictors())\n",
    "\n",
    "boat_model_stats <- workflow() |>\n",
    "  add_recipe(boat_recipe) |>\n",
    "  add_model(boat_spec_tune) |>\n",
    "  tune_grid(resamples = boat_vfold, grid = k_vals) |>\n",
    "  collect_metrics() |>\n",
    "  filter(.metric == \"accuracy\")\n",
    "\n",
    "boat_model_stats\n",
    "    "
   ]
  },
  {
   "cell_type": "code",
   "execution_count": 45,
   "id": "0b100c9a-5366-4750-89e8-ebb3b0306e32",
   "metadata": {},
   "outputs": [
    {
     "data": {
      "text/plain": [
       "<ScaleContinuousPosition>\n",
       " Range:  \n",
       " Limits:  0.4 --    1"
      ]
     },
     "metadata": {},
     "output_type": "display_data"
    },
    {
     "data": {
      "image/png": "[encoded data removed]",
      "text/plain": [
       "plot without title"
      ]
     },
     "metadata": {
      "image/png": {
       "height": 420,
       "width": 420
      }
     },
     "output_type": "display_data"
    }
   ],
   "source": [
    "accuracy_versus_k <- ggplot(boat_model_stats, aes(x = neighbors, y = mean))+\n",
    "       geom_point() +\n",
    "       geom_line(color = \"blue\") +\n",
    "       labs(x = \"Neighbors\", y = \"Accuracy Estimate\") +\n",
    "       scale_x_continuous(breaks = seq(0, 35, by = 2))\n",
    "       scale_y_continuous(limits = c(0.4, 1.0))\n",
    "\n",
    "accuracy_versus_k"
   ]
  },
  {
   "cell_type": "markdown",
   "id": "af59c5ff-322d-430d-80a9-79222cb15c1b",
   "metadata": {},
   "source": [
    "## Creating Final Model"
   ]
  },
  {
   "cell_type": "code",
   "execution_count": 46,
   "id": "730623fb-eb3c-43d2-9543-2a1505a86b1b",
   "metadata": {},
   "outputs": [
    {
     "data": {
      "text/html": [
       "5"
      ],
      "text/latex": [
       "5"
      ],
      "text/markdown": [
       "5"
      ],
      "text/plain": [
       "[1] 5"
      ]
     },
     "metadata": {},
     "output_type": "display_data"
    }
   ],
   "source": [
    "set.seed(911)\n",
    "#pulling the max value of k and retraining the model with given k:\n",
    "\n",
    "kmax <- boat_model_stats|>\n",
    "    filter(mean == max(mean)) |>\n",
    "    pull(neighbors)\n",
    "\n",
    "boat_spec <- knn_spec <- nearest_neighbor(weight_func = \"rectangular\", neighbors = kmax) |>\n",
    "  set_engine(\"kknn\") |>\n",
    "  set_mode(\"classification\")\n",
    "\n",
    "boat_fit <- workflow() |>\n",
    "  add_recipe(boat_recipe) |>\n",
    "  add_model(boat_spec) |>\n",
    "  fit(data = boat_train_model)\n",
    "\n",
    "kmax"
   ]
  },
  {
   "cell_type": "code",
   "execution_count": 47,
   "id": "1b9bea2b-96ec-4c23-9917-b086faac2f5e",
   "metadata": {},
   "outputs": [
    {
     "data": {
      "text/html": [
       "<table class=\"dataframe\">\n",
       "<caption>A tibble: 1 × 3</caption>\n",
       "<thead>\n",
       "\t<tr><th scope=col>.metric</th><th scope=col>.estimator</th><th scope=col>.estimate</th></tr>\n",
       "\t<tr><th scope=col>&lt;chr&gt;</th><th scope=col>&lt;chr&gt;</th><th scope=col>&lt;dbl&gt;</th></tr>\n",
       "</thead>\n",
       "<tbody>\n",
       "\t<tr><td>accuracy</td><td>binary</td><td>0.8046512</td></tr>\n",
       "</tbody>\n",
       "</table>\n"
      ],
      "text/latex": [
       "A tibble: 1 × 3\n",
       "\\begin{tabular}{lll}\n",
       " .metric & .estimator & .estimate\\\\\n",
       " <chr> & <chr> & <dbl>\\\\\n",
       "\\hline\n",
       "\t accuracy & binary & 0.8046512\\\\\n",
       "\\end{tabular}\n"
      ],
      "text/markdown": [
       "\n",
       "A tibble: 1 × 3\n",
       "\n",
       "| .metric &lt;chr&gt; | .estimator &lt;chr&gt; | .estimate &lt;dbl&gt; |\n",
       "|---|---|---|\n",
       "| accuracy | binary | 0.8046512 |\n",
       "\n"
      ],
      "text/plain": [
       "  .metric  .estimator .estimate\n",
       "1 accuracy binary     0.8046512"
      ]
     },
     "metadata": {},
     "output_type": "display_data"
    }
   ],
   "source": [
    "set.seed(911)\n",
    "#testing the model's accuracy on testing data:\n",
    "\n",
    "accuracy_estimate <- predict(boat_fit, boat_test) |>\n",
    "    bind_cols(boat_test) |>\n",
    "    metrics(truth = Survived, estimate = .pred_class) |>\n",
    "    filter(.metric == \"accuracy\")\n",
    "\n",
    "accuracy_estimate"
   ]
  },
  {
   "cell_type": "code",
   "execution_count": 48,
   "id": "c730099b-1f9e-4384-b4f9-96df52014869",
   "metadata": {},
   "outputs": [
    {
     "data": {
      "text/html": [
       "<table class=\"dataframe\">\n",
       "<caption>A tibble: 2 × 3</caption>\n",
       "<thead>\n",
       "\t<tr><th scope=col>Survived</th><th scope=col>count</th><th scope=col>percentage</th></tr>\n",
       "\t<tr><th scope=col>&lt;fct&gt;</th><th scope=col>&lt;int&gt;</th><th scope=col>&lt;dbl&gt;</th></tr>\n",
       "</thead>\n",
       "<tbody>\n",
       "\t<tr><td>0</td><td>128</td><td>0.5953488</td></tr>\n",
       "\t<tr><td>1</td><td> 87</td><td>0.4046512</td></tr>\n",
       "</tbody>\n",
       "</table>\n"
      ],
      "text/latex": [
       "A tibble: 2 × 3\n",
       "\\begin{tabular}{lll}\n",
       " Survived & count & percentage\\\\\n",
       " <fct> & <int> & <dbl>\\\\\n",
       "\\hline\n",
       "\t 0 & 128 & 0.5953488\\\\\n",
       "\t 1 &  87 & 0.4046512\\\\\n",
       "\\end{tabular}\n"
      ],
      "text/markdown": [
       "\n",
       "A tibble: 2 × 3\n",
       "\n",
       "| Survived &lt;fct&gt; | count &lt;int&gt; | percentage &lt;dbl&gt; |\n",
       "|---|---|---|\n",
       "| 0 | 128 | 0.5953488 |\n",
       "| 1 |  87 | 0.4046512 |\n",
       "\n"
      ],
      "text/plain": [
       "  Survived count percentage\n",
       "1 0        128   0.5953488 \n",
       "2 1         87   0.4046512 "
      ]
     },
     "metadata": {},
     "output_type": "display_data"
    }
   ],
   "source": [
    "#finding the majority class prediction:\n",
    "\n",
    "majority_class <- boat_test |>\n",
    "    group_by(Survived) |>\n",
    "    summarise(count = n(), percentage = n()/nrow(boat_test))\n",
    "\n",
    "majority_class"
   ]
  },
  {
   "cell_type": "code",
   "execution_count": 49,
   "id": "76c209fd-e5d2-4b77-95d4-6c6284b67caf",
   "metadata": {},
   "outputs": [
    {
     "name": "stderr",
     "output_type": "stream",
     "text": [
      "\u001b[1m\u001b[22m`summarise()` has grouped output by '.pred_class'. You can override using the\n",
      "`.groups` argument.\n"
     ]
    },
    {
     "data": {
      "text/html": [
       "<table class=\"dataframe\">\n",
       "<caption>A tibble: 4 × 4</caption>\n",
       "<thead>\n",
       "\t<tr><th scope=col>.pred_class</th><th scope=col>Survived</th><th scope=col>count</th><th scope=col>percent</th></tr>\n",
       "\t<tr><th scope=col>&lt;fct&gt;</th><th scope=col>&lt;fct&gt;</th><th scope=col>&lt;int&gt;</th><th scope=col>&lt;dbl&gt;</th></tr>\n",
       "</thead>\n",
       "<tbody>\n",
       "\t<tr><td>0</td><td>0</td><td>106</td><td>0.49302326</td></tr>\n",
       "\t<tr><td>0</td><td>1</td><td> 20</td><td>0.09302326</td></tr>\n",
       "\t<tr><td>1</td><td>0</td><td> 22</td><td>0.10232558</td></tr>\n",
       "\t<tr><td>1</td><td>1</td><td> 67</td><td>0.31162791</td></tr>\n",
       "</tbody>\n",
       "</table>\n"
      ],
      "text/latex": [
       "A tibble: 4 × 4\n",
       "\\begin{tabular}{llll}\n",
       " .pred\\_class & Survived & count & percent\\\\\n",
       " <fct> & <fct> & <int> & <dbl>\\\\\n",
       "\\hline\n",
       "\t 0 & 0 & 106 & 0.49302326\\\\\n",
       "\t 0 & 1 &  20 & 0.09302326\\\\\n",
       "\t 1 & 0 &  22 & 0.10232558\\\\\n",
       "\t 1 & 1 &  67 & 0.31162791\\\\\n",
       "\\end{tabular}\n"
      ],
      "text/markdown": [
       "\n",
       "A tibble: 4 × 4\n",
       "\n",
       "| .pred_class &lt;fct&gt; | Survived &lt;fct&gt; | count &lt;int&gt; | percent &lt;dbl&gt; |\n",
       "|---|---|---|---|\n",
       "| 0 | 0 | 106 | 0.49302326 |\n",
       "| 0 | 1 |  20 | 0.09302326 |\n",
       "| 1 | 0 |  22 | 0.10232558 |\n",
       "| 1 | 1 |  67 | 0.31162791 |\n",
       "\n"
      ],
      "text/plain": [
       "  .pred_class Survived count percent   \n",
       "1 0           0        106   0.49302326\n",
       "2 0           1         20   0.09302326\n",
       "3 1           0         22   0.10232558\n",
       "4 1           1         67   0.31162791"
      ]
     },
     "metadata": {},
     "output_type": "display_data"
    }
   ],
   "source": [
    "predictions <- predict(boat_fit, boat_test) |>\n",
    "    bind_cols(boat_test)\n",
    "\n",
    "analysis1 <- predictions |>\n",
    "    group_by(.pred_class, Survived) |>\n",
    "    summarise(count = n()) |>\n",
    "    ungroup() |> \n",
    "    mutate(percent = count/sum(count))\n",
    "\n",
    "analysis1\n"
   ]
  },
  {
   "cell_type": "code",
   "execution_count": 50,
   "id": "2a2a2779-7974-4dcf-ad0c-87cdbddaa159",
   "metadata": {},
   "outputs": [
    {
     "data": {
      "text/plain": [
       "          Truth\n",
       "Prediction   0   1\n",
       "         0 106  20\n",
       "         1  22  67"
      ]
     },
     "metadata": {},
     "output_type": "display_data"
    },
    {
     "data": {
      "image/png": "[encoded data removed]",
      "text/plain": [
       "plot without title"
      ]
     },
     "metadata": {
      "image/png": {
       "height": 420,
       "width": 420
      }
     },
     "output_type": "display_data"
    }
   ],
   "source": [
    "confusion_matrix <- predictions |>\n",
    "    conf_mat(truth = Survived, estimate = .pred_class)\n",
    "\n",
    "confusion_matrix\n",
    "\n",
    "autoplot(confusion_matrix,type = \"heatmap\", Truth =\"\")"
   ]
  },
  {
   "cell_type": "code",
   "execution_count": 51,
   "id": "59583927-ff9a-4435-8363-6a4f327f6ce0",
   "metadata": {},
   "outputs": [
    {
     "name": "stderr",
     "output_type": "stream",
     "text": [
      "\u001b[1m\u001b[22m`summarise()` has grouped output by 'Passenger_Class'. You can override using\n",
      "the `.groups` argument.\n"
     ]
    },
    {
     "data": {
      "text/html": [
       "<table class=\"dataframe\">\n",
       "<caption>A grouped_df: 6 × 3</caption>\n",
       "<thead>\n",
       "\t<tr><th scope=col>Passenger_Class</th><th scope=col>Survived</th><th scope=col>count</th></tr>\n",
       "\t<tr><th scope=col>&lt;dbl&gt;</th><th scope=col>&lt;fct&gt;</th><th scope=col>&lt;int&gt;</th></tr>\n",
       "</thead>\n",
       "<tbody>\n",
       "\t<tr><td>1</td><td>0</td><td> 4</td></tr>\n",
       "\t<tr><td>1</td><td>1</td><td>10</td></tr>\n",
       "\t<tr><td>2</td><td>0</td><td> 1</td></tr>\n",
       "\t<tr><td>2</td><td>1</td><td> 2</td></tr>\n",
       "\t<tr><td>3</td><td>0</td><td>17</td></tr>\n",
       "\t<tr><td>3</td><td>1</td><td> 8</td></tr>\n",
       "</tbody>\n",
       "</table>\n"
      ],
      "text/latex": [
       "A grouped\\_df: 6 × 3\n",
       "\\begin{tabular}{lll}\n",
       " Passenger\\_Class & Survived & count\\\\\n",
       " <dbl> & <fct> & <int>\\\\\n",
       "\\hline\n",
       "\t 1 & 0 &  4\\\\\n",
       "\t 1 & 1 & 10\\\\\n",
       "\t 2 & 0 &  1\\\\\n",
       "\t 2 & 1 &  2\\\\\n",
       "\t 3 & 0 & 17\\\\\n",
       "\t 3 & 1 &  8\\\\\n",
       "\\end{tabular}\n"
      ],
      "text/markdown": [
       "\n",
       "A grouped_df: 6 × 3\n",
       "\n",
       "| Passenger_Class &lt;dbl&gt; | Survived &lt;fct&gt; | count &lt;int&gt; |\n",
       "|---|---|---|\n",
       "| 1 | 0 |  4 |\n",
       "| 1 | 1 | 10 |\n",
       "| 2 | 0 |  1 |\n",
       "| 2 | 1 |  2 |\n",
       "| 3 | 0 | 17 |\n",
       "| 3 | 1 |  8 |\n",
       "\n"
      ],
      "text/plain": [
       "  Passenger_Class Survived count\n",
       "1 1               0         4   \n",
       "2 1               1        10   \n",
       "3 2               0         1   \n",
       "4 2               1         2   \n",
       "5 3               0        17   \n",
       "6 3               1         8   "
      ]
     },
     "metadata": {},
     "output_type": "display_data"
    },
    {
     "data": {
      "text/html": [
       "<table class=\"dataframe\">\n",
       "<caption>A tibble: 3 × 3</caption>\n",
       "<thead>\n",
       "\t<tr><th scope=col>Passenger_Class</th><th scope=col>count</th><th scope=col>percent</th></tr>\n",
       "\t<tr><th scope=col>&lt;dbl&gt;</th><th scope=col>&lt;int&gt;</th><th scope=col>&lt;dbl&gt;</th></tr>\n",
       "</thead>\n",
       "<tbody>\n",
       "\t<tr><td>1</td><td> 61</td><td>0.2837209</td></tr>\n",
       "\t<tr><td>2</td><td> 49</td><td>0.2279070</td></tr>\n",
       "\t<tr><td>3</td><td>105</td><td>0.4883721</td></tr>\n",
       "</tbody>\n",
       "</table>\n"
      ],
      "text/latex": [
       "A tibble: 3 × 3\n",
       "\\begin{tabular}{lll}\n",
       " Passenger\\_Class & count & percent\\\\\n",
       " <dbl> & <int> & <dbl>\\\\\n",
       "\\hline\n",
       "\t 1 &  61 & 0.2837209\\\\\n",
       "\t 2 &  49 & 0.2279070\\\\\n",
       "\t 3 & 105 & 0.4883721\\\\\n",
       "\\end{tabular}\n"
      ],
      "text/markdown": [
       "\n",
       "A tibble: 3 × 3\n",
       "\n",
       "| Passenger_Class &lt;dbl&gt; | count &lt;int&gt; | percent &lt;dbl&gt; |\n",
       "|---|---|---|\n",
       "| 1 |  61 | 0.2837209 |\n",
       "| 2 |  49 | 0.2279070 |\n",
       "| 3 | 105 | 0.4883721 |\n",
       "\n"
      ],
      "text/plain": [
       "  Passenger_Class count percent  \n",
       "1 1                61   0.2837209\n",
       "2 2                49   0.2279070\n",
       "3 3               105   0.4883721"
      ]
     },
     "metadata": {},
     "output_type": "display_data"
    }
   ],
   "source": [
    "analysis2 <- predict(boat_fit, boat_test) |>\n",
    "    bind_cols(boat_test) |>\n",
    "    filter(Survived != .pred_class) |>\n",
    "    group_by(Passenger_Class, Survived)\t|>\n",
    "    summarise(count = n())\n",
    "percent_of_pop <- boat_test |>\n",
    "    group_by(Passenger_Class) |>\n",
    "    summarise(count = n()) |>\n",
    "    ungroup() |> \n",
    "    mutate(percent = count/sum(count))\n",
    "    \n",
    "analysis2\n",
    "\n",
    "percent_of_pop"
   ]
  },
  {
   "cell_type": "code",
   "execution_count": 52,
   "id": "2a008e66-d07e-4ebf-97e4-6bb5eccc3447",
   "metadata": {},
   "outputs": [
    {
     "name": "stderr",
     "output_type": "stream",
     "text": [
      "\u001b[1m\u001b[22m`summarise()` has grouped output by 'sex_binary'. You can override using the\n",
      "`.groups` argument.\n"
     ]
    },
    {
     "data": {
      "text/html": [
       "<table class=\"dataframe\">\n",
       "<caption>A grouped_df: 4 × 4</caption>\n",
       "<thead>\n",
       "\t<tr><th scope=col>sex_binary</th><th scope=col>Survived == .pred_class</th><th scope=col>count</th><th scope=col>prop</th></tr>\n",
       "\t<tr><th scope=col>&lt;dbl&gt;</th><th scope=col>&lt;lgl&gt;</th><th scope=col>&lt;int&gt;</th><th scope=col>&lt;dbl&gt;</th></tr>\n",
       "</thead>\n",
       "<tbody>\n",
       "\t<tr><td>0</td><td>FALSE</td><td> 20</td><td>0.2197802</td></tr>\n",
       "\t<tr><td>0</td><td> TRUE</td><td> 71</td><td>0.7802198</td></tr>\n",
       "\t<tr><td>1</td><td>FALSE</td><td> 22</td><td>0.1774194</td></tr>\n",
       "\t<tr><td>1</td><td> TRUE</td><td>102</td><td>0.8225806</td></tr>\n",
       "</tbody>\n",
       "</table>\n"
      ],
      "text/latex": [
       "A grouped\\_df: 4 × 4\n",
       "\\begin{tabular}{llll}\n",
       " sex\\_binary & Survived == .pred\\_class & count & prop\\\\\n",
       " <dbl> & <lgl> & <int> & <dbl>\\\\\n",
       "\\hline\n",
       "\t 0 & FALSE &  20 & 0.2197802\\\\\n",
       "\t 0 &  TRUE &  71 & 0.7802198\\\\\n",
       "\t 1 & FALSE &  22 & 0.1774194\\\\\n",
       "\t 1 &  TRUE & 102 & 0.8225806\\\\\n",
       "\\end{tabular}\n"
      ],
      "text/markdown": [
       "\n",
       "A grouped_df: 4 × 4\n",
       "\n",
       "| sex_binary &lt;dbl&gt; | Survived == .pred_class &lt;lgl&gt; | count &lt;int&gt; | prop &lt;dbl&gt; |\n",
       "|---|---|---|---|\n",
       "| 0 | FALSE |  20 | 0.2197802 |\n",
       "| 0 |  TRUE |  71 | 0.7802198 |\n",
       "| 1 | FALSE |  22 | 0.1774194 |\n",
       "| 1 |  TRUE | 102 | 0.8225806 |\n",
       "\n"
      ],
      "text/plain": [
       "  sex_binary Survived == .pred_class count prop     \n",
       "1 0          FALSE                    20   0.2197802\n",
       "2 0           TRUE                    71   0.7802198\n",
       "3 1          FALSE                    22   0.1774194\n",
       "4 1           TRUE                   102   0.8225806"
      ]
     },
     "metadata": {},
     "output_type": "display_data"
    }
   ],
   "source": [
    "#slighly more accurate for males due to more males being in the training set\n",
    "\n",
    "predictions %>%\n",
    "group_by(sex_binary, Survived == .pred_class) %>%\n",
    "summarize(count = n()) %>%\n",
    "mutate(prop = count/sum(count))\n"
   ]
  },
  {
   "cell_type": "code",
   "execution_count": 53,
   "id": "405dedc9-11da-437a-b661-143f76f88aa5",
   "metadata": {},
   "outputs": [
    {
     "name": "stderr",
     "output_type": "stream",
     "text": [
      "\u001b[1m\u001b[22m`summarise()` has grouped output by 'Passenger_Class'. You can override using\n",
      "the `.groups` argument.\n"
     ]
    },
    {
     "data": {
      "text/html": [
       "<table class=\"dataframe\">\n",
       "<caption>A grouped_df: 6 × 4</caption>\n",
       "<thead>\n",
       "\t<tr><th scope=col>Passenger_Class</th><th scope=col>Survived == .pred_class</th><th scope=col>count</th><th scope=col>prop</th></tr>\n",
       "\t<tr><th scope=col>&lt;dbl&gt;</th><th scope=col>&lt;lgl&gt;</th><th scope=col>&lt;int&gt;</th><th scope=col>&lt;dbl&gt;</th></tr>\n",
       "</thead>\n",
       "<tbody>\n",
       "\t<tr><td>1</td><td>FALSE</td><td>14</td><td>0.22950820</td></tr>\n",
       "\t<tr><td>1</td><td> TRUE</td><td>47</td><td>0.77049180</td></tr>\n",
       "\t<tr><td>2</td><td>FALSE</td><td> 3</td><td>0.06122449</td></tr>\n",
       "\t<tr><td>2</td><td> TRUE</td><td>46</td><td>0.93877551</td></tr>\n",
       "\t<tr><td>3</td><td>FALSE</td><td>25</td><td>0.23809524</td></tr>\n",
       "\t<tr><td>3</td><td> TRUE</td><td>80</td><td>0.76190476</td></tr>\n",
       "</tbody>\n",
       "</table>\n"
      ],
      "text/latex": [
       "A grouped\\_df: 6 × 4\n",
       "\\begin{tabular}{llll}\n",
       " Passenger\\_Class & Survived == .pred\\_class & count & prop\\\\\n",
       " <dbl> & <lgl> & <int> & <dbl>\\\\\n",
       "\\hline\n",
       "\t 1 & FALSE & 14 & 0.22950820\\\\\n",
       "\t 1 &  TRUE & 47 & 0.77049180\\\\\n",
       "\t 2 & FALSE &  3 & 0.06122449\\\\\n",
       "\t 2 &  TRUE & 46 & 0.93877551\\\\\n",
       "\t 3 & FALSE & 25 & 0.23809524\\\\\n",
       "\t 3 &  TRUE & 80 & 0.76190476\\\\\n",
       "\\end{tabular}\n"
      ],
      "text/markdown": [
       "\n",
       "A grouped_df: 6 × 4\n",
       "\n",
       "| Passenger_Class &lt;dbl&gt; | Survived == .pred_class &lt;lgl&gt; | count &lt;int&gt; | prop &lt;dbl&gt; |\n",
       "|---|---|---|---|\n",
       "| 1 | FALSE | 14 | 0.22950820 |\n",
       "| 1 |  TRUE | 47 | 0.77049180 |\n",
       "| 2 | FALSE |  3 | 0.06122449 |\n",
       "| 2 |  TRUE | 46 | 0.93877551 |\n",
       "| 3 | FALSE | 25 | 0.23809524 |\n",
       "| 3 |  TRUE | 80 | 0.76190476 |\n",
       "\n"
      ],
      "text/plain": [
       "  Passenger_Class Survived == .pred_class count prop      \n",
       "1 1               FALSE                   14    0.22950820\n",
       "2 1                TRUE                   47    0.77049180\n",
       "3 2               FALSE                    3    0.06122449\n",
       "4 2                TRUE                   46    0.93877551\n",
       "5 3               FALSE                   25    0.23809524\n",
       "6 3                TRUE                   80    0.76190476"
      ]
     },
     "metadata": {},
     "output_type": "display_data"
    }
   ],
   "source": [
    "#very accurate for second class why??\n",
    "\n",
    "predictions %>%\n",
    "group_by(Passenger_Class, Survived == .pred_class) %>%\n",
    "summarize(count = n()) %>%\n",
    "mutate(prop = count/sum(count))"
   ]
  },
  {
   "cell_type": "code",
   "execution_count": 54,
   "id": "75ecb5d9-db69-41c4-a6e9-0fea3d7de1a8",
   "metadata": {},
   "outputs": [
    {
     "name": "stderr",
     "output_type": "stream",
     "text": [
      "\u001b[1m\u001b[22m`summarise()` has grouped output by 'Number0fSiblings'. You can override using\n",
      "the `.groups` argument.\n"
     ]
    },
    {
     "data": {
      "text/html": [
       "<table class=\"dataframe\">\n",
       "<caption>A grouped_df: 10 × 4</caption>\n",
       "<thead>\n",
       "\t<tr><th scope=col>Number0fSiblings</th><th scope=col>Survived == .pred_class</th><th scope=col>count</th><th scope=col>prop</th></tr>\n",
       "\t<tr><th scope=col>&lt;dbl&gt;</th><th scope=col>&lt;lgl&gt;</th><th scope=col>&lt;int&gt;</th><th scope=col>&lt;dbl&gt;</th></tr>\n",
       "</thead>\n",
       "<tbody>\n",
       "\t<tr><td>0</td><td>FALSE</td><td> 24</td><td>0.1702128</td></tr>\n",
       "\t<tr><td>0</td><td> TRUE</td><td>117</td><td>0.8297872</td></tr>\n",
       "\t<tr><td>1</td><td>FALSE</td><td> 15</td><td>0.2586207</td></tr>\n",
       "\t<tr><td>1</td><td> TRUE</td><td> 43</td><td>0.7413793</td></tr>\n",
       "\t<tr><td>2</td><td>FALSE</td><td>  2</td><td>0.2857143</td></tr>\n",
       "\t<tr><td>2</td><td> TRUE</td><td>  5</td><td>0.7142857</td></tr>\n",
       "\t<tr><td>3</td><td> TRUE</td><td>  1</td><td>1.0000000</td></tr>\n",
       "\t<tr><td>4</td><td>FALSE</td><td>  1</td><td>0.2500000</td></tr>\n",
       "\t<tr><td>4</td><td> TRUE</td><td>  3</td><td>0.7500000</td></tr>\n",
       "\t<tr><td>5</td><td> TRUE</td><td>  4</td><td>1.0000000</td></tr>\n",
       "</tbody>\n",
       "</table>\n"
      ],
      "text/latex": [
       "A grouped\\_df: 10 × 4\n",
       "\\begin{tabular}{llll}\n",
       " Number0fSiblings & Survived == .pred\\_class & count & prop\\\\\n",
       " <dbl> & <lgl> & <int> & <dbl>\\\\\n",
       "\\hline\n",
       "\t 0 & FALSE &  24 & 0.1702128\\\\\n",
       "\t 0 &  TRUE & 117 & 0.8297872\\\\\n",
       "\t 1 & FALSE &  15 & 0.2586207\\\\\n",
       "\t 1 &  TRUE &  43 & 0.7413793\\\\\n",
       "\t 2 & FALSE &   2 & 0.2857143\\\\\n",
       "\t 2 &  TRUE &   5 & 0.7142857\\\\\n",
       "\t 3 &  TRUE &   1 & 1.0000000\\\\\n",
       "\t 4 & FALSE &   1 & 0.2500000\\\\\n",
       "\t 4 &  TRUE &   3 & 0.7500000\\\\\n",
       "\t 5 &  TRUE &   4 & 1.0000000\\\\\n",
       "\\end{tabular}\n"
      ],
      "text/markdown": [
       "\n",
       "A grouped_df: 10 × 4\n",
       "\n",
       "| Number0fSiblings &lt;dbl&gt; | Survived == .pred_class &lt;lgl&gt; | count &lt;int&gt; | prop &lt;dbl&gt; |\n",
       "|---|---|---|---|\n",
       "| 0 | FALSE |  24 | 0.1702128 |\n",
       "| 0 |  TRUE | 117 | 0.8297872 |\n",
       "| 1 | FALSE |  15 | 0.2586207 |\n",
       "| 1 |  TRUE |  43 | 0.7413793 |\n",
       "| 2 | FALSE |   2 | 0.2857143 |\n",
       "| 2 |  TRUE |   5 | 0.7142857 |\n",
       "| 3 |  TRUE |   1 | 1.0000000 |\n",
       "| 4 | FALSE |   1 | 0.2500000 |\n",
       "| 4 |  TRUE |   3 | 0.7500000 |\n",
       "| 5 |  TRUE |   4 | 1.0000000 |\n",
       "\n"
      ],
      "text/plain": [
       "   Number0fSiblings Survived == .pred_class count prop     \n",
       "1  0                FALSE                    24   0.1702128\n",
       "2  0                 TRUE                   117   0.8297872\n",
       "3  1                FALSE                    15   0.2586207\n",
       "4  1                 TRUE                    43   0.7413793\n",
       "5  2                FALSE                     2   0.2857143\n",
       "6  2                 TRUE                     5   0.7142857\n",
       "7  3                 TRUE                     1   1.0000000\n",
       "8  4                FALSE                     1   0.2500000\n",
       "9  4                 TRUE                     3   0.7500000\n",
       "10 5                 TRUE                     4   1.0000000"
      ]
     },
     "metadata": {},
     "output_type": "display_data"
    }
   ],
   "source": [
    "predictions %>%\n",
    "group_by(Number0fSiblings, Survived == .pred_class) %>%\n",
    "summarize(count = n()) %>%\n",
    "mutate(prop = count/sum(count))"
   ]
  },
  {
   "cell_type": "markdown",
   "id": "f0f67508-cf7e-4f95-86a9-9ea2db0323ad",
   "metadata": {},
   "source": [
    "## Final Analysis of our Model"
   ]
  },
  {
   "cell_type": "markdown",
   "id": "4abe63c1-5b2f-4364-bf0f-a2fc32df2dd3",
   "metadata": {},
   "source": [
    "## Discussion"
   ]
  },
  {
   "cell_type": "markdown",
   "id": "8e8df029-ed2a-4b5f-b7c6-d2a7e19bb2be",
   "metadata": {},
   "source": [
    "## References"
   ]
  },
  {
   "cell_type": "code",
   "execution_count": null,
   "id": "ce7f193e-fe10-49e6-b11b-50e54e40b87c",
   "metadata": {},
   "outputs": [],
   "source": []
  }
 ],
 "metadata": {
  "kernelspec": {
   "display_name": "R",
   "language": "R",
   "name": "ir"
  },
  "language_info": {
   "codemirror_mode": "r",
   "file_extension": ".r",
   "mimetype": "text/x-r-source",
   "name": "R",
   "pygments_lexer": "r",
   "version": "4.1.3"
  }
 },
 "nbformat": 4,
 "nbformat_minor": 5
}
