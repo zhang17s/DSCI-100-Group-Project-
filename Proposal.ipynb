{
 "cells": [
  {
   "cell_type": "markdown",
   "id": "b96f19f5-a26b-4f82-bf3d-a976fe786abd",
   "metadata": {},
   "source": [
    "**Titanic Project Proposal: Will a Passenger Survive?** \n",
    "\n",
    "Group 33 Members: Chloe Vaughan, Susan Zhang, James Drover, Olivia Klassen, and Adeeb Khan"
   ]
  },
  {
   "cell_type": "markdown",
   "id": "8517e20a-a202-4f2b-ab74-df592371821e",
   "metadata": {},
   "source": [
    "**Introduction**\n",
    "\n",
    "The RMS Titanic sank 5 days into her first trip in the Atlantic Ocean. Less than half of the passengers survived, and many factors contributed to their survival or demise. In this project, we will read, wrangle, and classify the titanic dataset in order to predict if a given passenger would have died in the accident. We will create visualizations to illustrate which variables may have played the biggest role in the survival of passengers and crew. \n",
    "\n",
    "[The Titanic dataset](https://www.kaggle.com/competitions/titanic/data?select=train.csv) was obtained by Kaggle. The original dataset included the following columns: survival (survived), ticket class (pclass), name of passenger (name), sex, age (in years), number of siblings/spouses aboard the Titanic (sibsp), number of parents/children aboard the Titanic (parch), ticket number (ticket), and passenger fare (fare). \n",
    "\n",
    "**Question**: Will a given passenger survive the incident, given the observations for each predictor variable? \n",
    "We’ll use the predictors outlined in Methods to predict a passenger's survival status (survived or passed), for new observations based on the K-nearest neighbours model."
   ]
  },
  {
   "cell_type": "markdown",
   "id": "d813e964-6f04-4e5f-ab42-7ec761458bc5",
   "metadata": {},
   "source": [
    "**Methods**\n",
    "\n",
    "The Titanic dataset will be cleaned and wrangled into a tidy format, in which the following variables will be omitted: passenger ID, name, embarked, ticket. These variables likely have no effect on classification as they are all titles with little bearing on real world events. Cabin number was omitted due to an overwhelming number of NA values. As well, all rows within this new set that have N/A as a value will be removed, and labels renamed to be human readable.\n",
    "\n",
    "Survival, Class, Sex, Age, Number of Siblings on the Ship, Number of Parents/Children on the Ship, and fare will be used as variables for analysis. We will visualize the data using different types of visualizations to determine the impact of each on survival. Those with negligible impact on survival may be omitted from the prediction recipe, then the data will be trained to predict if a given passenger will survive."
   ]
  },
  {
   "cell_type": "markdown",
   "id": "428e261c-ba2c-46c0-b291-25235dbee791",
   "metadata": {},
   "source": [
    "**Expected Outcomes and Significance**\n",
    "\n",
    "We expect to be able to predict weather a given passenger survived or not based on the given observations.\n",
    "\n",
    "We anticipate sex and age to be the most important predictors of survival because women and children were presumably given priority in lifeboats at the time. Due to decreased physical fitness, those over the age of 50 are prone to more casualties. It is also believed that passengers who paid a larger fee will have a higher chance of surviving because wealthier customers were probably given priority while boarding lifeboats, as opposed to poor passengers, whose lives were given less consideration at the time.\n",
    "\n",
    "The significance of our findings will provide quantitative support for the hierarchy in which passengers were prioritized for leaving the Titanic. This analysis allows better understanding of the political environment during which the Titanic sank, and how this impacted the lives of those onboard. It is important to present and analyze this data so that we can think about how we might prioritize lives if a similar event were to occur.  How was the lifeboat distribution prioritzied, and was it fair? Would we do things differently now, seeing as we have evolved towards equity as a society?  \n"
   ]
  },
  {
   "cell_type": "markdown",
   "id": "e213ef6e-5997-4e67-8940-16d51ae66d14",
   "metadata": {},
   "source": [
    "**Preliminary Exploratory Data Analysis Below**"
   ]
  },
  {
   "cell_type": "code",
   "execution_count": 1,
   "id": "74e4ce29-21f7-46c6-ae4f-aa966280d53b",
   "metadata": {},
   "outputs": [
    {
     "name": "stderr",
     "output_type": "stream",
     "text": [
      "Updating HTML index of packages in '.Library'\n",
      "\n",
      "Making 'packages.html' ...\n",
      " done\n",
      "\n",
      "Loading required package: recipes\n",
      "\n",
      "Loading required package: dplyr\n",
      "\n",
      "\n",
      "Attaching package: ‘dplyr’\n",
      "\n",
      "\n",
      "The following objects are masked from ‘package:stats’:\n",
      "\n",
      "    filter, lag\n",
      "\n",
      "\n",
      "The following objects are masked from ‘package:base’:\n",
      "\n",
      "    intersect, setdiff, setequal, union\n",
      "\n",
      "\n",
      "\n",
      "Attaching package: ‘recipes’\n",
      "\n",
      "\n",
      "The following object is masked from ‘package:stats’:\n",
      "\n",
      "    step\n",
      "\n",
      "\n"
     ]
    }
   ],
   "source": [
    "install.packages('themis')\n",
    "library(themis)"
   ]
  },
  {
   "cell_type": "code",
   "execution_count": 2,
   "id": "057a12c5-bf31-4bf9-87e0-b11e626be7e1",
   "metadata": {},
   "outputs": [
    {
     "name": "stderr",
     "output_type": "stream",
     "text": [
      "── \u001b[1mAttaching packages\u001b[22m ─────────────────────────────────────── tidyverse 1.3.1 ──\n",
      "\n",
      "\u001b[32m✔\u001b[39m \u001b[34mggplot2\u001b[39m 3.3.6     \u001b[32m✔\u001b[39m \u001b[34mpurrr  \u001b[39m 0.3.4\n",
      "\u001b[32m✔\u001b[39m \u001b[34mtibble \u001b[39m 3.1.7     \u001b[32m✔\u001b[39m \u001b[34mstringr\u001b[39m 1.4.0\n",
      "\u001b[32m✔\u001b[39m \u001b[34mtidyr  \u001b[39m 1.2.0     \u001b[32m✔\u001b[39m \u001b[34mforcats\u001b[39m 0.5.1\n",
      "\u001b[32m✔\u001b[39m \u001b[34mreadr  \u001b[39m 2.1.2     \n",
      "\n",
      "── \u001b[1mConflicts\u001b[22m ────────────────────────────────────────── tidyverse_conflicts() ──\n",
      "\u001b[31m✖\u001b[39m \u001b[34mdplyr\u001b[39m::\u001b[32mfilter()\u001b[39m  masks \u001b[34mstats\u001b[39m::filter()\n",
      "\u001b[31m✖\u001b[39m \u001b[34mstringr\u001b[39m::\u001b[32mfixed()\u001b[39m masks \u001b[34mrecipes\u001b[39m::fixed()\n",
      "\u001b[31m✖\u001b[39m \u001b[34mdplyr\u001b[39m::\u001b[32mlag()\u001b[39m     masks \u001b[34mstats\u001b[39m::lag()\n",
      "\n",
      "── \u001b[1mAttaching packages\u001b[22m ────────────────────────────────────── tidymodels 1.0.0 ──\n",
      "\n",
      "\u001b[32m✔\u001b[39m \u001b[34mbroom       \u001b[39m 1.0.0     \u001b[32m✔\u001b[39m \u001b[34mrsample     \u001b[39m 1.0.0\n",
      "\u001b[32m✔\u001b[39m \u001b[34mdials       \u001b[39m 1.0.0     \u001b[32m✔\u001b[39m \u001b[34mtune        \u001b[39m 1.0.0\n",
      "\u001b[32m✔\u001b[39m \u001b[34minfer       \u001b[39m 1.0.2     \u001b[32m✔\u001b[39m \u001b[34mworkflows   \u001b[39m 1.0.0\n",
      "\u001b[32m✔\u001b[39m \u001b[34mmodeldata   \u001b[39m 1.0.0     \u001b[32m✔\u001b[39m \u001b[34mworkflowsets\u001b[39m 1.0.0\n",
      "\u001b[32m✔\u001b[39m \u001b[34mparsnip     \u001b[39m 1.0.0     \u001b[32m✔\u001b[39m \u001b[34myardstick   \u001b[39m 1.0.0\n",
      "\n",
      "── \u001b[1mConflicts\u001b[22m ───────────────────────────────────────── tidymodels_conflicts() ──\n",
      "\u001b[31m✖\u001b[39m \u001b[34mscales\u001b[39m::\u001b[32mdiscard()\u001b[39m masks \u001b[34mpurrr\u001b[39m::discard()\n",
      "\u001b[31m✖\u001b[39m \u001b[34mdplyr\u001b[39m::\u001b[32mfilter()\u001b[39m   masks \u001b[34mstats\u001b[39m::filter()\n",
      "\u001b[31m✖\u001b[39m \u001b[34mstringr\u001b[39m::\u001b[32mfixed()\u001b[39m  masks \u001b[34mrecipes\u001b[39m::fixed()\n",
      "\u001b[31m✖\u001b[39m \u001b[34mdplyr\u001b[39m::\u001b[32mlag()\u001b[39m      masks \u001b[34mstats\u001b[39m::lag()\n",
      "\u001b[31m✖\u001b[39m \u001b[34myardstick\u001b[39m::\u001b[32mspec()\u001b[39m masks \u001b[34mreadr\u001b[39m::spec()\n",
      "\u001b[31m✖\u001b[39m \u001b[34mrecipes\u001b[39m::\u001b[32mstep()\u001b[39m   masks \u001b[34mstats\u001b[39m::step()\n",
      "\u001b[34m•\u001b[39m Search for functions across packages at \u001b[32mhttps://www.tidymodels.org/find/\u001b[39m\n",
      "\n"
     ]
    }
   ],
   "source": [
    "#necessary libraries to install\n",
    "library(tidyverse)\n",
    "library(tidymodels)\n"
   ]
  },
  {
   "cell_type": "code",
   "execution_count": 3,
   "id": "dfee76a6-c6d1-476a-8ee5-ed216319be55",
   "metadata": {},
   "outputs": [],
   "source": [
    "library(dplyr)"
   ]
  },
  {
   "cell_type": "code",
   "execution_count": 4,
   "id": "e924fa88-07be-4a10-a88f-e58ab43cb3ea",
   "metadata": {},
   "outputs": [
    {
     "name": "stderr",
     "output_type": "stream",
     "text": [
      "\u001b[1mRows: \u001b[22m\u001b[34m891\u001b[39m \u001b[1mColumns: \u001b[22m\u001b[34m12\u001b[39m\n",
      "\u001b[36m──\u001b[39m \u001b[1mColumn specification\u001b[22m \u001b[36m────────────────────────────────────────────────────────\u001b[39m\n",
      "\u001b[1mDelimiter:\u001b[22m \",\"\n",
      "\u001b[31mchr\u001b[39m (5): Name, Sex, Ticket, Cabin, Embarked\n",
      "\u001b[32mdbl\u001b[39m (7): PassengerId, Survived, Pclass, Age, SibSp, Parch, Fare\n",
      "\n",
      "\u001b[36mℹ\u001b[39m Use `spec()` to retrieve the full column specification for this data.\n",
      "\u001b[36mℹ\u001b[39m Specify the column types or set `show_col_types = FALSE` to quiet this message.\n"
     ]
    },
    {
     "data": {
      "text/html": [
       "<table class=\"dataframe\">\n",
       "<caption>A spec_tbl_df: 891 × 12</caption>\n",
       "<thead>\n",
       "\t<tr><th scope=col>PassengerId</th><th scope=col>Survived</th><th scope=col>Pclass</th><th scope=col>Name</th><th scope=col>Sex</th><th scope=col>Age</th><th scope=col>SibSp</th><th scope=col>Parch</th><th scope=col>Ticket</th><th scope=col>Fare</th><th scope=col>Cabin</th><th scope=col>Embarked</th></tr>\n",
       "\t<tr><th scope=col>&lt;dbl&gt;</th><th scope=col>&lt;dbl&gt;</th><th scope=col>&lt;dbl&gt;</th><th scope=col>&lt;chr&gt;</th><th scope=col>&lt;chr&gt;</th><th scope=col>&lt;dbl&gt;</th><th scope=col>&lt;dbl&gt;</th><th scope=col>&lt;dbl&gt;</th><th scope=col>&lt;chr&gt;</th><th scope=col>&lt;dbl&gt;</th><th scope=col>&lt;chr&gt;</th><th scope=col>&lt;chr&gt;</th></tr>\n",
       "</thead>\n",
       "<tbody>\n",
       "\t<tr><td> 1</td><td>0</td><td>3</td><td>Braund, Mr. Owen Harris                                  </td><td>male  </td><td>22</td><td>1</td><td>0</td><td>A/5 21171       </td><td>  7.2500</td><td>NA         </td><td>S</td></tr>\n",
       "\t<tr><td> 2</td><td>1</td><td>1</td><td>Cumings, Mrs. John Bradley (Florence Briggs Thayer)      </td><td>female</td><td>38</td><td>1</td><td>0</td><td>PC 17599        </td><td> 71.2833</td><td>C85        </td><td>C</td></tr>\n",
       "\t<tr><td> 3</td><td>1</td><td>3</td><td>Heikkinen, Miss. Laina                                   </td><td>female</td><td>26</td><td>0</td><td>0</td><td>STON/O2. 3101282</td><td>  7.9250</td><td>NA         </td><td>S</td></tr>\n",
       "\t<tr><td> 4</td><td>1</td><td>1</td><td>Futrelle, Mrs. Jacques Heath (Lily May Peel)             </td><td>female</td><td>35</td><td>1</td><td>0</td><td>113803          </td><td> 53.1000</td><td>C123       </td><td>S</td></tr>\n",
       "\t<tr><td> 5</td><td>0</td><td>3</td><td>Allen, Mr. William Henry                                 </td><td>male  </td><td>35</td><td>0</td><td>0</td><td>373450          </td><td>  8.0500</td><td>NA         </td><td>S</td></tr>\n",
       "\t<tr><td> 6</td><td>0</td><td>3</td><td>Moran, Mr. James                                         </td><td>male  </td><td>NA</td><td>0</td><td>0</td><td>330877          </td><td>  8.4583</td><td>NA         </td><td>Q</td></tr>\n",
       "\t<tr><td> 7</td><td>0</td><td>1</td><td>McCarthy, Mr. Timothy J                                  </td><td>male  </td><td>54</td><td>0</td><td>0</td><td>17463           </td><td> 51.8625</td><td>E46        </td><td>S</td></tr>\n",
       "\t<tr><td> 8</td><td>0</td><td>3</td><td>Palsson, Master. Gosta Leonard                           </td><td>male  </td><td> 2</td><td>3</td><td>1</td><td>349909          </td><td> 21.0750</td><td>NA         </td><td>S</td></tr>\n",
       "\t<tr><td> 9</td><td>1</td><td>3</td><td>Johnson, Mrs. Oscar W (Elisabeth Vilhelmina Berg)        </td><td>female</td><td>27</td><td>0</td><td>2</td><td>347742          </td><td> 11.1333</td><td>NA         </td><td>S</td></tr>\n",
       "\t<tr><td>10</td><td>1</td><td>2</td><td>Nasser, Mrs. Nicholas (Adele Achem)                      </td><td>female</td><td>14</td><td>1</td><td>0</td><td>237736          </td><td> 30.0708</td><td>NA         </td><td>C</td></tr>\n",
       "\t<tr><td>11</td><td>1</td><td>3</td><td>Sandstrom, Miss. Marguerite Rut                          </td><td>female</td><td> 4</td><td>1</td><td>1</td><td>PP 9549         </td><td> 16.7000</td><td>G6         </td><td>S</td></tr>\n",
       "\t<tr><td>12</td><td>1</td><td>1</td><td>Bonnell, Miss. Elizabeth                                 </td><td>female</td><td>58</td><td>0</td><td>0</td><td>113783          </td><td> 26.5500</td><td>C103       </td><td>S</td></tr>\n",
       "\t<tr><td>13</td><td>0</td><td>3</td><td>Saundercock, Mr. William Henry                           </td><td>male  </td><td>20</td><td>0</td><td>0</td><td>A/5. 2151       </td><td>  8.0500</td><td>NA         </td><td>S</td></tr>\n",
       "\t<tr><td>14</td><td>0</td><td>3</td><td>Andersson, Mr. Anders Johan                              </td><td>male  </td><td>39</td><td>1</td><td>5</td><td>347082          </td><td> 31.2750</td><td>NA         </td><td>S</td></tr>\n",
       "\t<tr><td>15</td><td>0</td><td>3</td><td>Vestrom, Miss. Hulda Amanda Adolfina                     </td><td>female</td><td>14</td><td>0</td><td>0</td><td>350406          </td><td>  7.8542</td><td>NA         </td><td>S</td></tr>\n",
       "\t<tr><td>16</td><td>1</td><td>2</td><td>Hewlett, Mrs. (Mary D Kingcome)                          </td><td>female</td><td>55</td><td>0</td><td>0</td><td>248706          </td><td> 16.0000</td><td>NA         </td><td>S</td></tr>\n",
       "\t<tr><td>17</td><td>0</td><td>3</td><td>Rice, Master. Eugene                                     </td><td>male  </td><td> 2</td><td>4</td><td>1</td><td>382652          </td><td> 29.1250</td><td>NA         </td><td>Q</td></tr>\n",
       "\t<tr><td>18</td><td>1</td><td>2</td><td>Williams, Mr. Charles Eugene                             </td><td>male  </td><td>NA</td><td>0</td><td>0</td><td>244373          </td><td> 13.0000</td><td>NA         </td><td>S</td></tr>\n",
       "\t<tr><td>19</td><td>0</td><td>3</td><td>Vander Planke, Mrs. Julius (Emelia Maria Vandemoortele)  </td><td>female</td><td>31</td><td>1</td><td>0</td><td>345763          </td><td> 18.0000</td><td>NA         </td><td>S</td></tr>\n",
       "\t<tr><td>20</td><td>1</td><td>3</td><td>Masselmani, Mrs. Fatima                                  </td><td>female</td><td>NA</td><td>0</td><td>0</td><td>2649            </td><td>  7.2250</td><td>NA         </td><td>C</td></tr>\n",
       "\t<tr><td>21</td><td>0</td><td>2</td><td>Fynney, Mr. Joseph J                                     </td><td>male  </td><td>35</td><td>0</td><td>0</td><td>239865          </td><td> 26.0000</td><td>NA         </td><td>S</td></tr>\n",
       "\t<tr><td>22</td><td>1</td><td>2</td><td>Beesley, Mr. Lawrence                                    </td><td>male  </td><td>34</td><td>0</td><td>0</td><td>248698          </td><td> 13.0000</td><td>D56        </td><td>S</td></tr>\n",
       "\t<tr><td>23</td><td>1</td><td>3</td><td>McGowan, Miss. Anna \"Annie\"                              </td><td>female</td><td>15</td><td>0</td><td>0</td><td>330923          </td><td>  8.0292</td><td>NA         </td><td>Q</td></tr>\n",
       "\t<tr><td>24</td><td>1</td><td>1</td><td>Sloper, Mr. William Thompson                             </td><td>male  </td><td>28</td><td>0</td><td>0</td><td>113788          </td><td> 35.5000</td><td>A6         </td><td>S</td></tr>\n",
       "\t<tr><td>25</td><td>0</td><td>3</td><td>Palsson, Miss. Torborg Danira                            </td><td>female</td><td> 8</td><td>3</td><td>1</td><td>349909          </td><td> 21.0750</td><td>NA         </td><td>S</td></tr>\n",
       "\t<tr><td>26</td><td>1</td><td>3</td><td>Asplund, Mrs. Carl Oscar (Selma Augusta Emilia Johansson)</td><td>female</td><td>38</td><td>1</td><td>5</td><td>347077          </td><td> 31.3875</td><td>NA         </td><td>S</td></tr>\n",
       "\t<tr><td>27</td><td>0</td><td>3</td><td>Emir, Mr. Farred Chehab                                  </td><td>male  </td><td>NA</td><td>0</td><td>0</td><td>2631            </td><td>  7.2250</td><td>NA         </td><td>C</td></tr>\n",
       "\t<tr><td>28</td><td>0</td><td>1</td><td>Fortune, Mr. Charles Alexander                           </td><td>male  </td><td>19</td><td>3</td><td>2</td><td>19950           </td><td>263.0000</td><td>C23 C25 C27</td><td>S</td></tr>\n",
       "\t<tr><td>29</td><td>1</td><td>3</td><td>O'Dwyer, Miss. Ellen \"Nellie\"                            </td><td>female</td><td>NA</td><td>0</td><td>0</td><td>330959          </td><td>  7.8792</td><td>NA         </td><td>Q</td></tr>\n",
       "\t<tr><td>30</td><td>0</td><td>3</td><td>Todoroff, Mr. Lalio                                      </td><td>male  </td><td>NA</td><td>0</td><td>0</td><td>349216          </td><td>  7.8958</td><td>NA         </td><td>S</td></tr>\n",
       "\t<tr><td>⋮</td><td>⋮</td><td>⋮</td><td>⋮</td><td>⋮</td><td>⋮</td><td>⋮</td><td>⋮</td><td>⋮</td><td>⋮</td><td>⋮</td><td>⋮</td></tr>\n",
       "\t<tr><td>862</td><td>0</td><td>2</td><td>Giles, Mr. Frederick Edward                        </td><td>male  </td><td>21</td><td>1</td><td>0</td><td>28134           </td><td>11.5000</td><td>NA         </td><td>S</td></tr>\n",
       "\t<tr><td>863</td><td>1</td><td>1</td><td>Swift, Mrs. Frederick Joel (Margaret Welles Barron)</td><td>female</td><td>48</td><td>0</td><td>0</td><td>17466           </td><td>25.9292</td><td>D17        </td><td>S</td></tr>\n",
       "\t<tr><td>864</td><td>0</td><td>3</td><td>Sage, Miss. Dorothy Edith \"Dolly\"                  </td><td>female</td><td>NA</td><td>8</td><td>2</td><td>CA. 2343        </td><td>69.5500</td><td>NA         </td><td>S</td></tr>\n",
       "\t<tr><td>865</td><td>0</td><td>2</td><td>Gill, Mr. John William                             </td><td>male  </td><td>24</td><td>0</td><td>0</td><td>233866          </td><td>13.0000</td><td>NA         </td><td>S</td></tr>\n",
       "\t<tr><td>866</td><td>1</td><td>2</td><td>Bystrom, Mrs. (Karolina)                           </td><td>female</td><td>42</td><td>0</td><td>0</td><td>236852          </td><td>13.0000</td><td>NA         </td><td>S</td></tr>\n",
       "\t<tr><td>867</td><td>1</td><td>2</td><td>Duran y More, Miss. Asuncion                       </td><td>female</td><td>27</td><td>1</td><td>0</td><td>SC/PARIS 2149   </td><td>13.8583</td><td>NA         </td><td>C</td></tr>\n",
       "\t<tr><td>868</td><td>0</td><td>1</td><td>Roebling, Mr. Washington Augustus II               </td><td>male  </td><td>31</td><td>0</td><td>0</td><td>PC 17590        </td><td>50.4958</td><td>A24        </td><td>S</td></tr>\n",
       "\t<tr><td>869</td><td>0</td><td>3</td><td>van Melkebeke, Mr. Philemon                        </td><td>male  </td><td>NA</td><td>0</td><td>0</td><td>345777          </td><td> 9.5000</td><td>NA         </td><td>S</td></tr>\n",
       "\t<tr><td>870</td><td>1</td><td>3</td><td>Johnson, Master. Harold Theodor                    </td><td>male  </td><td> 4</td><td>1</td><td>1</td><td>347742          </td><td>11.1333</td><td>NA         </td><td>S</td></tr>\n",
       "\t<tr><td>871</td><td>0</td><td>3</td><td>Balkic, Mr. Cerin                                  </td><td>male  </td><td>26</td><td>0</td><td>0</td><td>349248          </td><td> 7.8958</td><td>NA         </td><td>S</td></tr>\n",
       "\t<tr><td>872</td><td>1</td><td>1</td><td>Beckwith, Mrs. Richard Leonard (Sallie Monypeny)   </td><td>female</td><td>47</td><td>1</td><td>1</td><td>11751           </td><td>52.5542</td><td>D35        </td><td>S</td></tr>\n",
       "\t<tr><td>873</td><td>0</td><td>1</td><td>Carlsson, Mr. Frans Olof                           </td><td>male  </td><td>33</td><td>0</td><td>0</td><td>695             </td><td> 5.0000</td><td>B51 B53 B55</td><td>S</td></tr>\n",
       "\t<tr><td>874</td><td>0</td><td>3</td><td>Vander Cruyssen, Mr. Victor                        </td><td>male  </td><td>47</td><td>0</td><td>0</td><td>345765          </td><td> 9.0000</td><td>NA         </td><td>S</td></tr>\n",
       "\t<tr><td>875</td><td>1</td><td>2</td><td>Abelson, Mrs. Samuel (Hannah Wizosky)              </td><td>female</td><td>28</td><td>1</td><td>0</td><td>P/PP 3381       </td><td>24.0000</td><td>NA         </td><td>C</td></tr>\n",
       "\t<tr><td>876</td><td>1</td><td>3</td><td>Najib, Miss. Adele Kiamie \"Jane\"                   </td><td>female</td><td>15</td><td>0</td><td>0</td><td>2667            </td><td> 7.2250</td><td>NA         </td><td>C</td></tr>\n",
       "\t<tr><td>877</td><td>0</td><td>3</td><td>Gustafsson, Mr. Alfred Ossian                      </td><td>male  </td><td>20</td><td>0</td><td>0</td><td>7534            </td><td> 9.8458</td><td>NA         </td><td>S</td></tr>\n",
       "\t<tr><td>878</td><td>0</td><td>3</td><td>Petroff, Mr. Nedelio                               </td><td>male  </td><td>19</td><td>0</td><td>0</td><td>349212          </td><td> 7.8958</td><td>NA         </td><td>S</td></tr>\n",
       "\t<tr><td>879</td><td>0</td><td>3</td><td>Laleff, Mr. Kristo                                 </td><td>male  </td><td>NA</td><td>0</td><td>0</td><td>349217          </td><td> 7.8958</td><td>NA         </td><td>S</td></tr>\n",
       "\t<tr><td>880</td><td>1</td><td>1</td><td>Potter, Mrs. Thomas Jr (Lily Alexenia Wilson)      </td><td>female</td><td>56</td><td>0</td><td>1</td><td>11767           </td><td>83.1583</td><td>C50        </td><td>C</td></tr>\n",
       "\t<tr><td>881</td><td>1</td><td>2</td><td>Shelley, Mrs. William (Imanita Parrish Hall)       </td><td>female</td><td>25</td><td>0</td><td>1</td><td>230433          </td><td>26.0000</td><td>NA         </td><td>S</td></tr>\n",
       "\t<tr><td>882</td><td>0</td><td>3</td><td>Markun, Mr. Johann                                 </td><td>male  </td><td>33</td><td>0</td><td>0</td><td>349257          </td><td> 7.8958</td><td>NA         </td><td>S</td></tr>\n",
       "\t<tr><td>883</td><td>0</td><td>3</td><td>Dahlberg, Miss. Gerda Ulrika                       </td><td>female</td><td>22</td><td>0</td><td>0</td><td>7552            </td><td>10.5167</td><td>NA         </td><td>S</td></tr>\n",
       "\t<tr><td>884</td><td>0</td><td>2</td><td>Banfield, Mr. Frederick James                      </td><td>male  </td><td>28</td><td>0</td><td>0</td><td>C.A./SOTON 34068</td><td>10.5000</td><td>NA         </td><td>S</td></tr>\n",
       "\t<tr><td>885</td><td>0</td><td>3</td><td>Sutehall, Mr. Henry Jr                             </td><td>male  </td><td>25</td><td>0</td><td>0</td><td>SOTON/OQ 392076 </td><td> 7.0500</td><td>NA         </td><td>S</td></tr>\n",
       "\t<tr><td>886</td><td>0</td><td>3</td><td>Rice, Mrs. William (Margaret Norton)               </td><td>female</td><td>39</td><td>0</td><td>5</td><td>382652          </td><td>29.1250</td><td>NA         </td><td>Q</td></tr>\n",
       "\t<tr><td>887</td><td>0</td><td>2</td><td>Montvila, Rev. Juozas                              </td><td>male  </td><td>27</td><td>0</td><td>0</td><td>211536          </td><td>13.0000</td><td>NA         </td><td>S</td></tr>\n",
       "\t<tr><td>888</td><td>1</td><td>1</td><td>Graham, Miss. Margaret Edith                       </td><td>female</td><td>19</td><td>0</td><td>0</td><td>112053          </td><td>30.0000</td><td>B42        </td><td>S</td></tr>\n",
       "\t<tr><td>889</td><td>0</td><td>3</td><td>Johnston, Miss. Catherine Helen \"Carrie\"           </td><td>female</td><td>NA</td><td>1</td><td>2</td><td>W./C. 6607      </td><td>23.4500</td><td>NA         </td><td>S</td></tr>\n",
       "\t<tr><td>890</td><td>1</td><td>1</td><td>Behr, Mr. Karl Howell                              </td><td>male  </td><td>26</td><td>0</td><td>0</td><td>111369          </td><td>30.0000</td><td>C148       </td><td>C</td></tr>\n",
       "\t<tr><td>891</td><td>0</td><td>3</td><td>Dooley, Mr. Patrick                                </td><td>male  </td><td>32</td><td>0</td><td>0</td><td>370376          </td><td> 7.7500</td><td>NA         </td><td>Q</td></tr>\n",
       "</tbody>\n",
       "</table>\n"
      ],
      "text/latex": [
       "A spec\\_tbl\\_df: 891 × 12\n",
       "\\begin{tabular}{llllllllllll}\n",
       " PassengerId & Survived & Pclass & Name & Sex & Age & SibSp & Parch & Ticket & Fare & Cabin & Embarked\\\\\n",
       " <dbl> & <dbl> & <dbl> & <chr> & <chr> & <dbl> & <dbl> & <dbl> & <chr> & <dbl> & <chr> & <chr>\\\\\n",
       "\\hline\n",
       "\t  1 & 0 & 3 & Braund, Mr. Owen Harris                                   & male   & 22 & 1 & 0 & A/5 21171        &   7.2500 & NA          & S\\\\\n",
       "\t  2 & 1 & 1 & Cumings, Mrs. John Bradley (Florence Briggs Thayer)       & female & 38 & 1 & 0 & PC 17599         &  71.2833 & C85         & C\\\\\n",
       "\t  3 & 1 & 3 & Heikkinen, Miss. Laina                                    & female & 26 & 0 & 0 & STON/O2. 3101282 &   7.9250 & NA          & S\\\\\n",
       "\t  4 & 1 & 1 & Futrelle, Mrs. Jacques Heath (Lily May Peel)              & female & 35 & 1 & 0 & 113803           &  53.1000 & C123        & S\\\\\n",
       "\t  5 & 0 & 3 & Allen, Mr. William Henry                                  & male   & 35 & 0 & 0 & 373450           &   8.0500 & NA          & S\\\\\n",
       "\t  6 & 0 & 3 & Moran, Mr. James                                          & male   & NA & 0 & 0 & 330877           &   8.4583 & NA          & Q\\\\\n",
       "\t  7 & 0 & 1 & McCarthy, Mr. Timothy J                                   & male   & 54 & 0 & 0 & 17463            &  51.8625 & E46         & S\\\\\n",
       "\t  8 & 0 & 3 & Palsson, Master. Gosta Leonard                            & male   &  2 & 3 & 1 & 349909           &  21.0750 & NA          & S\\\\\n",
       "\t  9 & 1 & 3 & Johnson, Mrs. Oscar W (Elisabeth Vilhelmina Berg)         & female & 27 & 0 & 2 & 347742           &  11.1333 & NA          & S\\\\\n",
       "\t 10 & 1 & 2 & Nasser, Mrs. Nicholas (Adele Achem)                       & female & 14 & 1 & 0 & 237736           &  30.0708 & NA          & C\\\\\n",
       "\t 11 & 1 & 3 & Sandstrom, Miss. Marguerite Rut                           & female &  4 & 1 & 1 & PP 9549          &  16.7000 & G6          & S\\\\\n",
       "\t 12 & 1 & 1 & Bonnell, Miss. Elizabeth                                  & female & 58 & 0 & 0 & 113783           &  26.5500 & C103        & S\\\\\n",
       "\t 13 & 0 & 3 & Saundercock, Mr. William Henry                            & male   & 20 & 0 & 0 & A/5. 2151        &   8.0500 & NA          & S\\\\\n",
       "\t 14 & 0 & 3 & Andersson, Mr. Anders Johan                               & male   & 39 & 1 & 5 & 347082           &  31.2750 & NA          & S\\\\\n",
       "\t 15 & 0 & 3 & Vestrom, Miss. Hulda Amanda Adolfina                      & female & 14 & 0 & 0 & 350406           &   7.8542 & NA          & S\\\\\n",
       "\t 16 & 1 & 2 & Hewlett, Mrs. (Mary D Kingcome)                           & female & 55 & 0 & 0 & 248706           &  16.0000 & NA          & S\\\\\n",
       "\t 17 & 0 & 3 & Rice, Master. Eugene                                      & male   &  2 & 4 & 1 & 382652           &  29.1250 & NA          & Q\\\\\n",
       "\t 18 & 1 & 2 & Williams, Mr. Charles Eugene                              & male   & NA & 0 & 0 & 244373           &  13.0000 & NA          & S\\\\\n",
       "\t 19 & 0 & 3 & Vander Planke, Mrs. Julius (Emelia Maria Vandemoortele)   & female & 31 & 1 & 0 & 345763           &  18.0000 & NA          & S\\\\\n",
       "\t 20 & 1 & 3 & Masselmani, Mrs. Fatima                                   & female & NA & 0 & 0 & 2649             &   7.2250 & NA          & C\\\\\n",
       "\t 21 & 0 & 2 & Fynney, Mr. Joseph J                                      & male   & 35 & 0 & 0 & 239865           &  26.0000 & NA          & S\\\\\n",
       "\t 22 & 1 & 2 & Beesley, Mr. Lawrence                                     & male   & 34 & 0 & 0 & 248698           &  13.0000 & D56         & S\\\\\n",
       "\t 23 & 1 & 3 & McGowan, Miss. Anna \"Annie\"                               & female & 15 & 0 & 0 & 330923           &   8.0292 & NA          & Q\\\\\n",
       "\t 24 & 1 & 1 & Sloper, Mr. William Thompson                              & male   & 28 & 0 & 0 & 113788           &  35.5000 & A6          & S\\\\\n",
       "\t 25 & 0 & 3 & Palsson, Miss. Torborg Danira                             & female &  8 & 3 & 1 & 349909           &  21.0750 & NA          & S\\\\\n",
       "\t 26 & 1 & 3 & Asplund, Mrs. Carl Oscar (Selma Augusta Emilia Johansson) & female & 38 & 1 & 5 & 347077           &  31.3875 & NA          & S\\\\\n",
       "\t 27 & 0 & 3 & Emir, Mr. Farred Chehab                                   & male   & NA & 0 & 0 & 2631             &   7.2250 & NA          & C\\\\\n",
       "\t 28 & 0 & 1 & Fortune, Mr. Charles Alexander                            & male   & 19 & 3 & 2 & 19950            & 263.0000 & C23 C25 C27 & S\\\\\n",
       "\t 29 & 1 & 3 & O'Dwyer, Miss. Ellen \"Nellie\"                             & female & NA & 0 & 0 & 330959           &   7.8792 & NA          & Q\\\\\n",
       "\t 30 & 0 & 3 & Todoroff, Mr. Lalio                                       & male   & NA & 0 & 0 & 349216           &   7.8958 & NA          & S\\\\\n",
       "\t ⋮ & ⋮ & ⋮ & ⋮ & ⋮ & ⋮ & ⋮ & ⋮ & ⋮ & ⋮ & ⋮ & ⋮\\\\\n",
       "\t 862 & 0 & 2 & Giles, Mr. Frederick Edward                         & male   & 21 & 1 & 0 & 28134            & 11.5000 & NA          & S\\\\\n",
       "\t 863 & 1 & 1 & Swift, Mrs. Frederick Joel (Margaret Welles Barron) & female & 48 & 0 & 0 & 17466            & 25.9292 & D17         & S\\\\\n",
       "\t 864 & 0 & 3 & Sage, Miss. Dorothy Edith \"Dolly\"                   & female & NA & 8 & 2 & CA. 2343         & 69.5500 & NA          & S\\\\\n",
       "\t 865 & 0 & 2 & Gill, Mr. John William                              & male   & 24 & 0 & 0 & 233866           & 13.0000 & NA          & S\\\\\n",
       "\t 866 & 1 & 2 & Bystrom, Mrs. (Karolina)                            & female & 42 & 0 & 0 & 236852           & 13.0000 & NA          & S\\\\\n",
       "\t 867 & 1 & 2 & Duran y More, Miss. Asuncion                        & female & 27 & 1 & 0 & SC/PARIS 2149    & 13.8583 & NA          & C\\\\\n",
       "\t 868 & 0 & 1 & Roebling, Mr. Washington Augustus II                & male   & 31 & 0 & 0 & PC 17590         & 50.4958 & A24         & S\\\\\n",
       "\t 869 & 0 & 3 & van Melkebeke, Mr. Philemon                         & male   & NA & 0 & 0 & 345777           &  9.5000 & NA          & S\\\\\n",
       "\t 870 & 1 & 3 & Johnson, Master. Harold Theodor                     & male   &  4 & 1 & 1 & 347742           & 11.1333 & NA          & S\\\\\n",
       "\t 871 & 0 & 3 & Balkic, Mr. Cerin                                   & male   & 26 & 0 & 0 & 349248           &  7.8958 & NA          & S\\\\\n",
       "\t 872 & 1 & 1 & Beckwith, Mrs. Richard Leonard (Sallie Monypeny)    & female & 47 & 1 & 1 & 11751            & 52.5542 & D35         & S\\\\\n",
       "\t 873 & 0 & 1 & Carlsson, Mr. Frans Olof                            & male   & 33 & 0 & 0 & 695              &  5.0000 & B51 B53 B55 & S\\\\\n",
       "\t 874 & 0 & 3 & Vander Cruyssen, Mr. Victor                         & male   & 47 & 0 & 0 & 345765           &  9.0000 & NA          & S\\\\\n",
       "\t 875 & 1 & 2 & Abelson, Mrs. Samuel (Hannah Wizosky)               & female & 28 & 1 & 0 & P/PP 3381        & 24.0000 & NA          & C\\\\\n",
       "\t 876 & 1 & 3 & Najib, Miss. Adele Kiamie \"Jane\"                    & female & 15 & 0 & 0 & 2667             &  7.2250 & NA          & C\\\\\n",
       "\t 877 & 0 & 3 & Gustafsson, Mr. Alfred Ossian                       & male   & 20 & 0 & 0 & 7534             &  9.8458 & NA          & S\\\\\n",
       "\t 878 & 0 & 3 & Petroff, Mr. Nedelio                                & male   & 19 & 0 & 0 & 349212           &  7.8958 & NA          & S\\\\\n",
       "\t 879 & 0 & 3 & Laleff, Mr. Kristo                                  & male   & NA & 0 & 0 & 349217           &  7.8958 & NA          & S\\\\\n",
       "\t 880 & 1 & 1 & Potter, Mrs. Thomas Jr (Lily Alexenia Wilson)       & female & 56 & 0 & 1 & 11767            & 83.1583 & C50         & C\\\\\n",
       "\t 881 & 1 & 2 & Shelley, Mrs. William (Imanita Parrish Hall)        & female & 25 & 0 & 1 & 230433           & 26.0000 & NA          & S\\\\\n",
       "\t 882 & 0 & 3 & Markun, Mr. Johann                                  & male   & 33 & 0 & 0 & 349257           &  7.8958 & NA          & S\\\\\n",
       "\t 883 & 0 & 3 & Dahlberg, Miss. Gerda Ulrika                        & female & 22 & 0 & 0 & 7552             & 10.5167 & NA          & S\\\\\n",
       "\t 884 & 0 & 2 & Banfield, Mr. Frederick James                       & male   & 28 & 0 & 0 & C.A./SOTON 34068 & 10.5000 & NA          & S\\\\\n",
       "\t 885 & 0 & 3 & Sutehall, Mr. Henry Jr                              & male   & 25 & 0 & 0 & SOTON/OQ 392076  &  7.0500 & NA          & S\\\\\n",
       "\t 886 & 0 & 3 & Rice, Mrs. William (Margaret Norton)                & female & 39 & 0 & 5 & 382652           & 29.1250 & NA          & Q\\\\\n",
       "\t 887 & 0 & 2 & Montvila, Rev. Juozas                               & male   & 27 & 0 & 0 & 211536           & 13.0000 & NA          & S\\\\\n",
       "\t 888 & 1 & 1 & Graham, Miss. Margaret Edith                        & female & 19 & 0 & 0 & 112053           & 30.0000 & B42         & S\\\\\n",
       "\t 889 & 0 & 3 & Johnston, Miss. Catherine Helen \"Carrie\"            & female & NA & 1 & 2 & W./C. 6607       & 23.4500 & NA          & S\\\\\n",
       "\t 890 & 1 & 1 & Behr, Mr. Karl Howell                               & male   & 26 & 0 & 0 & 111369           & 30.0000 & C148        & C\\\\\n",
       "\t 891 & 0 & 3 & Dooley, Mr. Patrick                                 & male   & 32 & 0 & 0 & 370376           &  7.7500 & NA          & Q\\\\\n",
       "\\end{tabular}\n"
      ],
      "text/markdown": [
       "\n",
       "A spec_tbl_df: 891 × 12\n",
       "\n",
       "| PassengerId &lt;dbl&gt; | Survived &lt;dbl&gt; | Pclass &lt;dbl&gt; | Name &lt;chr&gt; | Sex &lt;chr&gt; | Age &lt;dbl&gt; | SibSp &lt;dbl&gt; | Parch &lt;dbl&gt; | Ticket &lt;chr&gt; | Fare &lt;dbl&gt; | Cabin &lt;chr&gt; | Embarked &lt;chr&gt; |\n",
       "|---|---|---|---|---|---|---|---|---|---|---|---|\n",
       "|  1 | 0 | 3 | Braund, Mr. Owen Harris                                   | male   | 22 | 1 | 0 | A/5 21171        |   7.2500 | NA          | S |\n",
       "|  2 | 1 | 1 | Cumings, Mrs. John Bradley (Florence Briggs Thayer)       | female | 38 | 1 | 0 | PC 17599         |  71.2833 | C85         | C |\n",
       "|  3 | 1 | 3 | Heikkinen, Miss. Laina                                    | female | 26 | 0 | 0 | STON/O2. 3101282 |   7.9250 | NA          | S |\n",
       "|  4 | 1 | 1 | Futrelle, Mrs. Jacques Heath (Lily May Peel)              | female | 35 | 1 | 0 | 113803           |  53.1000 | C123        | S |\n",
       "|  5 | 0 | 3 | Allen, Mr. William Henry                                  | male   | 35 | 0 | 0 | 373450           |   8.0500 | NA          | S |\n",
       "|  6 | 0 | 3 | Moran, Mr. James                                          | male   | NA | 0 | 0 | 330877           |   8.4583 | NA          | Q |\n",
       "|  7 | 0 | 1 | McCarthy, Mr. Timothy J                                   | male   | 54 | 0 | 0 | 17463            |  51.8625 | E46         | S |\n",
       "|  8 | 0 | 3 | Palsson, Master. Gosta Leonard                            | male   |  2 | 3 | 1 | 349909           |  21.0750 | NA          | S |\n",
       "|  9 | 1 | 3 | Johnson, Mrs. Oscar W (Elisabeth Vilhelmina Berg)         | female | 27 | 0 | 2 | 347742           |  11.1333 | NA          | S |\n",
       "| 10 | 1 | 2 | Nasser, Mrs. Nicholas (Adele Achem)                       | female | 14 | 1 | 0 | 237736           |  30.0708 | NA          | C |\n",
       "| 11 | 1 | 3 | Sandstrom, Miss. Marguerite Rut                           | female |  4 | 1 | 1 | PP 9549          |  16.7000 | G6          | S |\n",
       "| 12 | 1 | 1 | Bonnell, Miss. Elizabeth                                  | female | 58 | 0 | 0 | 113783           |  26.5500 | C103        | S |\n",
       "| 13 | 0 | 3 | Saundercock, Mr. William Henry                            | male   | 20 | 0 | 0 | A/5. 2151        |   8.0500 | NA          | S |\n",
       "| 14 | 0 | 3 | Andersson, Mr. Anders Johan                               | male   | 39 | 1 | 5 | 347082           |  31.2750 | NA          | S |\n",
       "| 15 | 0 | 3 | Vestrom, Miss. Hulda Amanda Adolfina                      | female | 14 | 0 | 0 | 350406           |   7.8542 | NA          | S |\n",
       "| 16 | 1 | 2 | Hewlett, Mrs. (Mary D Kingcome)                           | female | 55 | 0 | 0 | 248706           |  16.0000 | NA          | S |\n",
       "| 17 | 0 | 3 | Rice, Master. Eugene                                      | male   |  2 | 4 | 1 | 382652           |  29.1250 | NA          | Q |\n",
       "| 18 | 1 | 2 | Williams, Mr. Charles Eugene                              | male   | NA | 0 | 0 | 244373           |  13.0000 | NA          | S |\n",
       "| 19 | 0 | 3 | Vander Planke, Mrs. Julius (Emelia Maria Vandemoortele)   | female | 31 | 1 | 0 | 345763           |  18.0000 | NA          | S |\n",
       "| 20 | 1 | 3 | Masselmani, Mrs. Fatima                                   | female | NA | 0 | 0 | 2649             |   7.2250 | NA          | C |\n",
       "| 21 | 0 | 2 | Fynney, Mr. Joseph J                                      | male   | 35 | 0 | 0 | 239865           |  26.0000 | NA          | S |\n",
       "| 22 | 1 | 2 | Beesley, Mr. Lawrence                                     | male   | 34 | 0 | 0 | 248698           |  13.0000 | D56         | S |\n",
       "| 23 | 1 | 3 | McGowan, Miss. Anna \"Annie\"                               | female | 15 | 0 | 0 | 330923           |   8.0292 | NA          | Q |\n",
       "| 24 | 1 | 1 | Sloper, Mr. William Thompson                              | male   | 28 | 0 | 0 | 113788           |  35.5000 | A6          | S |\n",
       "| 25 | 0 | 3 | Palsson, Miss. Torborg Danira                             | female |  8 | 3 | 1 | 349909           |  21.0750 | NA          | S |\n",
       "| 26 | 1 | 3 | Asplund, Mrs. Carl Oscar (Selma Augusta Emilia Johansson) | female | 38 | 1 | 5 | 347077           |  31.3875 | NA          | S |\n",
       "| 27 | 0 | 3 | Emir, Mr. Farred Chehab                                   | male   | NA | 0 | 0 | 2631             |   7.2250 | NA          | C |\n",
       "| 28 | 0 | 1 | Fortune, Mr. Charles Alexander                            | male   | 19 | 3 | 2 | 19950            | 263.0000 | C23 C25 C27 | S |\n",
       "| 29 | 1 | 3 | O'Dwyer, Miss. Ellen \"Nellie\"                             | female | NA | 0 | 0 | 330959           |   7.8792 | NA          | Q |\n",
       "| 30 | 0 | 3 | Todoroff, Mr. Lalio                                       | male   | NA | 0 | 0 | 349216           |   7.8958 | NA          | S |\n",
       "| ⋮ | ⋮ | ⋮ | ⋮ | ⋮ | ⋮ | ⋮ | ⋮ | ⋮ | ⋮ | ⋮ | ⋮ |\n",
       "| 862 | 0 | 2 | Giles, Mr. Frederick Edward                         | male   | 21 | 1 | 0 | 28134            | 11.5000 | NA          | S |\n",
       "| 863 | 1 | 1 | Swift, Mrs. Frederick Joel (Margaret Welles Barron) | female | 48 | 0 | 0 | 17466            | 25.9292 | D17         | S |\n",
       "| 864 | 0 | 3 | Sage, Miss. Dorothy Edith \"Dolly\"                   | female | NA | 8 | 2 | CA. 2343         | 69.5500 | NA          | S |\n",
       "| 865 | 0 | 2 | Gill, Mr. John William                              | male   | 24 | 0 | 0 | 233866           | 13.0000 | NA          | S |\n",
       "| 866 | 1 | 2 | Bystrom, Mrs. (Karolina)                            | female | 42 | 0 | 0 | 236852           | 13.0000 | NA          | S |\n",
       "| 867 | 1 | 2 | Duran y More, Miss. Asuncion                        | female | 27 | 1 | 0 | SC/PARIS 2149    | 13.8583 | NA          | C |\n",
       "| 868 | 0 | 1 | Roebling, Mr. Washington Augustus II                | male   | 31 | 0 | 0 | PC 17590         | 50.4958 | A24         | S |\n",
       "| 869 | 0 | 3 | van Melkebeke, Mr. Philemon                         | male   | NA | 0 | 0 | 345777           |  9.5000 | NA          | S |\n",
       "| 870 | 1 | 3 | Johnson, Master. Harold Theodor                     | male   |  4 | 1 | 1 | 347742           | 11.1333 | NA          | S |\n",
       "| 871 | 0 | 3 | Balkic, Mr. Cerin                                   | male   | 26 | 0 | 0 | 349248           |  7.8958 | NA          | S |\n",
       "| 872 | 1 | 1 | Beckwith, Mrs. Richard Leonard (Sallie Monypeny)    | female | 47 | 1 | 1 | 11751            | 52.5542 | D35         | S |\n",
       "| 873 | 0 | 1 | Carlsson, Mr. Frans Olof                            | male   | 33 | 0 | 0 | 695              |  5.0000 | B51 B53 B55 | S |\n",
       "| 874 | 0 | 3 | Vander Cruyssen, Mr. Victor                         | male   | 47 | 0 | 0 | 345765           |  9.0000 | NA          | S |\n",
       "| 875 | 1 | 2 | Abelson, Mrs. Samuel (Hannah Wizosky)               | female | 28 | 1 | 0 | P/PP 3381        | 24.0000 | NA          | C |\n",
       "| 876 | 1 | 3 | Najib, Miss. Adele Kiamie \"Jane\"                    | female | 15 | 0 | 0 | 2667             |  7.2250 | NA          | C |\n",
       "| 877 | 0 | 3 | Gustafsson, Mr. Alfred Ossian                       | male   | 20 | 0 | 0 | 7534             |  9.8458 | NA          | S |\n",
       "| 878 | 0 | 3 | Petroff, Mr. Nedelio                                | male   | 19 | 0 | 0 | 349212           |  7.8958 | NA          | S |\n",
       "| 879 | 0 | 3 | Laleff, Mr. Kristo                                  | male   | NA | 0 | 0 | 349217           |  7.8958 | NA          | S |\n",
       "| 880 | 1 | 1 | Potter, Mrs. Thomas Jr (Lily Alexenia Wilson)       | female | 56 | 0 | 1 | 11767            | 83.1583 | C50         | C |\n",
       "| 881 | 1 | 2 | Shelley, Mrs. William (Imanita Parrish Hall)        | female | 25 | 0 | 1 | 230433           | 26.0000 | NA          | S |\n",
       "| 882 | 0 | 3 | Markun, Mr. Johann                                  | male   | 33 | 0 | 0 | 349257           |  7.8958 | NA          | S |\n",
       "| 883 | 0 | 3 | Dahlberg, Miss. Gerda Ulrika                        | female | 22 | 0 | 0 | 7552             | 10.5167 | NA          | S |\n",
       "| 884 | 0 | 2 | Banfield, Mr. Frederick James                       | male   | 28 | 0 | 0 | C.A./SOTON 34068 | 10.5000 | NA          | S |\n",
       "| 885 | 0 | 3 | Sutehall, Mr. Henry Jr                              | male   | 25 | 0 | 0 | SOTON/OQ 392076  |  7.0500 | NA          | S |\n",
       "| 886 | 0 | 3 | Rice, Mrs. William (Margaret Norton)                | female | 39 | 0 | 5 | 382652           | 29.1250 | NA          | Q |\n",
       "| 887 | 0 | 2 | Montvila, Rev. Juozas                               | male   | 27 | 0 | 0 | 211536           | 13.0000 | NA          | S |\n",
       "| 888 | 1 | 1 | Graham, Miss. Margaret Edith                        | female | 19 | 0 | 0 | 112053           | 30.0000 | B42         | S |\n",
       "| 889 | 0 | 3 | Johnston, Miss. Catherine Helen \"Carrie\"            | female | NA | 1 | 2 | W./C. 6607       | 23.4500 | NA          | S |\n",
       "| 890 | 1 | 1 | Behr, Mr. Karl Howell                               | male   | 26 | 0 | 0 | 111369           | 30.0000 | C148        | C |\n",
       "| 891 | 0 | 3 | Dooley, Mr. Patrick                                 | male   | 32 | 0 | 0 | 370376           |  7.7500 | NA          | Q |\n",
       "\n"
      ],
      "text/plain": [
       "    PassengerId Survived Pclass\n",
       "1    1          0        3     \n",
       "2    2          1        1     \n",
       "3    3          1        3     \n",
       "4    4          1        1     \n",
       "5    5          0        3     \n",
       "6    6          0        3     \n",
       "7    7          0        1     \n",
       "8    8          0        3     \n",
       "9    9          1        3     \n",
       "10  10          1        2     \n",
       "11  11          1        3     \n",
       "12  12          1        1     \n",
       "13  13          0        3     \n",
       "14  14          0        3     \n",
       "15  15          0        3     \n",
       "16  16          1        2     \n",
       "17  17          0        3     \n",
       "18  18          1        2     \n",
       "19  19          0        3     \n",
       "20  20          1        3     \n",
       "21  21          0        2     \n",
       "22  22          1        2     \n",
       "23  23          1        3     \n",
       "24  24          1        1     \n",
       "25  25          0        3     \n",
       "26  26          1        3     \n",
       "27  27          0        3     \n",
       "28  28          0        1     \n",
       "29  29          1        3     \n",
       "30  30          0        3     \n",
       "⋮   ⋮           ⋮        ⋮     \n",
       "862 862         0        2     \n",
       "863 863         1        1     \n",
       "864 864         0        3     \n",
       "865 865         0        2     \n",
       "866 866         1        2     \n",
       "867 867         1        2     \n",
       "868 868         0        1     \n",
       "869 869         0        3     \n",
       "870 870         1        3     \n",
       "871 871         0        3     \n",
       "872 872         1        1     \n",
       "873 873         0        1     \n",
       "874 874         0        3     \n",
       "875 875         1        2     \n",
       "876 876         1        3     \n",
       "877 877         0        3     \n",
       "878 878         0        3     \n",
       "879 879         0        3     \n",
       "880 880         1        1     \n",
       "881 881         1        2     \n",
       "882 882         0        3     \n",
       "883 883         0        3     \n",
       "884 884         0        2     \n",
       "885 885         0        3     \n",
       "886 886         0        3     \n",
       "887 887         0        2     \n",
       "888 888         1        1     \n",
       "889 889         0        3     \n",
       "890 890         1        1     \n",
       "891 891         0        3     \n",
       "    Name                                                      Sex    Age SibSp\n",
       "1   Braund, Mr. Owen Harris                                   male   22  1    \n",
       "2   Cumings, Mrs. John Bradley (Florence Briggs Thayer)       female 38  1    \n",
       "3   Heikkinen, Miss. Laina                                    female 26  0    \n",
       "4   Futrelle, Mrs. Jacques Heath (Lily May Peel)              female 35  1    \n",
       "5   Allen, Mr. William Henry                                  male   35  0    \n",
       "6   Moran, Mr. James                                          male   NA  0    \n",
       "7   McCarthy, Mr. Timothy J                                   male   54  0    \n",
       "8   Palsson, Master. Gosta Leonard                            male    2  3    \n",
       "9   Johnson, Mrs. Oscar W (Elisabeth Vilhelmina Berg)         female 27  0    \n",
       "10  Nasser, Mrs. Nicholas (Adele Achem)                       female 14  1    \n",
       "11  Sandstrom, Miss. Marguerite Rut                           female  4  1    \n",
       "12  Bonnell, Miss. Elizabeth                                  female 58  0    \n",
       "13  Saundercock, Mr. William Henry                            male   20  0    \n",
       "14  Andersson, Mr. Anders Johan                               male   39  1    \n",
       "15  Vestrom, Miss. Hulda Amanda Adolfina                      female 14  0    \n",
       "16  Hewlett, Mrs. (Mary D Kingcome)                           female 55  0    \n",
       "17  Rice, Master. Eugene                                      male    2  4    \n",
       "18  Williams, Mr. Charles Eugene                              male   NA  0    \n",
       "19  Vander Planke, Mrs. Julius (Emelia Maria Vandemoortele)   female 31  1    \n",
       "20  Masselmani, Mrs. Fatima                                   female NA  0    \n",
       "21  Fynney, Mr. Joseph J                                      male   35  0    \n",
       "22  Beesley, Mr. Lawrence                                     male   34  0    \n",
       "23  McGowan, Miss. Anna \"Annie\"                               female 15  0    \n",
       "24  Sloper, Mr. William Thompson                              male   28  0    \n",
       "25  Palsson, Miss. Torborg Danira                             female  8  3    \n",
       "26  Asplund, Mrs. Carl Oscar (Selma Augusta Emilia Johansson) female 38  1    \n",
       "27  Emir, Mr. Farred Chehab                                   male   NA  0    \n",
       "28  Fortune, Mr. Charles Alexander                            male   19  3    \n",
       "29  O'Dwyer, Miss. Ellen \"Nellie\"                             female NA  0    \n",
       "30  Todoroff, Mr. Lalio                                       male   NA  0    \n",
       "⋮   ⋮                                                         ⋮      ⋮   ⋮    \n",
       "862 Giles, Mr. Frederick Edward                               male   21  1    \n",
       "863 Swift, Mrs. Frederick Joel (Margaret Welles Barron)       female 48  0    \n",
       "864 Sage, Miss. Dorothy Edith \"Dolly\"                         female NA  8    \n",
       "865 Gill, Mr. John William                                    male   24  0    \n",
       "866 Bystrom, Mrs. (Karolina)                                  female 42  0    \n",
       "867 Duran y More, Miss. Asuncion                              female 27  1    \n",
       "868 Roebling, Mr. Washington Augustus II                      male   31  0    \n",
       "869 van Melkebeke, Mr. Philemon                               male   NA  0    \n",
       "870 Johnson, Master. Harold Theodor                           male    4  1    \n",
       "871 Balkic, Mr. Cerin                                         male   26  0    \n",
       "872 Beckwith, Mrs. Richard Leonard (Sallie Monypeny)          female 47  1    \n",
       "873 Carlsson, Mr. Frans Olof                                  male   33  0    \n",
       "874 Vander Cruyssen, Mr. Victor                               male   47  0    \n",
       "875 Abelson, Mrs. Samuel (Hannah Wizosky)                     female 28  1    \n",
       "876 Najib, Miss. Adele Kiamie \"Jane\"                          female 15  0    \n",
       "877 Gustafsson, Mr. Alfred Ossian                             male   20  0    \n",
       "878 Petroff, Mr. Nedelio                                      male   19  0    \n",
       "879 Laleff, Mr. Kristo                                        male   NA  0    \n",
       "880 Potter, Mrs. Thomas Jr (Lily Alexenia Wilson)             female 56  0    \n",
       "881 Shelley, Mrs. William (Imanita Parrish Hall)              female 25  0    \n",
       "882 Markun, Mr. Johann                                        male   33  0    \n",
       "883 Dahlberg, Miss. Gerda Ulrika                              female 22  0    \n",
       "884 Banfield, Mr. Frederick James                             male   28  0    \n",
       "885 Sutehall, Mr. Henry Jr                                    male   25  0    \n",
       "886 Rice, Mrs. William (Margaret Norton)                      female 39  0    \n",
       "887 Montvila, Rev. Juozas                                     male   27  0    \n",
       "888 Graham, Miss. Margaret Edith                              female 19  0    \n",
       "889 Johnston, Miss. Catherine Helen \"Carrie\"                  female NA  1    \n",
       "890 Behr, Mr. Karl Howell                                     male   26  0    \n",
       "891 Dooley, Mr. Patrick                                       male   32  0    \n",
       "    Parch Ticket           Fare     Cabin       Embarked\n",
       "1   0     A/5 21171          7.2500 NA          S       \n",
       "2   0     PC 17599          71.2833 C85         C       \n",
       "3   0     STON/O2. 3101282   7.9250 NA          S       \n",
       "4   0     113803            53.1000 C123        S       \n",
       "5   0     373450             8.0500 NA          S       \n",
       "6   0     330877             8.4583 NA          Q       \n",
       "7   0     17463             51.8625 E46         S       \n",
       "8   1     349909            21.0750 NA          S       \n",
       "9   2     347742            11.1333 NA          S       \n",
       "10  0     237736            30.0708 NA          C       \n",
       "11  1     PP 9549           16.7000 G6          S       \n",
       "12  0     113783            26.5500 C103        S       \n",
       "13  0     A/5. 2151          8.0500 NA          S       \n",
       "14  5     347082            31.2750 NA          S       \n",
       "15  0     350406             7.8542 NA          S       \n",
       "16  0     248706            16.0000 NA          S       \n",
       "17  1     382652            29.1250 NA          Q       \n",
       "18  0     244373            13.0000 NA          S       \n",
       "19  0     345763            18.0000 NA          S       \n",
       "20  0     2649               7.2250 NA          C       \n",
       "21  0     239865            26.0000 NA          S       \n",
       "22  0     248698            13.0000 D56         S       \n",
       "23  0     330923             8.0292 NA          Q       \n",
       "24  0     113788            35.5000 A6          S       \n",
       "25  1     349909            21.0750 NA          S       \n",
       "26  5     347077            31.3875 NA          S       \n",
       "27  0     2631               7.2250 NA          C       \n",
       "28  2     19950            263.0000 C23 C25 C27 S       \n",
       "29  0     330959             7.8792 NA          Q       \n",
       "30  0     349216             7.8958 NA          S       \n",
       "⋮   ⋮     ⋮                ⋮        ⋮           ⋮       \n",
       "862 0     28134            11.5000  NA          S       \n",
       "863 0     17466            25.9292  D17         S       \n",
       "864 2     CA. 2343         69.5500  NA          S       \n",
       "865 0     233866           13.0000  NA          S       \n",
       "866 0     236852           13.0000  NA          S       \n",
       "867 0     SC/PARIS 2149    13.8583  NA          C       \n",
       "868 0     PC 17590         50.4958  A24         S       \n",
       "869 0     345777            9.5000  NA          S       \n",
       "870 1     347742           11.1333  NA          S       \n",
       "871 0     349248            7.8958  NA          S       \n",
       "872 1     11751            52.5542  D35         S       \n",
       "873 0     695               5.0000  B51 B53 B55 S       \n",
       "874 0     345765            9.0000  NA          S       \n",
       "875 0     P/PP 3381        24.0000  NA          C       \n",
       "876 0     2667              7.2250  NA          C       \n",
       "877 0     7534              9.8458  NA          S       \n",
       "878 0     349212            7.8958  NA          S       \n",
       "879 0     349217            7.8958  NA          S       \n",
       "880 1     11767            83.1583  C50         C       \n",
       "881 1     230433           26.0000  NA          S       \n",
       "882 0     349257            7.8958  NA          S       \n",
       "883 0     7552             10.5167  NA          S       \n",
       "884 0     C.A./SOTON 34068 10.5000  NA          S       \n",
       "885 0     SOTON/OQ 392076   7.0500  NA          S       \n",
       "886 5     382652           29.1250  NA          Q       \n",
       "887 0     211536           13.0000  NA          S       \n",
       "888 0     112053           30.0000  B42         S       \n",
       "889 2     W./C. 6607       23.4500  NA          S       \n",
       "890 0     111369           30.0000  C148        C       \n",
       "891 0     370376            7.7500  NA          Q       "
      ]
     },
     "metadata": {},
     "output_type": "display_data"
    }
   ],
   "source": [
    "boat_data <- read_csv(\"data/train.csv\")\n",
    "boat_data"
   ]
  },
  {
   "cell_type": "code",
   "execution_count": 21,
   "id": "dfec793c-8360-4ed5-8e1d-cb96985fdcba",
   "metadata": {},
   "outputs": [],
   "source": [
    "#getting rid of PassengerId,Name, Embarked,Ticket and Cabin:\n",
    "boat_data_selected <- boat_data |>\n",
    "    select(-PassengerId,-Name, -Ticket, -Cabin)\n"
   ]
  },
  {
   "cell_type": "code",
   "execution_count": 22,
   "id": "f6a39722-1f52-496d-8158-98b7d54cd452",
   "metadata": {},
   "outputs": [],
   "source": [
    "#renaming columns\n",
    "\n",
    "colnames(boat_data_selected) = c(\"Survived\", \"Passenger_Class\", \"Sex\", \"Age\", \"Number0fSiblings\", \"NumberofParents_children\", \"Fare\", \"Embarked\")"
   ]
  },
  {
   "cell_type": "code",
   "execution_count": 26,
   "id": "11a1e535-1e7f-4893-ae0f-954727cf0b03",
   "metadata": {},
   "outputs": [
    {
     "data": {
      "text/html": [
       "891"
      ],
      "text/latex": [
       "891"
      ],
      "text/markdown": [
       "891"
      ],
      "text/plain": [
       "[1] 891"
      ]
     },
     "metadata": {},
     "output_type": "display_data"
    }
   ],
   "source": [
    "#adding a column for sex in binary and making the embarked column into numeric(for it to work with the knn model)\n",
    "\n",
    "boat_data_binary <- boat_data_selected |>\n",
    "    mutate(sex_binary = ifelse(Sex == \"male\", 1, ifelse(Sex == \"female\", 0, NA))) |>\n",
    "    mutate(Embarked_numeric = ifelse(Embarked == \"S\", 0, ifelse(Embarked == \"C\", 1, ifelse(Embarked == \"Q\", 2, NA))))\n",
    "nrow(boat_data_binary)\n"
   ]
  },
  {
   "cell_type": "code",
   "execution_count": 27,
   "id": "8a08def4-a468-4153-8a49-767e08e40beb",
   "metadata": {
    "tags": []
   },
   "outputs": [
    {
     "data": {
      "text/html": [
       "714"
      ],
      "text/latex": [
       "714"
      ],
      "text/markdown": [
       "714"
      ],
      "text/plain": [
       "[1] 714"
      ]
     },
     "metadata": {},
     "output_type": "display_data"
    },
    {
     "data": {
      "text/html": [
       "<table class=\"dataframe\">\n",
       "<caption>A tibble: 714 × 10</caption>\n",
       "<thead>\n",
       "\t<tr><th scope=col>Survived</th><th scope=col>Passenger_Class</th><th scope=col>Sex</th><th scope=col>Age</th><th scope=col>Number0fSiblings</th><th scope=col>NumberofParents_children</th><th scope=col>Fare</th><th scope=col>Embarked</th><th scope=col>sex_binary</th><th scope=col>Embarked_numeric</th></tr>\n",
       "\t<tr><th scope=col>&lt;fct&gt;</th><th scope=col>&lt;dbl&gt;</th><th scope=col>&lt;chr&gt;</th><th scope=col>&lt;dbl&gt;</th><th scope=col>&lt;dbl&gt;</th><th scope=col>&lt;dbl&gt;</th><th scope=col>&lt;dbl&gt;</th><th scope=col>&lt;chr&gt;</th><th scope=col>&lt;dbl&gt;</th><th scope=col>&lt;dbl&gt;</th></tr>\n",
       "</thead>\n",
       "<tbody>\n",
       "\t<tr><td>0</td><td>3</td><td>male  </td><td>22</td><td>1</td><td>0</td><td>  7.2500</td><td>S</td><td>1</td><td>0</td></tr>\n",
       "\t<tr><td>1</td><td>1</td><td>female</td><td>38</td><td>1</td><td>0</td><td> 71.2833</td><td>C</td><td>0</td><td>1</td></tr>\n",
       "\t<tr><td>1</td><td>3</td><td>female</td><td>26</td><td>0</td><td>0</td><td>  7.9250</td><td>S</td><td>0</td><td>0</td></tr>\n",
       "\t<tr><td>1</td><td>1</td><td>female</td><td>35</td><td>1</td><td>0</td><td> 53.1000</td><td>S</td><td>0</td><td>0</td></tr>\n",
       "\t<tr><td>0</td><td>3</td><td>male  </td><td>35</td><td>0</td><td>0</td><td>  8.0500</td><td>S</td><td>1</td><td>0</td></tr>\n",
       "\t<tr><td>0</td><td>1</td><td>male  </td><td>54</td><td>0</td><td>0</td><td> 51.8625</td><td>S</td><td>1</td><td>0</td></tr>\n",
       "\t<tr><td>0</td><td>3</td><td>male  </td><td> 2</td><td>3</td><td>1</td><td> 21.0750</td><td>S</td><td>1</td><td>0</td></tr>\n",
       "\t<tr><td>1</td><td>3</td><td>female</td><td>27</td><td>0</td><td>2</td><td> 11.1333</td><td>S</td><td>0</td><td>0</td></tr>\n",
       "\t<tr><td>1</td><td>2</td><td>female</td><td>14</td><td>1</td><td>0</td><td> 30.0708</td><td>C</td><td>0</td><td>1</td></tr>\n",
       "\t<tr><td>1</td><td>3</td><td>female</td><td> 4</td><td>1</td><td>1</td><td> 16.7000</td><td>S</td><td>0</td><td>0</td></tr>\n",
       "\t<tr><td>1</td><td>1</td><td>female</td><td>58</td><td>0</td><td>0</td><td> 26.5500</td><td>S</td><td>0</td><td>0</td></tr>\n",
       "\t<tr><td>0</td><td>3</td><td>male  </td><td>20</td><td>0</td><td>0</td><td>  8.0500</td><td>S</td><td>1</td><td>0</td></tr>\n",
       "\t<tr><td>0</td><td>3</td><td>male  </td><td>39</td><td>1</td><td>5</td><td> 31.2750</td><td>S</td><td>1</td><td>0</td></tr>\n",
       "\t<tr><td>0</td><td>3</td><td>female</td><td>14</td><td>0</td><td>0</td><td>  7.8542</td><td>S</td><td>0</td><td>0</td></tr>\n",
       "\t<tr><td>1</td><td>2</td><td>female</td><td>55</td><td>0</td><td>0</td><td> 16.0000</td><td>S</td><td>0</td><td>0</td></tr>\n",
       "\t<tr><td>0</td><td>3</td><td>male  </td><td> 2</td><td>4</td><td>1</td><td> 29.1250</td><td>Q</td><td>1</td><td>2</td></tr>\n",
       "\t<tr><td>0</td><td>3</td><td>female</td><td>31</td><td>1</td><td>0</td><td> 18.0000</td><td>S</td><td>0</td><td>0</td></tr>\n",
       "\t<tr><td>0</td><td>2</td><td>male  </td><td>35</td><td>0</td><td>0</td><td> 26.0000</td><td>S</td><td>1</td><td>0</td></tr>\n",
       "\t<tr><td>1</td><td>2</td><td>male  </td><td>34</td><td>0</td><td>0</td><td> 13.0000</td><td>S</td><td>1</td><td>0</td></tr>\n",
       "\t<tr><td>1</td><td>3</td><td>female</td><td>15</td><td>0</td><td>0</td><td>  8.0292</td><td>Q</td><td>0</td><td>2</td></tr>\n",
       "\t<tr><td>1</td><td>1</td><td>male  </td><td>28</td><td>0</td><td>0</td><td> 35.5000</td><td>S</td><td>1</td><td>0</td></tr>\n",
       "\t<tr><td>0</td><td>3</td><td>female</td><td> 8</td><td>3</td><td>1</td><td> 21.0750</td><td>S</td><td>0</td><td>0</td></tr>\n",
       "\t<tr><td>1</td><td>3</td><td>female</td><td>38</td><td>1</td><td>5</td><td> 31.3875</td><td>S</td><td>0</td><td>0</td></tr>\n",
       "\t<tr><td>0</td><td>1</td><td>male  </td><td>19</td><td>3</td><td>2</td><td>263.0000</td><td>S</td><td>1</td><td>0</td></tr>\n",
       "\t<tr><td>0</td><td>1</td><td>male  </td><td>40</td><td>0</td><td>0</td><td> 27.7208</td><td>C</td><td>1</td><td>1</td></tr>\n",
       "\t<tr><td>0</td><td>2</td><td>male  </td><td>66</td><td>0</td><td>0</td><td> 10.5000</td><td>S</td><td>1</td><td>0</td></tr>\n",
       "\t<tr><td>0</td><td>1</td><td>male  </td><td>28</td><td>1</td><td>0</td><td> 82.1708</td><td>C</td><td>1</td><td>1</td></tr>\n",
       "\t<tr><td>0</td><td>1</td><td>male  </td><td>42</td><td>1</td><td>0</td><td> 52.0000</td><td>S</td><td>1</td><td>0</td></tr>\n",
       "\t<tr><td>0</td><td>3</td><td>male  </td><td>21</td><td>0</td><td>0</td><td>  8.0500</td><td>S</td><td>1</td><td>0</td></tr>\n",
       "\t<tr><td>0</td><td>3</td><td>female</td><td>18</td><td>2</td><td>0</td><td> 18.0000</td><td>S</td><td>0</td><td>0</td></tr>\n",
       "\t<tr><td>⋮</td><td>⋮</td><td>⋮</td><td>⋮</td><td>⋮</td><td>⋮</td><td>⋮</td><td>⋮</td><td>⋮</td><td>⋮</td></tr>\n",
       "\t<tr><td>1</td><td>1</td><td>female</td><td>45</td><td>1</td><td>1</td><td>164.8667</td><td>S</td><td>0</td><td>0</td></tr>\n",
       "\t<tr><td>1</td><td>1</td><td>male  </td><td>51</td><td>0</td><td>0</td><td> 26.5500</td><td>S</td><td>1</td><td>0</td></tr>\n",
       "\t<tr><td>1</td><td>3</td><td>female</td><td>24</td><td>0</td><td>3</td><td> 19.2583</td><td>C</td><td>0</td><td>1</td></tr>\n",
       "\t<tr><td>0</td><td>3</td><td>male  </td><td>41</td><td>2</td><td>0</td><td> 14.1083</td><td>S</td><td>1</td><td>0</td></tr>\n",
       "\t<tr><td>0</td><td>2</td><td>male  </td><td>21</td><td>1</td><td>0</td><td> 11.5000</td><td>S</td><td>1</td><td>0</td></tr>\n",
       "\t<tr><td>1</td><td>1</td><td>female</td><td>48</td><td>0</td><td>0</td><td> 25.9292</td><td>S</td><td>0</td><td>0</td></tr>\n",
       "\t<tr><td>0</td><td>2</td><td>male  </td><td>24</td><td>0</td><td>0</td><td> 13.0000</td><td>S</td><td>1</td><td>0</td></tr>\n",
       "\t<tr><td>1</td><td>2</td><td>female</td><td>42</td><td>0</td><td>0</td><td> 13.0000</td><td>S</td><td>0</td><td>0</td></tr>\n",
       "\t<tr><td>1</td><td>2</td><td>female</td><td>27</td><td>1</td><td>0</td><td> 13.8583</td><td>C</td><td>0</td><td>1</td></tr>\n",
       "\t<tr><td>0</td><td>1</td><td>male  </td><td>31</td><td>0</td><td>0</td><td> 50.4958</td><td>S</td><td>1</td><td>0</td></tr>\n",
       "\t<tr><td>1</td><td>3</td><td>male  </td><td> 4</td><td>1</td><td>1</td><td> 11.1333</td><td>S</td><td>1</td><td>0</td></tr>\n",
       "\t<tr><td>0</td><td>3</td><td>male  </td><td>26</td><td>0</td><td>0</td><td>  7.8958</td><td>S</td><td>1</td><td>0</td></tr>\n",
       "\t<tr><td>1</td><td>1</td><td>female</td><td>47</td><td>1</td><td>1</td><td> 52.5542</td><td>S</td><td>0</td><td>0</td></tr>\n",
       "\t<tr><td>0</td><td>1</td><td>male  </td><td>33</td><td>0</td><td>0</td><td>  5.0000</td><td>S</td><td>1</td><td>0</td></tr>\n",
       "\t<tr><td>0</td><td>3</td><td>male  </td><td>47</td><td>0</td><td>0</td><td>  9.0000</td><td>S</td><td>1</td><td>0</td></tr>\n",
       "\t<tr><td>1</td><td>2</td><td>female</td><td>28</td><td>1</td><td>0</td><td> 24.0000</td><td>C</td><td>0</td><td>1</td></tr>\n",
       "\t<tr><td>1</td><td>3</td><td>female</td><td>15</td><td>0</td><td>0</td><td>  7.2250</td><td>C</td><td>0</td><td>1</td></tr>\n",
       "\t<tr><td>0</td><td>3</td><td>male  </td><td>20</td><td>0</td><td>0</td><td>  9.8458</td><td>S</td><td>1</td><td>0</td></tr>\n",
       "\t<tr><td>0</td><td>3</td><td>male  </td><td>19</td><td>0</td><td>0</td><td>  7.8958</td><td>S</td><td>1</td><td>0</td></tr>\n",
       "\t<tr><td>1</td><td>1</td><td>female</td><td>56</td><td>0</td><td>1</td><td> 83.1583</td><td>C</td><td>0</td><td>1</td></tr>\n",
       "\t<tr><td>1</td><td>2</td><td>female</td><td>25</td><td>0</td><td>1</td><td> 26.0000</td><td>S</td><td>0</td><td>0</td></tr>\n",
       "\t<tr><td>0</td><td>3</td><td>male  </td><td>33</td><td>0</td><td>0</td><td>  7.8958</td><td>S</td><td>1</td><td>0</td></tr>\n",
       "\t<tr><td>0</td><td>3</td><td>female</td><td>22</td><td>0</td><td>0</td><td> 10.5167</td><td>S</td><td>0</td><td>0</td></tr>\n",
       "\t<tr><td>0</td><td>2</td><td>male  </td><td>28</td><td>0</td><td>0</td><td> 10.5000</td><td>S</td><td>1</td><td>0</td></tr>\n",
       "\t<tr><td>0</td><td>3</td><td>male  </td><td>25</td><td>0</td><td>0</td><td>  7.0500</td><td>S</td><td>1</td><td>0</td></tr>\n",
       "\t<tr><td>0</td><td>3</td><td>female</td><td>39</td><td>0</td><td>5</td><td> 29.1250</td><td>Q</td><td>0</td><td>2</td></tr>\n",
       "\t<tr><td>0</td><td>2</td><td>male  </td><td>27</td><td>0</td><td>0</td><td> 13.0000</td><td>S</td><td>1</td><td>0</td></tr>\n",
       "\t<tr><td>1</td><td>1</td><td>female</td><td>19</td><td>0</td><td>0</td><td> 30.0000</td><td>S</td><td>0</td><td>0</td></tr>\n",
       "\t<tr><td>1</td><td>1</td><td>male  </td><td>26</td><td>0</td><td>0</td><td> 30.0000</td><td>C</td><td>1</td><td>1</td></tr>\n",
       "\t<tr><td>0</td><td>3</td><td>male  </td><td>32</td><td>0</td><td>0</td><td>  7.7500</td><td>Q</td><td>1</td><td>2</td></tr>\n",
       "</tbody>\n",
       "</table>\n"
      ],
      "text/latex": [
       "A tibble: 714 × 10\n",
       "\\begin{tabular}{llllllllll}\n",
       " Survived & Passenger\\_Class & Sex & Age & Number0fSiblings & NumberofParents\\_children & Fare & Embarked & sex\\_binary & Embarked\\_numeric\\\\\n",
       " <fct> & <dbl> & <chr> & <dbl> & <dbl> & <dbl> & <dbl> & <chr> & <dbl> & <dbl>\\\\\n",
       "\\hline\n",
       "\t 0 & 3 & male   & 22 & 1 & 0 &   7.2500 & S & 1 & 0\\\\\n",
       "\t 1 & 1 & female & 38 & 1 & 0 &  71.2833 & C & 0 & 1\\\\\n",
       "\t 1 & 3 & female & 26 & 0 & 0 &   7.9250 & S & 0 & 0\\\\\n",
       "\t 1 & 1 & female & 35 & 1 & 0 &  53.1000 & S & 0 & 0\\\\\n",
       "\t 0 & 3 & male   & 35 & 0 & 0 &   8.0500 & S & 1 & 0\\\\\n",
       "\t 0 & 1 & male   & 54 & 0 & 0 &  51.8625 & S & 1 & 0\\\\\n",
       "\t 0 & 3 & male   &  2 & 3 & 1 &  21.0750 & S & 1 & 0\\\\\n",
       "\t 1 & 3 & female & 27 & 0 & 2 &  11.1333 & S & 0 & 0\\\\\n",
       "\t 1 & 2 & female & 14 & 1 & 0 &  30.0708 & C & 0 & 1\\\\\n",
       "\t 1 & 3 & female &  4 & 1 & 1 &  16.7000 & S & 0 & 0\\\\\n",
       "\t 1 & 1 & female & 58 & 0 & 0 &  26.5500 & S & 0 & 0\\\\\n",
       "\t 0 & 3 & male   & 20 & 0 & 0 &   8.0500 & S & 1 & 0\\\\\n",
       "\t 0 & 3 & male   & 39 & 1 & 5 &  31.2750 & S & 1 & 0\\\\\n",
       "\t 0 & 3 & female & 14 & 0 & 0 &   7.8542 & S & 0 & 0\\\\\n",
       "\t 1 & 2 & female & 55 & 0 & 0 &  16.0000 & S & 0 & 0\\\\\n",
       "\t 0 & 3 & male   &  2 & 4 & 1 &  29.1250 & Q & 1 & 2\\\\\n",
       "\t 0 & 3 & female & 31 & 1 & 0 &  18.0000 & S & 0 & 0\\\\\n",
       "\t 0 & 2 & male   & 35 & 0 & 0 &  26.0000 & S & 1 & 0\\\\\n",
       "\t 1 & 2 & male   & 34 & 0 & 0 &  13.0000 & S & 1 & 0\\\\\n",
       "\t 1 & 3 & female & 15 & 0 & 0 &   8.0292 & Q & 0 & 2\\\\\n",
       "\t 1 & 1 & male   & 28 & 0 & 0 &  35.5000 & S & 1 & 0\\\\\n",
       "\t 0 & 3 & female &  8 & 3 & 1 &  21.0750 & S & 0 & 0\\\\\n",
       "\t 1 & 3 & female & 38 & 1 & 5 &  31.3875 & S & 0 & 0\\\\\n",
       "\t 0 & 1 & male   & 19 & 3 & 2 & 263.0000 & S & 1 & 0\\\\\n",
       "\t 0 & 1 & male   & 40 & 0 & 0 &  27.7208 & C & 1 & 1\\\\\n",
       "\t 0 & 2 & male   & 66 & 0 & 0 &  10.5000 & S & 1 & 0\\\\\n",
       "\t 0 & 1 & male   & 28 & 1 & 0 &  82.1708 & C & 1 & 1\\\\\n",
       "\t 0 & 1 & male   & 42 & 1 & 0 &  52.0000 & S & 1 & 0\\\\\n",
       "\t 0 & 3 & male   & 21 & 0 & 0 &   8.0500 & S & 1 & 0\\\\\n",
       "\t 0 & 3 & female & 18 & 2 & 0 &  18.0000 & S & 0 & 0\\\\\n",
       "\t ⋮ & ⋮ & ⋮ & ⋮ & ⋮ & ⋮ & ⋮ & ⋮ & ⋮ & ⋮\\\\\n",
       "\t 1 & 1 & female & 45 & 1 & 1 & 164.8667 & S & 0 & 0\\\\\n",
       "\t 1 & 1 & male   & 51 & 0 & 0 &  26.5500 & S & 1 & 0\\\\\n",
       "\t 1 & 3 & female & 24 & 0 & 3 &  19.2583 & C & 0 & 1\\\\\n",
       "\t 0 & 3 & male   & 41 & 2 & 0 &  14.1083 & S & 1 & 0\\\\\n",
       "\t 0 & 2 & male   & 21 & 1 & 0 &  11.5000 & S & 1 & 0\\\\\n",
       "\t 1 & 1 & female & 48 & 0 & 0 &  25.9292 & S & 0 & 0\\\\\n",
       "\t 0 & 2 & male   & 24 & 0 & 0 &  13.0000 & S & 1 & 0\\\\\n",
       "\t 1 & 2 & female & 42 & 0 & 0 &  13.0000 & S & 0 & 0\\\\\n",
       "\t 1 & 2 & female & 27 & 1 & 0 &  13.8583 & C & 0 & 1\\\\\n",
       "\t 0 & 1 & male   & 31 & 0 & 0 &  50.4958 & S & 1 & 0\\\\\n",
       "\t 1 & 3 & male   &  4 & 1 & 1 &  11.1333 & S & 1 & 0\\\\\n",
       "\t 0 & 3 & male   & 26 & 0 & 0 &   7.8958 & S & 1 & 0\\\\\n",
       "\t 1 & 1 & female & 47 & 1 & 1 &  52.5542 & S & 0 & 0\\\\\n",
       "\t 0 & 1 & male   & 33 & 0 & 0 &   5.0000 & S & 1 & 0\\\\\n",
       "\t 0 & 3 & male   & 47 & 0 & 0 &   9.0000 & S & 1 & 0\\\\\n",
       "\t 1 & 2 & female & 28 & 1 & 0 &  24.0000 & C & 0 & 1\\\\\n",
       "\t 1 & 3 & female & 15 & 0 & 0 &   7.2250 & C & 0 & 1\\\\\n",
       "\t 0 & 3 & male   & 20 & 0 & 0 &   9.8458 & S & 1 & 0\\\\\n",
       "\t 0 & 3 & male   & 19 & 0 & 0 &   7.8958 & S & 1 & 0\\\\\n",
       "\t 1 & 1 & female & 56 & 0 & 1 &  83.1583 & C & 0 & 1\\\\\n",
       "\t 1 & 2 & female & 25 & 0 & 1 &  26.0000 & S & 0 & 0\\\\\n",
       "\t 0 & 3 & male   & 33 & 0 & 0 &   7.8958 & S & 1 & 0\\\\\n",
       "\t 0 & 3 & female & 22 & 0 & 0 &  10.5167 & S & 0 & 0\\\\\n",
       "\t 0 & 2 & male   & 28 & 0 & 0 &  10.5000 & S & 1 & 0\\\\\n",
       "\t 0 & 3 & male   & 25 & 0 & 0 &   7.0500 & S & 1 & 0\\\\\n",
       "\t 0 & 3 & female & 39 & 0 & 5 &  29.1250 & Q & 0 & 2\\\\\n",
       "\t 0 & 2 & male   & 27 & 0 & 0 &  13.0000 & S & 1 & 0\\\\\n",
       "\t 1 & 1 & female & 19 & 0 & 0 &  30.0000 & S & 0 & 0\\\\\n",
       "\t 1 & 1 & male   & 26 & 0 & 0 &  30.0000 & C & 1 & 1\\\\\n",
       "\t 0 & 3 & male   & 32 & 0 & 0 &   7.7500 & Q & 1 & 2\\\\\n",
       "\\end{tabular}\n"
      ],
      "text/markdown": [
       "\n",
       "A tibble: 714 × 10\n",
       "\n",
       "| Survived &lt;fct&gt; | Passenger_Class &lt;dbl&gt; | Sex &lt;chr&gt; | Age &lt;dbl&gt; | Number0fSiblings &lt;dbl&gt; | NumberofParents_children &lt;dbl&gt; | Fare &lt;dbl&gt; | Embarked &lt;chr&gt; | sex_binary &lt;dbl&gt; | Embarked_numeric &lt;dbl&gt; |\n",
       "|---|---|---|---|---|---|---|---|---|---|\n",
       "| 0 | 3 | male   | 22 | 1 | 0 |   7.2500 | S | 1 | 0 |\n",
       "| 1 | 1 | female | 38 | 1 | 0 |  71.2833 | C | 0 | 1 |\n",
       "| 1 | 3 | female | 26 | 0 | 0 |   7.9250 | S | 0 | 0 |\n",
       "| 1 | 1 | female | 35 | 1 | 0 |  53.1000 | S | 0 | 0 |\n",
       "| 0 | 3 | male   | 35 | 0 | 0 |   8.0500 | S | 1 | 0 |\n",
       "| 0 | 1 | male   | 54 | 0 | 0 |  51.8625 | S | 1 | 0 |\n",
       "| 0 | 3 | male   |  2 | 3 | 1 |  21.0750 | S | 1 | 0 |\n",
       "| 1 | 3 | female | 27 | 0 | 2 |  11.1333 | S | 0 | 0 |\n",
       "| 1 | 2 | female | 14 | 1 | 0 |  30.0708 | C | 0 | 1 |\n",
       "| 1 | 3 | female |  4 | 1 | 1 |  16.7000 | S | 0 | 0 |\n",
       "| 1 | 1 | female | 58 | 0 | 0 |  26.5500 | S | 0 | 0 |\n",
       "| 0 | 3 | male   | 20 | 0 | 0 |   8.0500 | S | 1 | 0 |\n",
       "| 0 | 3 | male   | 39 | 1 | 5 |  31.2750 | S | 1 | 0 |\n",
       "| 0 | 3 | female | 14 | 0 | 0 |   7.8542 | S | 0 | 0 |\n",
       "| 1 | 2 | female | 55 | 0 | 0 |  16.0000 | S | 0 | 0 |\n",
       "| 0 | 3 | male   |  2 | 4 | 1 |  29.1250 | Q | 1 | 2 |\n",
       "| 0 | 3 | female | 31 | 1 | 0 |  18.0000 | S | 0 | 0 |\n",
       "| 0 | 2 | male   | 35 | 0 | 0 |  26.0000 | S | 1 | 0 |\n",
       "| 1 | 2 | male   | 34 | 0 | 0 |  13.0000 | S | 1 | 0 |\n",
       "| 1 | 3 | female | 15 | 0 | 0 |   8.0292 | Q | 0 | 2 |\n",
       "| 1 | 1 | male   | 28 | 0 | 0 |  35.5000 | S | 1 | 0 |\n",
       "| 0 | 3 | female |  8 | 3 | 1 |  21.0750 | S | 0 | 0 |\n",
       "| 1 | 3 | female | 38 | 1 | 5 |  31.3875 | S | 0 | 0 |\n",
       "| 0 | 1 | male   | 19 | 3 | 2 | 263.0000 | S | 1 | 0 |\n",
       "| 0 | 1 | male   | 40 | 0 | 0 |  27.7208 | C | 1 | 1 |\n",
       "| 0 | 2 | male   | 66 | 0 | 0 |  10.5000 | S | 1 | 0 |\n",
       "| 0 | 1 | male   | 28 | 1 | 0 |  82.1708 | C | 1 | 1 |\n",
       "| 0 | 1 | male   | 42 | 1 | 0 |  52.0000 | S | 1 | 0 |\n",
       "| 0 | 3 | male   | 21 | 0 | 0 |   8.0500 | S | 1 | 0 |\n",
       "| 0 | 3 | female | 18 | 2 | 0 |  18.0000 | S | 0 | 0 |\n",
       "| ⋮ | ⋮ | ⋮ | ⋮ | ⋮ | ⋮ | ⋮ | ⋮ | ⋮ | ⋮ |\n",
       "| 1 | 1 | female | 45 | 1 | 1 | 164.8667 | S | 0 | 0 |\n",
       "| 1 | 1 | male   | 51 | 0 | 0 |  26.5500 | S | 1 | 0 |\n",
       "| 1 | 3 | female | 24 | 0 | 3 |  19.2583 | C | 0 | 1 |\n",
       "| 0 | 3 | male   | 41 | 2 | 0 |  14.1083 | S | 1 | 0 |\n",
       "| 0 | 2 | male   | 21 | 1 | 0 |  11.5000 | S | 1 | 0 |\n",
       "| 1 | 1 | female | 48 | 0 | 0 |  25.9292 | S | 0 | 0 |\n",
       "| 0 | 2 | male   | 24 | 0 | 0 |  13.0000 | S | 1 | 0 |\n",
       "| 1 | 2 | female | 42 | 0 | 0 |  13.0000 | S | 0 | 0 |\n",
       "| 1 | 2 | female | 27 | 1 | 0 |  13.8583 | C | 0 | 1 |\n",
       "| 0 | 1 | male   | 31 | 0 | 0 |  50.4958 | S | 1 | 0 |\n",
       "| 1 | 3 | male   |  4 | 1 | 1 |  11.1333 | S | 1 | 0 |\n",
       "| 0 | 3 | male   | 26 | 0 | 0 |   7.8958 | S | 1 | 0 |\n",
       "| 1 | 1 | female | 47 | 1 | 1 |  52.5542 | S | 0 | 0 |\n",
       "| 0 | 1 | male   | 33 | 0 | 0 |   5.0000 | S | 1 | 0 |\n",
       "| 0 | 3 | male   | 47 | 0 | 0 |   9.0000 | S | 1 | 0 |\n",
       "| 1 | 2 | female | 28 | 1 | 0 |  24.0000 | C | 0 | 1 |\n",
       "| 1 | 3 | female | 15 | 0 | 0 |   7.2250 | C | 0 | 1 |\n",
       "| 0 | 3 | male   | 20 | 0 | 0 |   9.8458 | S | 1 | 0 |\n",
       "| 0 | 3 | male   | 19 | 0 | 0 |   7.8958 | S | 1 | 0 |\n",
       "| 1 | 1 | female | 56 | 0 | 1 |  83.1583 | C | 0 | 1 |\n",
       "| 1 | 2 | female | 25 | 0 | 1 |  26.0000 | S | 0 | 0 |\n",
       "| 0 | 3 | male   | 33 | 0 | 0 |   7.8958 | S | 1 | 0 |\n",
       "| 0 | 3 | female | 22 | 0 | 0 |  10.5167 | S | 0 | 0 |\n",
       "| 0 | 2 | male   | 28 | 0 | 0 |  10.5000 | S | 1 | 0 |\n",
       "| 0 | 3 | male   | 25 | 0 | 0 |   7.0500 | S | 1 | 0 |\n",
       "| 0 | 3 | female | 39 | 0 | 5 |  29.1250 | Q | 0 | 2 |\n",
       "| 0 | 2 | male   | 27 | 0 | 0 |  13.0000 | S | 1 | 0 |\n",
       "| 1 | 1 | female | 19 | 0 | 0 |  30.0000 | S | 0 | 0 |\n",
       "| 1 | 1 | male   | 26 | 0 | 0 |  30.0000 | C | 1 | 1 |\n",
       "| 0 | 3 | male   | 32 | 0 | 0 |   7.7500 | Q | 1 | 2 |\n",
       "\n"
      ],
      "text/plain": [
       "    Survived Passenger_Class Sex    Age Number0fSiblings\n",
       "1   0        3               male   22  1               \n",
       "2   1        1               female 38  1               \n",
       "3   1        3               female 26  0               \n",
       "4   1        1               female 35  1               \n",
       "5   0        3               male   35  0               \n",
       "6   0        1               male   54  0               \n",
       "7   0        3               male    2  3               \n",
       "8   1        3               female 27  0               \n",
       "9   1        2               female 14  1               \n",
       "10  1        3               female  4  1               \n",
       "11  1        1               female 58  0               \n",
       "12  0        3               male   20  0               \n",
       "13  0        3               male   39  1               \n",
       "14  0        3               female 14  0               \n",
       "15  1        2               female 55  0               \n",
       "16  0        3               male    2  4               \n",
       "17  0        3               female 31  1               \n",
       "18  0        2               male   35  0               \n",
       "19  1        2               male   34  0               \n",
       "20  1        3               female 15  0               \n",
       "21  1        1               male   28  0               \n",
       "22  0        3               female  8  3               \n",
       "23  1        3               female 38  1               \n",
       "24  0        1               male   19  3               \n",
       "25  0        1               male   40  0               \n",
       "26  0        2               male   66  0               \n",
       "27  0        1               male   28  1               \n",
       "28  0        1               male   42  1               \n",
       "29  0        3               male   21  0               \n",
       "30  0        3               female 18  2               \n",
       "⋮   ⋮        ⋮               ⋮      ⋮   ⋮               \n",
       "685 1        1               female 45  1               \n",
       "686 1        1               male   51  0               \n",
       "687 1        3               female 24  0               \n",
       "688 0        3               male   41  2               \n",
       "689 0        2               male   21  1               \n",
       "690 1        1               female 48  0               \n",
       "691 0        2               male   24  0               \n",
       "692 1        2               female 42  0               \n",
       "693 1        2               female 27  1               \n",
       "694 0        1               male   31  0               \n",
       "695 1        3               male    4  1               \n",
       "696 0        3               male   26  0               \n",
       "697 1        1               female 47  1               \n",
       "698 0        1               male   33  0               \n",
       "699 0        3               male   47  0               \n",
       "700 1        2               female 28  1               \n",
       "701 1        3               female 15  0               \n",
       "702 0        3               male   20  0               \n",
       "703 0        3               male   19  0               \n",
       "704 1        1               female 56  0               \n",
       "705 1        2               female 25  0               \n",
       "706 0        3               male   33  0               \n",
       "707 0        3               female 22  0               \n",
       "708 0        2               male   28  0               \n",
       "709 0        3               male   25  0               \n",
       "710 0        3               female 39  0               \n",
       "711 0        2               male   27  0               \n",
       "712 1        1               female 19  0               \n",
       "713 1        1               male   26  0               \n",
       "714 0        3               male   32  0               \n",
       "    NumberofParents_children Fare     Embarked sex_binary Embarked_numeric\n",
       "1   0                          7.2500 S        1          0               \n",
       "2   0                         71.2833 C        0          1               \n",
       "3   0                          7.9250 S        0          0               \n",
       "4   0                         53.1000 S        0          0               \n",
       "5   0                          8.0500 S        1          0               \n",
       "6   0                         51.8625 S        1          0               \n",
       "7   1                         21.0750 S        1          0               \n",
       "8   2                         11.1333 S        0          0               \n",
       "9   0                         30.0708 C        0          1               \n",
       "10  1                         16.7000 S        0          0               \n",
       "11  0                         26.5500 S        0          0               \n",
       "12  0                          8.0500 S        1          0               \n",
       "13  5                         31.2750 S        1          0               \n",
       "14  0                          7.8542 S        0          0               \n",
       "15  0                         16.0000 S        0          0               \n",
       "16  1                         29.1250 Q        1          2               \n",
       "17  0                         18.0000 S        0          0               \n",
       "18  0                         26.0000 S        1          0               \n",
       "19  0                         13.0000 S        1          0               \n",
       "20  0                          8.0292 Q        0          2               \n",
       "21  0                         35.5000 S        1          0               \n",
       "22  1                         21.0750 S        0          0               \n",
       "23  5                         31.3875 S        0          0               \n",
       "24  2                        263.0000 S        1          0               \n",
       "25  0                         27.7208 C        1          1               \n",
       "26  0                         10.5000 S        1          0               \n",
       "27  0                         82.1708 C        1          1               \n",
       "28  0                         52.0000 S        1          0               \n",
       "29  0                          8.0500 S        1          0               \n",
       "30  0                         18.0000 S        0          0               \n",
       "⋮   ⋮                        ⋮        ⋮        ⋮          ⋮               \n",
       "685 1                        164.8667 S        0          0               \n",
       "686 0                         26.5500 S        1          0               \n",
       "687 3                         19.2583 C        0          1               \n",
       "688 0                         14.1083 S        1          0               \n",
       "689 0                         11.5000 S        1          0               \n",
       "690 0                         25.9292 S        0          0               \n",
       "691 0                         13.0000 S        1          0               \n",
       "692 0                         13.0000 S        0          0               \n",
       "693 0                         13.8583 C        0          1               \n",
       "694 0                         50.4958 S        1          0               \n",
       "695 1                         11.1333 S        1          0               \n",
       "696 0                          7.8958 S        1          0               \n",
       "697 1                         52.5542 S        0          0               \n",
       "698 0                          5.0000 S        1          0               \n",
       "699 0                          9.0000 S        1          0               \n",
       "700 0                         24.0000 C        0          1               \n",
       "701 0                          7.2250 C        0          1               \n",
       "702 0                          9.8458 S        1          0               \n",
       "703 0                          7.8958 S        1          0               \n",
       "704 1                         83.1583 C        0          1               \n",
       "705 1                         26.0000 S        0          0               \n",
       "706 0                          7.8958 S        1          0               \n",
       "707 0                         10.5167 S        0          0               \n",
       "708 0                         10.5000 S        1          0               \n",
       "709 0                          7.0500 S        1          0               \n",
       "710 5                         29.1250 Q        0          2               \n",
       "711 0                         13.0000 S        1          0               \n",
       "712 0                         30.0000 S        0          0               \n",
       "713 0                         30.0000 C        1          1               \n",
       "714 0                          7.7500 Q        1          2               "
      ]
     },
     "metadata": {},
     "output_type": "display_data"
    }
   ],
   "source": [
    "#removing the columns with NA values for age.\n",
    "#we see we only loose about 20 percent of the original 891 row dataset\n",
    "\n",
    "boat_data_NA <- boat_data_binary |>\n",
    "    filter(!is.na(Age)) |>\n",
    "    mutate(Survived = as_factor(Survived))\n",
    "\n",
    "nrow(boat_data_NA)\n",
    "boat_data_NA"
   ]
  },
  {
   "cell_type": "code",
   "execution_count": null,
   "id": "6acbbb7e-35c5-4582-8ee9-9e8b32b799ec",
   "metadata": {},
   "outputs": [],
   "source": []
  },
  {
   "cell_type": "code",
   "execution_count": 28,
   "id": "3cce4784-0df8-4efe-a5fd-8265b01c71f0",
   "metadata": {},
   "outputs": [],
   "source": [
    "set.seed(911)\n",
    "#splitting the wrangled data into test and training sets\n",
    "#we chose a 70-30 percent split to ensure our model is accurate at the same time as making sure the testing is accurate.\n",
    "\n",
    "boat_split <- initial_split(boat_data_NA, prop = 0.7, strata = Survived)\n",
    "boat_train <- training(boat_split)\n",
    "boat_test <- testing(boat_split)"
   ]
  },
  {
   "cell_type": "code",
   "execution_count": 113,
   "id": "074de6ed-8d61-4871-bbfe-dc213f3b4c30",
   "metadata": {},
   "outputs": [
    {
     "data": {
      "text/html": [
       "512.3292"
      ],
      "text/latex": [
       "512.3292"
      ],
      "text/markdown": [
       "512.3292"
      ],
      "text/plain": [
       "[1] 512.3292"
      ]
     },
     "metadata": {},
     "output_type": "display_data"
    },
    {
     "name": "stderr",
     "output_type": "stream",
     "text": [
      "Warning message:\n",
      "“Removed 6 rows containing missing values (geom_bar).”\n"
     ]
    },
    {
     "data": {
      "image/png": "[encoded data removed]",
      "text/plain": [
       "plot without title"
      ]
     },
     "metadata": {
      "image/png": {
       "height": 420,
       "width": 420
      }
     },
     "output_type": "display_data"
    }
   ],
   "source": [
    "max(pull(boat_train, Fare))\n",
    "\n",
    "FarevSurvived <- boat_train |>\n",
    "    ggplot(aes(x = Fare, fill = Survived)) +\n",
    "    geom_histogram(bins = 10, position = \"fill\") +\n",
    "    labs(x = \"Survival\", y = \"Average Fare(In Pounds)\", fill = \"Survived?\") +\n",
    "    scale_x_continuous(breaks = seq(from = 0, to = 525, by = 50))\n",
    "    \n",
    "FarevSurvived"
   ]
  },
  {
   "cell_type": "code",
   "execution_count": null,
   "id": "fc1144e4-bfd7-4c98-9bf4-a35335a8bcff",
   "metadata": {},
   "outputs": [
    {
     "data": {
      "image/png": "[encoded data removed]",
      "text/plain": [
       "plot without title"
      ]
     },
     "metadata": {
      "image/png": {
       "height": 420,
       "width": 420
      }
     },
     "output_type": "display_data"
    }
   ],
   "source": [
    "temp_data_graph <- boat_train |>\n",
    "    mutate(Survived_char = ifelse(Survived == 1, \"Survived\", ifelse(Survived == 0, \"Did not survive\", NA)))\n",
    "\n",
    "FarevSurvived <- temp_data_graph |>\n",
    "    ggplot(aes(x = Age, fill = as_factor(Survived_char))) +\n",
    "    geom_histogram(bins = 15) +\n",
    "    labs(x = \"Survival\", y = \"Average Fare(In Pounds)\", fill = \"Survived?\")+\n",
    "    scale_x_continuous(breaks = seq(from = 0, to = 85, by = 15))\n",
    "    \n",
    "FarevSurvived"
   ]
  },
  {
   "cell_type": "code",
   "execution_count": 128,
   "id": "568a8771-bdf7-4ca7-968c-a504761b939e",
   "metadata": {},
   "outputs": [
    {
     "data": {
      "image/png": "[encoded data removed]",
      "text/plain": [
       "plot without title"
      ]
     },
     "metadata": {
      "image/png": {
       "height": 420,
       "width": 420
      }
     },
     "output_type": "display_data"
    }
   ],
   "source": [
    "\n",
    "\n",
    "FarevSurvived <- boat_train |>\n",
    "    group_by(Survived) |>\n",
    "    summarise(avg_fare = mean(Fare)) |>\n",
    "    ggplot(aes(x = Survived, y = avg_fare)) +\n",
    "    geom_bar(stat = \"identity\") +\n",
    "    labs(x = \"Survived? (1 is Yes)\", y = \"Average Fare(In Pounds)\")\n",
    "    \n",
    "FarevSurvived"
   ]
  },
  {
   "cell_type": "code",
   "execution_count": 130,
   "id": "0e62de63-7731-40f0-8fc3-3ac0f89e33d1",
   "metadata": {},
   "outputs": [
    {
     "name": "stderr",
     "output_type": "stream",
     "text": [
      "Warning message:\n",
      "“Removed 2 rows containing non-finite values (stat_bin).”\n",
      "Warning message:\n",
      "“Removed 4 rows containing missing values (geom_bar).”\n"
     ]
    },
    {
     "data": {
      "image/png": "[encoded data removed]",
      "text/plain": [
       "plot without title"
      ]
     },
     "metadata": {
      "image/png": {
       "height": 420,
       "width": 420
      }
     },
     "output_type": "display_data"
    }
   ],
   "source": [
    "FarevSurvived <- temp_data_graph |>\n",
    "    ggplot(aes(x = Embarked_numeric, fill = as_factor(Survived_char))) +\n",
    "    geom_histogram(bins = 5, position = \"fill\") +\n",
    "    labs(x = \"Port of Emarkment\", y = \"Percetage of Survival\", fill = \"Survived?\") +\n",
    "    scale_x_continuous(breaks = c(0, 1, 2), labels = c(\"Southampton\", \"Cherbourg\", \"Queenstown\"))\n",
    "    \n",
    "FarevSurvived"
   ]
  },
  {
   "cell_type": "code",
   "execution_count": 29,
   "id": "21ae39c4-d691-412d-a70e-c926023a6262",
   "metadata": {},
   "outputs": [
    {
     "data": {
      "image/png": "[encoded data removed]",
      "text/plain": [
       "plot without title"
      ]
     },
     "metadata": {
      "image/png": {
       "height": 420,
       "width": 420
      }
     },
     "output_type": "display_data"
    }
   ],
   "source": [
    "\n",
    "# visualisation (scatter plot) of the Fare vs age of passenger, colouring by sex.\n",
    "\n",
    "fare_plot <- boat_train |> ggplot(aes(x = Age, y = Fare, colour = Sex)) + \n",
    "    geom_point() + \n",
    "    labs(x = \"Age of passenger\", y = \"Boat Fare (insert units)\", colour = \"Sex\") +\n",
    "    ggtitle(\"Relationship Between Age and Fare Price\")\n",
    "\n",
    "fare_plot #Age appears to have no effect on fare price, with the exception of a few outliers"
   ]
  },
  {
   "cell_type": "code",
   "execution_count": 11,
   "id": "17e0075a-420d-4d0a-8137-0344dcb5e649",
   "metadata": {},
   "outputs": [
    {
     "data": {
      "image/png": "[encoded data removed]",
      "text/plain": [
       "plot without title"
      ]
     },
     "metadata": {
      "image/png": {
       "height": 420,
       "width": 420
      }
     },
     "output_type": "display_data"
    }
   ],
   "source": [
    "\n",
    "#bar graph to display how many people survived vs how many did not.(percentage of survival)\n",
    "\n",
    "temp_data_graph <- boat_train |>\n",
    "    mutate(Survived_char = ifelse(Survived == 1, \"Survived\", ifelse(Survived == 0, \"Did not survive\", NA)))\n",
    "\n",
    "survival_bar_plot <- ggplot(temp_data_graph, aes(x = Sex, fill = as_factor(Survived_char))) +\n",
    "    geom_bar(position = \"fill\") +\n",
    "    labs(x = \"Sex of passenger\", y = \"Percentage of survival\", fill = \"Survival\")\n",
    "\n",
    "survival_bar_plot"
   ]
  },
  {
   "cell_type": "code",
   "execution_count": 12,
   "id": "5c643683-606f-45b4-99c8-b59ee2b63d9e",
   "metadata": {},
   "outputs": [
    {
     "data": {
      "text/html": [
       "<table class=\"dataframe\">\n",
       "<caption>A tibble: 2 × 2</caption>\n",
       "<thead>\n",
       "\t<tr><th scope=col>Sex</th><th scope=col>Number_of_passengers</th></tr>\n",
       "\t<tr><th scope=col>&lt;chr&gt;</th><th scope=col>&lt;int&gt;</th></tr>\n",
       "</thead>\n",
       "<tbody>\n",
       "\t<tr><td>female</td><td>170</td></tr>\n",
       "\t<tr><td>male  </td><td>329</td></tr>\n",
       "</tbody>\n",
       "</table>\n"
      ],
      "text/latex": [
       "A tibble: 2 × 2\n",
       "\\begin{tabular}{ll}\n",
       " Sex & Number\\_of\\_passengers\\\\\n",
       " <chr> & <int>\\\\\n",
       "\\hline\n",
       "\t female & 170\\\\\n",
       "\t male   & 329\\\\\n",
       "\\end{tabular}\n"
      ],
      "text/markdown": [
       "\n",
       "A tibble: 2 × 2\n",
       "\n",
       "| Sex &lt;chr&gt; | Number_of_passengers &lt;int&gt; |\n",
       "|---|---|\n",
       "| female | 170 |\n",
       "| male   | 329 |\n",
       "\n"
      ],
      "text/plain": [
       "  Sex    Number_of_passengers\n",
       "1 female 170                 \n",
       "2 male   329                 "
      ]
     },
     "metadata": {},
     "output_type": "display_data"
    }
   ],
   "source": [
    "\n",
    "#summary table for how many men and women are there in the training data.\n",
    "\n",
    "summary_table_sex <- boat_train |>\n",
    "    group_by(Sex) |>\n",
    "    summarize(Number_of_passengers = n())\n",
    "\n",
    "summary_table_sex\n",
    "\n",
    "#this table emphasizes the importance of looking at the proportion of women that survived versus women that passed\n",
    "#more men boarded the ship, thus more men having passed than women is not surprising, proportion of survival within each sex is important"
   ]
  },
  {
   "cell_type": "code",
   "execution_count": 13,
   "id": "6e4633fc-6faf-4579-b2ef-c35e05339be5",
   "metadata": {},
   "outputs": [
    {
     "data": {
      "text/html": [
       "<table class=\"dataframe\">\n",
       "<caption>A tibble: 1 × 1</caption>\n",
       "<thead>\n",
       "\t<tr><th scope=col>mean_age</th></tr>\n",
       "\t<tr><th scope=col>&lt;dbl&gt;</th></tr>\n",
       "</thead>\n",
       "<tbody>\n",
       "\t<tr><td>29.34435</td></tr>\n",
       "</tbody>\n",
       "</table>\n"
      ],
      "text/latex": [
       "A tibble: 1 × 1\n",
       "\\begin{tabular}{l}\n",
       " mean\\_age\\\\\n",
       " <dbl>\\\\\n",
       "\\hline\n",
       "\t 29.34435\\\\\n",
       "\\end{tabular}\n"
      ],
      "text/markdown": [
       "\n",
       "A tibble: 1 × 1\n",
       "\n",
       "| mean_age &lt;dbl&gt; |\n",
       "|---|\n",
       "| 29.34435 |\n",
       "\n"
      ],
      "text/plain": [
       "  mean_age\n",
       "1 29.34435"
      ]
     },
     "metadata": {},
     "output_type": "display_data"
    },
    {
     "data": {
      "text/html": [
       "<table class=\"dataframe\">\n",
       "<caption>A tibble: 3 × 2</caption>\n",
       "<thead>\n",
       "\t<tr><th scope=col>Passenger_Class</th><th scope=col>Number_of_passengers</th></tr>\n",
       "\t<tr><th scope=col>&lt;dbl&gt;</th><th scope=col>&lt;int&gt;</th></tr>\n",
       "</thead>\n",
       "<tbody>\n",
       "\t<tr><td>1</td><td>125</td></tr>\n",
       "\t<tr><td>2</td><td>124</td></tr>\n",
       "\t<tr><td>3</td><td>250</td></tr>\n",
       "</tbody>\n",
       "</table>\n"
      ],
      "text/latex": [
       "A tibble: 3 × 2\n",
       "\\begin{tabular}{ll}\n",
       " Passenger\\_Class & Number\\_of\\_passengers\\\\\n",
       " <dbl> & <int>\\\\\n",
       "\\hline\n",
       "\t 1 & 125\\\\\n",
       "\t 2 & 124\\\\\n",
       "\t 3 & 250\\\\\n",
       "\\end{tabular}\n"
      ],
      "text/markdown": [
       "\n",
       "A tibble: 3 × 2\n",
       "\n",
       "| Passenger_Class &lt;dbl&gt; | Number_of_passengers &lt;int&gt; |\n",
       "|---|---|\n",
       "| 1 | 125 |\n",
       "| 2 | 124 |\n",
       "| 3 | 250 |\n",
       "\n"
      ],
      "text/plain": [
       "  Passenger_Class Number_of_passengers\n",
       "1 1               125                 \n",
       "2 2               124                 \n",
       "3 3               250                 "
      ]
     },
     "metadata": {},
     "output_type": "display_data"
    },
    {
     "data": {
      "text/html": [
       "<table class=\"dataframe\">\n",
       "<caption>A tibble: 1 × 1</caption>\n",
       "<thead>\n",
       "\t<tr><th scope=col>mean_children</th></tr>\n",
       "\t<tr><th scope=col>&lt;dbl&gt;</th></tr>\n",
       "</thead>\n",
       "<tbody>\n",
       "\t<tr><td>0.4268537</td></tr>\n",
       "</tbody>\n",
       "</table>\n"
      ],
      "text/latex": [
       "A tibble: 1 × 1\n",
       "\\begin{tabular}{l}\n",
       " mean\\_children\\\\\n",
       " <dbl>\\\\\n",
       "\\hline\n",
       "\t 0.4268537\\\\\n",
       "\\end{tabular}\n"
      ],
      "text/markdown": [
       "\n",
       "A tibble: 1 × 1\n",
       "\n",
       "| mean_children &lt;dbl&gt; |\n",
       "|---|\n",
       "| 0.4268537 |\n",
       "\n"
      ],
      "text/plain": [
       "  mean_children\n",
       "1 0.4268537    "
      ]
     },
     "metadata": {},
     "output_type": "display_data"
    }
   ],
   "source": [
    "\n",
    "#Adding summary table for age (years) for training data\n",
    "\n",
    "summary_table_age <- boat_train |>\n",
    "    summarize(mean_age = mean(Age))\n",
    "\n",
    "summary_table_age\n",
    "\n",
    "#adding a summary table for the number of passengers in each class for training data:\n",
    "\n",
    "summary_table_class <- boat_train |>\n",
    "    group_by(Passenger_Class) |>\n",
    "    summarize(Number_of_passengers = n())\n",
    "\n",
    "summary_table_class\n",
    "\n",
    "#Adding summary table for number of children for training data\n",
    "\n",
    "summary_table_children <- boat_train |>\n",
    "    summarize(mean_children = mean(NumberofParents_children))\n",
    "\n",
    "summary_table_children"
   ]
  },
  {
   "cell_type": "code",
   "execution_count": 30,
   "id": "211f477b-5a86-41b6-a979-7bd83566ecfa",
   "metadata": {},
   "outputs": [],
   "source": [
    "set.seed(911)\n",
    "\n",
    "boat_train_model <- boat_train |>\n",
    "    select(-Sex)\n",
    "#Now we start the process of developing a model to predict weather a given passenger survived the titanic crash.\n",
    "\n",
    "boat_spec_tune <- knn_spec <- nearest_neighbor(weight_func = \"rectangular\", neighbors = tune()) |>\n",
    "  set_engine(\"kknn\") |>\n",
    "  set_mode(\"classification\")\n",
    "\n",
    "boat_vfold <- vfold_cv(boat_train_model, v = 10, strata = Survived)\n",
    "k_vals <- tibble(neighbors = seq(from = 1, to = 35, by = 2))\n"
   ]
  },
  {
   "cell_type": "code",
   "execution_count": 43,
   "id": "e2cc47e3-aa54-4554-b333-9cd9b9ee0d6c",
   "metadata": {
    "tags": []
   },
   "outputs": [
    {
     "name": "stderr",
     "output_type": "stream",
     "text": [
      "\u001b[31mx\u001b[39m \u001b[31mFold01: preprocessor 1/1, model 1/1 (predictions):\n",
      "  \u001b[1m\u001b[33mError\u001b[31m in \u001b[1m\u001b[1m`mutate()`:\u001b[22m\n",
      "  \u001b[1m\u001b[22m\u001b[33m!\u001b[31m Problem while computing `.row = orig_rows`.\n",
      "  \u001b[31m✖\u001b[31m `.row` must be size 50 or 1, not 51.\u001b[39m\n",
      "\n",
      "\u001b[31mx\u001b[39m \u001b[31mFold10: preprocessor 1/1, model 1/1 (predictions):\n",
      "  \u001b[1m\u001b[33mError\u001b[31m in \u001b[1m\u001b[1m`mutate()`:\u001b[22m\n",
      "  \u001b[1m\u001b[22m\u001b[33m!\u001b[31m Problem while computing `.row = orig_rows`.\n",
      "  \u001b[31m✖\u001b[31m `.row` must be size 48 or 1, not 49.\u001b[39m\n",
      "\n",
      "\u001b[31mx\u001b[39m \u001b[31mFold01: preprocessor 1/1, model 1/1 (predictions):\n",
      "  \u001b[1m\u001b[33mError\u001b[31m in \u001b[1m\u001b[1m`mutate()`:\u001b[22m\n",
      "  \u001b[1m\u001b[22m\u001b[33m!\u001b[31m Problem while computing `.row = orig_rows`.\n",
      "  \u001b[31m✖\u001b[31m `.row` must be size 50 or 1, not 51.\u001b[39m\n",
      "\n",
      "\u001b[31mx\u001b[39m \u001b[31mFold10: preprocessor 1/1, model 1/1 (predictions):\n",
      "  \u001b[1m\u001b[33mError\u001b[31m in \u001b[1m\u001b[1m`mutate()`:\u001b[22m\n",
      "  \u001b[1m\u001b[22m\u001b[33m!\u001b[31m Problem while computing `.row = orig_rows`.\n",
      "  \u001b[31m✖\u001b[31m `.row` must be size 48 or 1, not 49.\u001b[39m\n",
      "\n",
      "\u001b[31mx\u001b[39m \u001b[31mFold01: preprocessor 1/1, model 1/1 (predictions):\n",
      "  \u001b[1m\u001b[33mError\u001b[31m in \u001b[1m\u001b[1m`mutate()`:\u001b[22m\n",
      "  \u001b[1m\u001b[22m\u001b[33m!\u001b[31m Problem while computing `.row = orig_rows`.\n",
      "  \u001b[31m✖\u001b[31m `.row` must be size 50 or 1, not 51.\u001b[39m\n",
      "\n",
      "\u001b[31mx\u001b[39m \u001b[31mFold10: preprocessor 1/1, model 1/1 (predictions):\n",
      "  \u001b[1m\u001b[33mError\u001b[31m in \u001b[1m\u001b[1m`mutate()`:\u001b[22m\n",
      "  \u001b[1m\u001b[22m\u001b[33m!\u001b[31m Problem while computing `.row = orig_rows`.\n",
      "  \u001b[31m✖\u001b[31m `.row` must be size 48 or 1, not 49.\u001b[39m\n",
      "\n",
      "\u001b[31mx\u001b[39m \u001b[31mFold01: preprocessor 1/1, model 1/1 (predictions):\n",
      "  \u001b[1m\u001b[33mError\u001b[31m in \u001b[1m\u001b[1m`mutate()`:\u001b[22m\n",
      "  \u001b[1m\u001b[22m\u001b[33m!\u001b[31m Problem while computing `.row = orig_rows`.\n",
      "  \u001b[31m✖\u001b[31m `.row` must be size 50 or 1, not 51.\u001b[39m\n",
      "\n",
      "\u001b[31mx\u001b[39m \u001b[31mFold10: preprocessor 1/1, model 1/1 (predictions):\n",
      "  \u001b[1m\u001b[33mError\u001b[31m in \u001b[1m\u001b[1m`mutate()`:\u001b[22m\n",
      "  \u001b[1m\u001b[22m\u001b[33m!\u001b[31m Problem while computing `.row = orig_rows`.\n",
      "  \u001b[31m✖\u001b[31m `.row` must be size 48 or 1, not 49.\u001b[39m\n",
      "\n",
      "\u001b[31mx\u001b[39m \u001b[31mFold01: preprocessor 1/1, model 1/1 (predictions):\n",
      "  \u001b[1m\u001b[33mError\u001b[31m in \u001b[1m\u001b[1m`mutate()`:\u001b[22m\n",
      "  \u001b[1m\u001b[22m\u001b[33m!\u001b[31m Problem while computing `.row = orig_rows`.\n",
      "  \u001b[31m✖\u001b[31m `.row` must be size 50 or 1, not 51.\u001b[39m\n",
      "\n",
      "\u001b[31mx\u001b[39m \u001b[31mFold10: preprocessor 1/1, model 1/1 (predictions):\n",
      "  \u001b[1m\u001b[33mError\u001b[31m in \u001b[1m\u001b[1m`mutate()`:\u001b[22m\n",
      "  \u001b[1m\u001b[22m\u001b[33m!\u001b[31m Problem while computing `.row = orig_rows`.\n",
      "  \u001b[31m✖\u001b[31m `.row` must be size 48 or 1, not 49.\u001b[39m\n",
      "\n",
      "\u001b[31mx\u001b[39m \u001b[31mFold01: preprocessor 1/1, model 1/1 (predictions):\n",
      "  \u001b[1m\u001b[33mError\u001b[31m in \u001b[1m\u001b[1m`mutate()`:\u001b[22m\n",
      "  \u001b[1m\u001b[22m\u001b[33m!\u001b[31m Problem while computing `.row = orig_rows`.\n",
      "  \u001b[31m✖\u001b[31m `.row` must be size 50 or 1, not 51.\u001b[39m\n",
      "\n",
      "\u001b[31mx\u001b[39m \u001b[31mFold10: preprocessor 1/1, model 1/1 (predictions):\n",
      "  \u001b[1m\u001b[33mError\u001b[31m in \u001b[1m\u001b[1m`mutate()`:\u001b[22m\n",
      "  \u001b[1m\u001b[22m\u001b[33m!\u001b[31m Problem while computing `.row = orig_rows`.\n",
      "  \u001b[31m✖\u001b[31m `.row` must be size 48 or 1, not 49.\u001b[39m\n",
      "\n"
     ]
    },
    {
     "data": {
      "text/html": [
       "<table class=\"dataframe\">\n",
       "<caption>A tibble: 6 × 3</caption>\n",
       "<thead>\n",
       "\t<tr><th scope=col>size</th><th scope=col>model_string</th><th scope=col>accuracy</th></tr>\n",
       "\t<tr><th scope=col>&lt;int&gt;</th><th scope=col>&lt;chr&gt;</th><th scope=col>&lt;dbl&gt;</th></tr>\n",
       "</thead>\n",
       "<tbody>\n",
       "\t<tr><td>1</td><td>Survived ~ Fare                                                                               </td><td>0.6778824</td></tr>\n",
       "\t<tr><td>2</td><td>Survived ~ Fare+Age                                                                           </td><td>0.6781160</td></tr>\n",
       "\t<tr><td>3</td><td>Survived ~ Fare+Age+Number0fSiblings                                                          </td><td>0.7078479</td></tr>\n",
       "\t<tr><td>4</td><td>Survived ~ Fare+Age+Number0fSiblings+NumberofParents_children                                 </td><td>0.7099248</td></tr>\n",
       "\t<tr><td>5</td><td>Survived ~ Fare+Age+Number0fSiblings+NumberofParents_children+Passenger_Class                 </td><td>0.7058872</td></tr>\n",
       "\t<tr><td>6</td><td>Survived ~ Fare+Age+Number0fSiblings+NumberofParents_children+Passenger_Class+Embarked_numeric</td><td>0.7048870</td></tr>\n",
       "</tbody>\n",
       "</table>\n"
      ],
      "text/latex": [
       "A tibble: 6 × 3\n",
       "\\begin{tabular}{lll}\n",
       " size & model\\_string & accuracy\\\\\n",
       " <int> & <chr> & <dbl>\\\\\n",
       "\\hline\n",
       "\t 1 & Survived \\textasciitilde{} Fare                                                                                & 0.6778824\\\\\n",
       "\t 2 & Survived \\textasciitilde{} Fare+Age                                                                            & 0.6781160\\\\\n",
       "\t 3 & Survived \\textasciitilde{} Fare+Age+Number0fSiblings                                                           & 0.7078479\\\\\n",
       "\t 4 & Survived \\textasciitilde{} Fare+Age+Number0fSiblings+NumberofParents\\_children                                  & 0.7099248\\\\\n",
       "\t 5 & Survived \\textasciitilde{} Fare+Age+Number0fSiblings+NumberofParents\\_children+Passenger\\_Class                  & 0.7058872\\\\\n",
       "\t 6 & Survived \\textasciitilde{} Fare+Age+Number0fSiblings+NumberofParents\\_children+Passenger\\_Class+Embarked\\_numeric & 0.7048870\\\\\n",
       "\\end{tabular}\n"
      ],
      "text/markdown": [
       "\n",
       "A tibble: 6 × 3\n",
       "\n",
       "| size &lt;int&gt; | model_string &lt;chr&gt; | accuracy &lt;dbl&gt; |\n",
       "|---|---|---|\n",
       "| 1 | Survived ~ Fare                                                                                | 0.6778824 |\n",
       "| 2 | Survived ~ Fare+Age                                                                            | 0.6781160 |\n",
       "| 3 | Survived ~ Fare+Age+Number0fSiblings                                                           | 0.7078479 |\n",
       "| 4 | Survived ~ Fare+Age+Number0fSiblings+NumberofParents_children                                  | 0.7099248 |\n",
       "| 5 | Survived ~ Fare+Age+Number0fSiblings+NumberofParents_children+Passenger_Class                  | 0.7058872 |\n",
       "| 6 | Survived ~ Fare+Age+Number0fSiblings+NumberofParents_children+Passenger_Class+Embarked_numeric | 0.7048870 |\n",
       "\n"
      ],
      "text/plain": [
       "  size\n",
       "1 1   \n",
       "2 2   \n",
       "3 3   \n",
       "4 4   \n",
       "5 5   \n",
       "6 6   \n",
       "  model_string                                                                                  \n",
       "1 Survived ~ Fare                                                                               \n",
       "2 Survived ~ Fare+Age                                                                           \n",
       "3 Survived ~ Fare+Age+Number0fSiblings                                                          \n",
       "4 Survived ~ Fare+Age+Number0fSiblings+NumberofParents_children                                 \n",
       "5 Survived ~ Fare+Age+Number0fSiblings+NumberofParents_children+Passenger_Class                 \n",
       "6 Survived ~ Fare+Age+Number0fSiblings+NumberofParents_children+Passenger_Class+Embarked_numeric\n",
       "  accuracy \n",
       "1 0.6778824\n",
       "2 0.6781160\n",
       "3 0.7078479\n",
       "4 0.7099248\n",
       "5 0.7058872\n",
       "6 0.7048870"
      ]
     },
     "metadata": {},
     "output_type": "display_data"
    }
   ],
   "source": [
    "set.seed(911)\n",
    "\n",
    "names <- c(\"Passenger_Class\", \"Age\", \"Number0fSiblings\", \"NumberofParents_children\", \"Fare\", \"Embarked_numeric\")\n",
    "\n",
    "# create an empty tibble to store the results\n",
    "accuracies <- tibble(size = integer(), \n",
    "                     model_string = character(), \n",
    "                     accuracy = numeric())\n",
    "\n",
    "\n",
    "# store the total number of predictors\n",
    "n_total <- length(names)\n",
    "\n",
    "# stores selected predictors\n",
    "selected <- c()\n",
    "\n",
    "# for every size from 1 to the total number of predictors\n",
    "for (i in 1:n_total) {\n",
    "    # for every predictor still not added yet\n",
    "    accs <- list()\n",
    "    models <- list()\n",
    "    for (j in 1:length(names)) {\n",
    "        # create a model string for this combination of predictors\n",
    "        preds_new <- c(selected, names[[j]])\n",
    "        model_string <- paste(\"Survived\", \"~\", paste(preds_new, collapse=\"+\"))\n",
    "\n",
    "        # create a recipe from the model string\n",
    "        boat_recipe <- recipe(as.formula(model_string), \n",
    "                                data = boat_train_model) |>\n",
    "                          step_scale(all_predictors()) |>\n",
    "                          step_center(all_predictors())\n",
    "\n",
    "        # tune the KNN classifier with these predictors, \n",
    "        # and collect the accuracy for the best K\n",
    "        acc <- workflow() |>\n",
    "          add_recipe(boat_recipe) |>\n",
    "          add_model(boat_spec_tune) |>\n",
    "          tune_grid(resamples = boat_vfold, grid = k_vals) |>\n",
    "          collect_metrics() |>\n",
    "          filter(.metric == \"accuracy\") |>\n",
    "          summarize(mx = max(mean))\n",
    "        acc <- acc$mx |> unlist()\n",
    "\n",
    "        # add this result to the dataframe\n",
    "        accs[[j]] <- acc\n",
    "        models[[j]] <- model_string\n",
    "    }\n",
    "    jstar <- which.max(unlist(accs))\n",
    "    accuracies <- accuracies |> \n",
    "      add_row(size = i, \n",
    "              model_string = models[[jstar]], \n",
    "              accuracy = accs[[jstar]])\n",
    "    selected <- c(selected, names[[jstar]])\n",
    "    names <- names[-jstar]\n",
    "}\n",
    "accuracies"
   ]
  },
  {
   "cell_type": "code",
   "execution_count": 44,
   "id": "616d8535-8fbe-4765-affa-d2efacb9f5ef",
   "metadata": {},
   "outputs": [
    {
     "name": "stderr",
     "output_type": "stream",
     "text": [
      "\u001b[31mx\u001b[39m \u001b[31mFold01: preprocessor 1/1, model 1/1 (predictions):\n",
      "  \u001b[1m\u001b[33mError\u001b[31m in \u001b[1m\u001b[1m`mutate()`:\u001b[22m\n",
      "  \u001b[1m\u001b[22m\u001b[33m!\u001b[31m Problem while computing `.row = orig_rows`.\n",
      "  \u001b[31m✖\u001b[31m `.row` must be size 50 or 1, not 51.\u001b[39m\n",
      "\n",
      "\u001b[31mx\u001b[39m \u001b[31mFold10: preprocessor 1/1, model 1/1 (predictions):\n",
      "  \u001b[1m\u001b[33mError\u001b[31m in \u001b[1m\u001b[1m`mutate()`:\u001b[22m\n",
      "  \u001b[1m\u001b[22m\u001b[33m!\u001b[31m Problem while computing `.row = orig_rows`.\n",
      "  \u001b[31m✖\u001b[31m `.row` must be size 48 or 1, not 49.\u001b[39m\n",
      "\n"
     ]
    },
    {
     "data": {
      "text/html": [
       "<table class=\"dataframe\">\n",
       "<caption>A tibble: 18 × 7</caption>\n",
       "<thead>\n",
       "\t<tr><th scope=col>neighbors</th><th scope=col>.metric</th><th scope=col>.estimator</th><th scope=col>mean</th><th scope=col>n</th><th scope=col>std_err</th><th scope=col>.config</th></tr>\n",
       "\t<tr><th scope=col>&lt;dbl&gt;</th><th scope=col>&lt;chr&gt;</th><th scope=col>&lt;chr&gt;</th><th scope=col>&lt;dbl&gt;</th><th scope=col>&lt;int&gt;</th><th scope=col>&lt;dbl&gt;</th><th scope=col>&lt;chr&gt;</th></tr>\n",
       "</thead>\n",
       "<tbody>\n",
       "\t<tr><td> 1</td><td>accuracy</td><td>binary</td><td>0.5914486</td><td>8</td><td>0.02946158</td><td>Preprocessor1_Model01</td></tr>\n",
       "\t<tr><td> 3</td><td>accuracy</td><td>binary</td><td>0.6341176</td><td>8</td><td>0.02888217</td><td>Preprocessor1_Model02</td></tr>\n",
       "\t<tr><td> 5</td><td>accuracy</td><td>binary</td><td>0.6393177</td><td>8</td><td>0.01869223</td><td>Preprocessor1_Model03</td></tr>\n",
       "\t<tr><td> 7</td><td>accuracy</td><td>binary</td><td>0.6746749</td><td>8</td><td>0.02672077</td><td>Preprocessor1_Model04</td></tr>\n",
       "\t<tr><td> 9</td><td>accuracy</td><td>binary</td><td>0.6770278</td><td>8</td><td>0.02023582</td><td>Preprocessor1_Model05</td></tr>\n",
       "\t<tr><td>11</td><td>accuracy</td><td>binary</td><td>0.6872299</td><td>8</td><td>0.01930536</td><td>Preprocessor1_Model06</td></tr>\n",
       "\t<tr><td>13</td><td>accuracy</td><td>binary</td><td>0.6745748</td><td>8</td><td>0.01835194</td><td>Preprocessor1_Model07</td></tr>\n",
       "\t<tr><td>15</td><td>accuracy</td><td>binary</td><td>0.6894298</td><td>8</td><td>0.01966350</td><td>Preprocessor1_Model08</td></tr>\n",
       "\t<tr><td>17</td><td>accuracy</td><td>binary</td><td>0.6946849</td><td>8</td><td>0.02699646</td><td>Preprocessor1_Model09</td></tr>\n",
       "\t<tr><td>19</td><td>accuracy</td><td>binary</td><td>0.7046849</td><td>8</td><td>0.02297774</td><td>Preprocessor1_Model10</td></tr>\n",
       "\t<tr><td>21</td><td>accuracy</td><td>binary</td><td>0.7022869</td><td>8</td><td>0.02812520</td><td>Preprocessor1_Model11</td></tr>\n",
       "\t<tr><td>23</td><td>accuracy</td><td>binary</td><td>0.7048870</td><td>8</td><td>0.02806357</td><td>Preprocessor1_Model12</td></tr>\n",
       "\t<tr><td>25</td><td>accuracy</td><td>binary</td><td>0.6996359</td><td>8</td><td>0.02772625</td><td>Preprocessor1_Model13</td></tr>\n",
       "\t<tr><td>27</td><td>accuracy</td><td>binary</td><td>0.6871339</td><td>8</td><td>0.02827172</td><td>Preprocessor1_Model14</td></tr>\n",
       "\t<tr><td>29</td><td>accuracy</td><td>binary</td><td>0.6997869</td><td>8</td><td>0.03020134</td><td>Preprocessor1_Model15</td></tr>\n",
       "\t<tr><td>31</td><td>accuracy</td><td>binary</td><td>0.6948359</td><td>8</td><td>0.02930255</td><td>Preprocessor1_Model16</td></tr>\n",
       "\t<tr><td>33</td><td>accuracy</td><td>binary</td><td>0.7024400</td><td>8</td><td>0.03290202</td><td>Preprocessor1_Model17</td></tr>\n",
       "\t<tr><td>35</td><td>accuracy</td><td>binary</td><td>0.6923379</td><td>8</td><td>0.03345496</td><td>Preprocessor1_Model18</td></tr>\n",
       "</tbody>\n",
       "</table>\n"
      ],
      "text/latex": [
       "A tibble: 18 × 7\n",
       "\\begin{tabular}{lllllll}\n",
       " neighbors & .metric & .estimator & mean & n & std\\_err & .config\\\\\n",
       " <dbl> & <chr> & <chr> & <dbl> & <int> & <dbl> & <chr>\\\\\n",
       "\\hline\n",
       "\t  1 & accuracy & binary & 0.5914486 & 8 & 0.02946158 & Preprocessor1\\_Model01\\\\\n",
       "\t  3 & accuracy & binary & 0.6341176 & 8 & 0.02888217 & Preprocessor1\\_Model02\\\\\n",
       "\t  5 & accuracy & binary & 0.6393177 & 8 & 0.01869223 & Preprocessor1\\_Model03\\\\\n",
       "\t  7 & accuracy & binary & 0.6746749 & 8 & 0.02672077 & Preprocessor1\\_Model04\\\\\n",
       "\t  9 & accuracy & binary & 0.6770278 & 8 & 0.02023582 & Preprocessor1\\_Model05\\\\\n",
       "\t 11 & accuracy & binary & 0.6872299 & 8 & 0.01930536 & Preprocessor1\\_Model06\\\\\n",
       "\t 13 & accuracy & binary & 0.6745748 & 8 & 0.01835194 & Preprocessor1\\_Model07\\\\\n",
       "\t 15 & accuracy & binary & 0.6894298 & 8 & 0.01966350 & Preprocessor1\\_Model08\\\\\n",
       "\t 17 & accuracy & binary & 0.6946849 & 8 & 0.02699646 & Preprocessor1\\_Model09\\\\\n",
       "\t 19 & accuracy & binary & 0.7046849 & 8 & 0.02297774 & Preprocessor1\\_Model10\\\\\n",
       "\t 21 & accuracy & binary & 0.7022869 & 8 & 0.02812520 & Preprocessor1\\_Model11\\\\\n",
       "\t 23 & accuracy & binary & 0.7048870 & 8 & 0.02806357 & Preprocessor1\\_Model12\\\\\n",
       "\t 25 & accuracy & binary & 0.6996359 & 8 & 0.02772625 & Preprocessor1\\_Model13\\\\\n",
       "\t 27 & accuracy & binary & 0.6871339 & 8 & 0.02827172 & Preprocessor1\\_Model14\\\\\n",
       "\t 29 & accuracy & binary & 0.6997869 & 8 & 0.03020134 & Preprocessor1\\_Model15\\\\\n",
       "\t 31 & accuracy & binary & 0.6948359 & 8 & 0.02930255 & Preprocessor1\\_Model16\\\\\n",
       "\t 33 & accuracy & binary & 0.7024400 & 8 & 0.03290202 & Preprocessor1\\_Model17\\\\\n",
       "\t 35 & accuracy & binary & 0.6923379 & 8 & 0.03345496 & Preprocessor1\\_Model18\\\\\n",
       "\\end{tabular}\n"
      ],
      "text/markdown": [
       "\n",
       "A tibble: 18 × 7\n",
       "\n",
       "| neighbors &lt;dbl&gt; | .metric &lt;chr&gt; | .estimator &lt;chr&gt; | mean &lt;dbl&gt; | n &lt;int&gt; | std_err &lt;dbl&gt; | .config &lt;chr&gt; |\n",
       "|---|---|---|---|---|---|---|\n",
       "|  1 | accuracy | binary | 0.5914486 | 8 | 0.02946158 | Preprocessor1_Model01 |\n",
       "|  3 | accuracy | binary | 0.6341176 | 8 | 0.02888217 | Preprocessor1_Model02 |\n",
       "|  5 | accuracy | binary | 0.6393177 | 8 | 0.01869223 | Preprocessor1_Model03 |\n",
       "|  7 | accuracy | binary | 0.6746749 | 8 | 0.02672077 | Preprocessor1_Model04 |\n",
       "|  9 | accuracy | binary | 0.6770278 | 8 | 0.02023582 | Preprocessor1_Model05 |\n",
       "| 11 | accuracy | binary | 0.6872299 | 8 | 0.01930536 | Preprocessor1_Model06 |\n",
       "| 13 | accuracy | binary | 0.6745748 | 8 | 0.01835194 | Preprocessor1_Model07 |\n",
       "| 15 | accuracy | binary | 0.6894298 | 8 | 0.01966350 | Preprocessor1_Model08 |\n",
       "| 17 | accuracy | binary | 0.6946849 | 8 | 0.02699646 | Preprocessor1_Model09 |\n",
       "| 19 | accuracy | binary | 0.7046849 | 8 | 0.02297774 | Preprocessor1_Model10 |\n",
       "| 21 | accuracy | binary | 0.7022869 | 8 | 0.02812520 | Preprocessor1_Model11 |\n",
       "| 23 | accuracy | binary | 0.7048870 | 8 | 0.02806357 | Preprocessor1_Model12 |\n",
       "| 25 | accuracy | binary | 0.6996359 | 8 | 0.02772625 | Preprocessor1_Model13 |\n",
       "| 27 | accuracy | binary | 0.6871339 | 8 | 0.02827172 | Preprocessor1_Model14 |\n",
       "| 29 | accuracy | binary | 0.6997869 | 8 | 0.03020134 | Preprocessor1_Model15 |\n",
       "| 31 | accuracy | binary | 0.6948359 | 8 | 0.02930255 | Preprocessor1_Model16 |\n",
       "| 33 | accuracy | binary | 0.7024400 | 8 | 0.03290202 | Preprocessor1_Model17 |\n",
       "| 35 | accuracy | binary | 0.6923379 | 8 | 0.03345496 | Preprocessor1_Model18 |\n",
       "\n"
      ],
      "text/plain": [
       "   neighbors .metric  .estimator mean      n std_err    .config              \n",
       "1   1        accuracy binary     0.5914486 8 0.02946158 Preprocessor1_Model01\n",
       "2   3        accuracy binary     0.6341176 8 0.02888217 Preprocessor1_Model02\n",
       "3   5        accuracy binary     0.6393177 8 0.01869223 Preprocessor1_Model03\n",
       "4   7        accuracy binary     0.6746749 8 0.02672077 Preprocessor1_Model04\n",
       "5   9        accuracy binary     0.6770278 8 0.02023582 Preprocessor1_Model05\n",
       "6  11        accuracy binary     0.6872299 8 0.01930536 Preprocessor1_Model06\n",
       "7  13        accuracy binary     0.6745748 8 0.01835194 Preprocessor1_Model07\n",
       "8  15        accuracy binary     0.6894298 8 0.01966350 Preprocessor1_Model08\n",
       "9  17        accuracy binary     0.6946849 8 0.02699646 Preprocessor1_Model09\n",
       "10 19        accuracy binary     0.7046849 8 0.02297774 Preprocessor1_Model10\n",
       "11 21        accuracy binary     0.7022869 8 0.02812520 Preprocessor1_Model11\n",
       "12 23        accuracy binary     0.7048870 8 0.02806357 Preprocessor1_Model12\n",
       "13 25        accuracy binary     0.6996359 8 0.02772625 Preprocessor1_Model13\n",
       "14 27        accuracy binary     0.6871339 8 0.02827172 Preprocessor1_Model14\n",
       "15 29        accuracy binary     0.6997869 8 0.03020134 Preprocessor1_Model15\n",
       "16 31        accuracy binary     0.6948359 8 0.02930255 Preprocessor1_Model16\n",
       "17 33        accuracy binary     0.7024400 8 0.03290202 Preprocessor1_Model17\n",
       "18 35        accuracy binary     0.6923379 8 0.03345496 Preprocessor1_Model18"
      ]
     },
     "metadata": {},
     "output_type": "display_data"
    }
   ],
   "source": [
    "#tuning the model to find the best value of k using the best predictors as seen above.\n",
    "\n",
    "boat_recipe <- recipe(Survived ~ Fare + Age + Number0fSiblings + NumberofParents_children + Passenger_Class + Embarked_numeric , data = boat_train_model) |>\n",
    "    step_scale(all_predictors()) |>\n",
    "    step_center(all_predictors())\n",
    "\n",
    "boat_model_stats <- workflow() |>\n",
    "  add_recipe(boat_recipe) |>\n",
    "  add_model(boat_spec_tune) |>\n",
    "  tune_grid(resamples = boat_vfold, grid = k_vals) |>\n",
    "  collect_metrics() |>\n",
    "  filter(.metric == \"accuracy\")\n",
    "\n",
    "boat_model_stats\n",
    "    "
   ]
  },
  {
   "cell_type": "code",
   "execution_count": 45,
   "id": "0b100c9a-5366-4750-89e8-ebb3b0306e32",
   "metadata": {},
   "outputs": [
    {
     "data": {
      "text/plain": [
       "<ScaleContinuousPosition>\n",
       " Range:  \n",
       " Limits:  0.4 --    1"
      ]
     },
     "metadata": {},
     "output_type": "display_data"
    },
    {
     "data": {
      "image/png": "[encoded data removed]",
      "text/plain": [
       "plot without title"
      ]
     },
     "metadata": {
      "image/png": {
       "height": 420,
       "width": 420
      }
     },
     "output_type": "display_data"
    }
   ],
   "source": [
    "accuracy_versus_k <- ggplot(boat_model_stats, aes(x = neighbors, y = mean))+\n",
    "       geom_point() +\n",
    "       geom_line() +\n",
    "       labs(x = \"Neighbors\", y = \"Accuracy Estimate\") +\n",
    "       scale_x_continuous(breaks = seq(0, 35, by = 2))\n",
    "       scale_y_continuous(limits = c(0.4, 1.0))\n",
    "\n",
    "accuracy_versus_k"
   ]
  },
  {
   "cell_type": "code",
   "execution_count": 46,
   "id": "730623fb-eb3c-43d2-9543-2a1505a86b1b",
   "metadata": {},
   "outputs": [
    {
     "data": {
      "text/html": [
       "23"
      ],
      "text/latex": [
       "23"
      ],
      "text/markdown": [
       "23"
      ],
      "text/plain": [
       "[1] 23"
      ]
     },
     "metadata": {},
     "output_type": "display_data"
    }
   ],
   "source": [
    "set.seed(911)\n",
    "#pulling the max value of k and retraining the model with given k:\n",
    "\n",
    "kmax <- boat_model_stats|>\n",
    "    filter(mean == max(mean)) |>\n",
    "    pull(neighbors)\n",
    "\n",
    "boat_spec <- knn_spec <- nearest_neighbor(weight_func = \"rectangular\", neighbors = kmax) |>\n",
    "  set_engine(\"kknn\") |>\n",
    "  set_mode(\"classification\")\n",
    "\n",
    "boat_fit <- workflow() |>\n",
    "  add_recipe(boat_recipe) |>\n",
    "  add_model(boat_spec) |>\n",
    "  fit(data = boat_train_model)\n",
    "\n",
    "kmax"
   ]
  },
  {
   "cell_type": "code",
   "execution_count": 47,
   "id": "1b9bea2b-96ec-4c23-9917-b086faac2f5e",
   "metadata": {},
   "outputs": [
    {
     "data": {
      "text/html": [
       "<table class=\"dataframe\">\n",
       "<caption>A tibble: 1 × 3</caption>\n",
       "<thead>\n",
       "\t<tr><th scope=col>.metric</th><th scope=col>.estimator</th><th scope=col>.estimate</th></tr>\n",
       "\t<tr><th scope=col>&lt;chr&gt;</th><th scope=col>&lt;chr&gt;</th><th scope=col>&lt;dbl&gt;</th></tr>\n",
       "</thead>\n",
       "<tbody>\n",
       "\t<tr><td>accuracy</td><td>binary</td><td>0.7534884</td></tr>\n",
       "</tbody>\n",
       "</table>\n"
      ],
      "text/latex": [
       "A tibble: 1 × 3\n",
       "\\begin{tabular}{lll}\n",
       " .metric & .estimator & .estimate\\\\\n",
       " <chr> & <chr> & <dbl>\\\\\n",
       "\\hline\n",
       "\t accuracy & binary & 0.7534884\\\\\n",
       "\\end{tabular}\n"
      ],
      "text/markdown": [
       "\n",
       "A tibble: 1 × 3\n",
       "\n",
       "| .metric &lt;chr&gt; | .estimator &lt;chr&gt; | .estimate &lt;dbl&gt; |\n",
       "|---|---|---|\n",
       "| accuracy | binary | 0.7534884 |\n",
       "\n"
      ],
      "text/plain": [
       "  .metric  .estimator .estimate\n",
       "1 accuracy binary     0.7534884"
      ]
     },
     "metadata": {},
     "output_type": "display_data"
    }
   ],
   "source": [
    "set.seed(911)\n",
    "#testing the model's accuracy on testing data:\n",
    "\n",
    "accuracy_estimate <- predict(boat_fit, boat_test) |>\n",
    "    bind_cols(boat_test) |>\n",
    "    metrics(truth = Survived, estimate = .pred_class) |>\n",
    "    filter(.metric == \"accuracy\")\n",
    "\n",
    "accuracy_estimate"
   ]
  },
  {
   "cell_type": "code",
   "execution_count": 36,
   "id": "c730099b-1f9e-4384-b4f9-96df52014869",
   "metadata": {},
   "outputs": [
    {
     "data": {
      "text/html": [
       "<table class=\"dataframe\">\n",
       "<caption>A tibble: 2 × 3</caption>\n",
       "<thead>\n",
       "\t<tr><th scope=col>Survived</th><th scope=col>count</th><th scope=col>percentage</th></tr>\n",
       "\t<tr><th scope=col>&lt;fct&gt;</th><th scope=col>&lt;int&gt;</th><th scope=col>&lt;dbl&gt;</th></tr>\n",
       "</thead>\n",
       "<tbody>\n",
       "\t<tr><td>0</td><td>128</td><td>0.5953488</td></tr>\n",
       "\t<tr><td>1</td><td> 87</td><td>0.4046512</td></tr>\n",
       "</tbody>\n",
       "</table>\n"
      ],
      "text/latex": [
       "A tibble: 2 × 3\n",
       "\\begin{tabular}{lll}\n",
       " Survived & count & percentage\\\\\n",
       " <fct> & <int> & <dbl>\\\\\n",
       "\\hline\n",
       "\t 0 & 128 & 0.5953488\\\\\n",
       "\t 1 &  87 & 0.4046512\\\\\n",
       "\\end{tabular}\n"
      ],
      "text/markdown": [
       "\n",
       "A tibble: 2 × 3\n",
       "\n",
       "| Survived &lt;fct&gt; | count &lt;int&gt; | percentage &lt;dbl&gt; |\n",
       "|---|---|---|\n",
       "| 0 | 128 | 0.5953488 |\n",
       "| 1 |  87 | 0.4046512 |\n",
       "\n"
      ],
      "text/plain": [
       "  Survived count percentage\n",
       "1 0        128   0.5953488 \n",
       "2 1         87   0.4046512 "
      ]
     },
     "metadata": {},
     "output_type": "display_data"
    }
   ],
   "source": [
    "#finding the majority class prediction:\n",
    "\n",
    "majority_class <- boat_test |>\n",
    "    group_by(Survived) |>\n",
    "    summarise(count = n(), percentage = n()/nrow(boat_test))\n",
    "\n",
    "majority_class"
   ]
  },
  {
   "cell_type": "code",
   "execution_count": 38,
   "id": "76c209fd-e5d2-4b77-95d4-6c6284b67caf",
   "metadata": {},
   "outputs": [
    {
     "ename": "ERROR",
     "evalue": "Error in group_by(predictions, .pred_class, Survived): object 'predictions' not found\n",
     "output_type": "error",
     "traceback": [
      "Error in group_by(predictions, .pred_class, Survived): object 'predictions' not found\nTraceback:\n",
      "1. summarise(group_by(predictions, .pred_class, Survived), count = n()) %>% \n .     ungroup() %>% mutate(percent = count/sum(count))",
      "2. mutate(., percent = count/sum(count))",
      "3. ungroup(.)",
      "4. summarise(group_by(predictions, .pred_class, Survived), count = n())",
      "5. group_by(predictions, .pred_class, Survived)"
     ]
    }
   ],
   "source": [
    "\n",
    "\n",
    "analysis1 <- predictions |>\n",
    "    group_by(.pred_class, Survived) |>\n",
    "    summarise(count = n()) %>%\n",
    "    ungroup() %>% \n",
    "    mutate(percent = count/sum(count))\n",
    "\n",
    "analysis1\n"
   ]
  },
  {
   "cell_type": "code",
   "execution_count": null,
   "id": "59583927-ff9a-4435-8363-6a4f327f6ce0",
   "metadata": {},
   "outputs": [],
   "source": [
    "analysis2 <- predict(boat_fit, boat_test) |>\n",
    "    bind_cols(boat_test) |>\n",
    "    filter(Survived != .pred_class) |>\n",
    "    group_by(Passenger_Class, Survived)\t|>\n",
    "    summarise(count = n())\n",
    "percent_of_pop <- boat_test |>\n",
    "    group_by(Passenger_Class) |>\n",
    "    summarise(count = n()) |>\n",
    "    ungroup() |> \n",
    "    mutate(percent = count/sum(count))\n",
    "    \n",
    "analysis2\n",
    "\n",
    "percent_of_pop"
   ]
  },
  {
   "cell_type": "code",
   "execution_count": null,
   "id": "2a008e66-d07e-4ebf-97e4-6bb5eccc3447",
   "metadata": {},
   "outputs": [],
   "source": [
    "predictions <- predict(boat_fit, boat_test) |>\n",
    "    bind_cols(boat_test)\n",
    "\n",
    "predictions %>%\n",
    "group_by(sex_binary, Survived == .pred_class) %>%\n",
    "summarize(count = n()) %>%\n",
    "mutate(prop = count/sum(count))\n",
    "\n",
    "\n",
    "predictions"
   ]
  },
  {
   "cell_type": "code",
   "execution_count": null,
   "id": "9773db6b-392b-49ed-ac33-ab04c9c30d2d",
   "metadata": {},
   "outputs": [],
   "source": []
  }
 ],
 "metadata": {
  "kernelspec": {
   "display_name": "R",
   "language": "R",
   "name": "ir"
  },
  "language_info": {
   "codemirror_mode": "r",
   "file_extension": ".r",
   "mimetype": "text/x-r-source",
   "name": "R",
   "pygments_lexer": "r",
   "version": "4.1.3"
  }
 },
 "nbformat": 4,
 "nbformat_minor": 5
}
